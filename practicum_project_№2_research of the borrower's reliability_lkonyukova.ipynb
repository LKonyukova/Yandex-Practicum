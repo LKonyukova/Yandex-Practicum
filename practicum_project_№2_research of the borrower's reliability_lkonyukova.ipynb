{
 "cells": [
  {
   "cell_type": "markdown",
   "id": "aab07f57",
   "metadata": {
    "toc": true
   },
   "source": [
    "<h1>Содержание<span class=\"tocSkip\"></span></h1>\n",
    "<div class=\"toc\"><ul class=\"toc-item\"><li><span><a href=\"#Описание-проекта\" data-toc-modified-id=\"Описание-проекта-1\"><span class=\"toc-item-num\">1&nbsp;&nbsp;</span>Описание проекта</a></span></li><li><span><a href=\"#Предобработка-данных\" data-toc-modified-id=\"Предобработка-данных-2\"><span class=\"toc-item-num\">2&nbsp;&nbsp;</span>Предобработка данных</a></span><ul class=\"toc-item\"><li><span><a href=\"#Удаление-пропусков\" data-toc-modified-id=\"Удаление-пропусков-2.1\"><span class=\"toc-item-num\">2.1&nbsp;&nbsp;</span>Удаление пропусков</a></span></li><li><span><a href=\"#Обработка-аномальных-значений\" data-toc-modified-id=\"Обработка-аномальных-значений-2.2\"><span class=\"toc-item-num\">2.2&nbsp;&nbsp;</span>Обработка аномальных значений</a></span></li><li><span><a href=\"#Удаление-пропусков-(продолжение)\" data-toc-modified-id=\"Удаление-пропусков-(продолжение)-2.3\"><span class=\"toc-item-num\">2.3&nbsp;&nbsp;</span>Удаление пропусков (продолжение)</a></span></li><li><span><a href=\"#Изменение-типов-данных\" data-toc-modified-id=\"Изменение-типов-данных-2.4\"><span class=\"toc-item-num\">2.4&nbsp;&nbsp;</span>Изменение типов данных</a></span></li><li><span><a href=\"#Обработка-дубликатов\" data-toc-modified-id=\"Обработка-дубликатов-2.5\"><span class=\"toc-item-num\">2.5&nbsp;&nbsp;</span>Обработка дубликатов</a></span></li><li><span><a href=\"#Категоризация-данных\" data-toc-modified-id=\"Категоризация-данных-2.6\"><span class=\"toc-item-num\">2.6&nbsp;&nbsp;</span>Категоризация данных</a></span></li></ul></li><li><span><a href=\"#Исследование-данных-и-проверка-гипотез\" data-toc-modified-id=\"Исследование-данных-и-проверка-гипотез-3\"><span class=\"toc-item-num\">3&nbsp;&nbsp;</span>Исследование данных и проверка гипотез</a></span><ul class=\"toc-item\"><li><span><a href=\"#Гипотеза-1:-есть-зависимость-между-количеством-детей-и-возвратом-кредита-в-срок.\" data-toc-modified-id=\"Гипотеза-1:-есть-зависимость-между-количеством-детей-и-возвратом-кредита-в-срок.-3.1\"><span class=\"toc-item-num\">3.1&nbsp;&nbsp;</span>Гипотеза 1: есть зависимость между количеством детей и возвратом кредита в срок.</a></span></li><li><span><a href=\"#Гипотеза-2:-есть-зависимость-между-семейным-положением-и-возвратом-кредита-в-срок.\" data-toc-modified-id=\"Гипотеза-2:-есть-зависимость-между-семейным-положением-и-возвратом-кредита-в-срок.-3.2\"><span class=\"toc-item-num\">3.2&nbsp;&nbsp;</span>Гипотеза 2: есть зависимость между семейным положением и возвратом кредита в срок.</a></span></li><li><span><a href=\"#Гипотеза-3:-есть-зависимость-между-уровнем-дохода-и-возвратом-кредита-в-срок.\" data-toc-modified-id=\"Гипотеза-3:-есть-зависимость-между-уровнем-дохода-и-возвратом-кредита-в-срок.-3.3\"><span class=\"toc-item-num\">3.3&nbsp;&nbsp;</span>Гипотеза 3: есть зависимость между уровнем дохода и возвратом кредита в срок.</a></span></li><li><span><a href=\"#Гипотеза-4:-разные-цели-кредита-влияют-на-его-возврат-в-срок.\" data-toc-modified-id=\"Гипотеза-4:-разные-цели-кредита-влияют-на-его-возврат-в-срок.-3.4\"><span class=\"toc-item-num\">3.4&nbsp;&nbsp;</span>Гипотеза 4: разные цели кредита влияют на его возврат в срок.</a></span></li><li><span><a href=\"#Приведите-возможные-причины-появления-пропусков-в-исходных-данных.\" data-toc-modified-id=\"Приведите-возможные-причины-появления-пропусков-в-исходных-данных.-3.5\"><span class=\"toc-item-num\">3.5&nbsp;&nbsp;</span>Приведите возможные причины появления пропусков в исходных данных.</a></span></li><li><span><a href=\"#Объясните,-почему-заполнить-пропуски-медианным-значением-—-лучшее-решение-для-количественных-переменных.\" data-toc-modified-id=\"Объясните,-почему-заполнить-пропуски-медианным-значением-—-лучшее-решение-для-количественных-переменных.-3.6\"><span class=\"toc-item-num\">3.6&nbsp;&nbsp;</span>Объясните, почему заполнить пропуски медианным значением — лучшее решение для количественных переменных.</a></span></li></ul></li><li><span><a href=\"#Общий-вывод\" data-toc-modified-id=\"Общий-вывод-4\"><span class=\"toc-item-num\">4&nbsp;&nbsp;</span>Общий вывод</a></span></li><li><span><a href=\"#Дальнейшие-шаги-для-более-детального-исследования:\" data-toc-modified-id=\"Дальнейшие-шаги-для-более-детального-исследования:-5\"><span class=\"toc-item-num\">5&nbsp;&nbsp;</span>Дальнейшие шаги для более детального исследования:</a></span></li><li><span><a href=\"#Вопросы-ревьюеру:\" data-toc-modified-id=\"Вопросы-ревьюеру:-6\"><span class=\"toc-item-num\">6&nbsp;&nbsp;</span>Вопросы ревьюеру:</a></span></li></ul></div>"
   ]
  },
  {
   "cell_type": "markdown",
   "id": "017095ec",
   "metadata": {},
   "source": [
    "# Исследование надежности заемщиков"
   ]
  },
  {
   "cell_type": "markdown",
   "id": "8938475e",
   "metadata": {},
   "source": [
    "## Описание проекта"
   ]
  },
  {
   "cell_type": "markdown",
   "id": "c324ca2b",
   "metadata": {},
   "source": [
    "Заказчик — кредитный отдел банка. Нужно разобраться, влияет ли семейное положение, количество детей клиента, его ежемесячный доход и цель получения кредита на факт погашения кредита в срок. Входные данные от банка — статистика о платёжеспособности клиентов.\n",
    "\n",
    "Результаты исследования будут учтены при построении модели кредитного скоринга — специальной системы, которая оценивает способность потенциального заёмщика вернуть кредит банку."
   ]
  },
  {
   "cell_type": "code",
   "execution_count": 1,
   "id": "77f63a0b",
   "metadata": {},
   "outputs": [],
   "source": [
    "# импортируем библиотеку pandas\n",
    "import pandas as pd"
   ]
  },
  {
   "cell_type": "code",
   "execution_count": 2,
   "id": "9f92ac57",
   "metadata": {},
   "outputs": [],
   "source": [
    "# читаем csv-файл\n",
    "\n",
    "try:\n",
    "    data = pd.read_csv('C:\\\\Users\\\\lyubo\\\\Downloads\\\\Практикум\\\\Спринт_2\\\\data.csv')\n",
    "except:\n",
    "    data = pd.read_csv('https://code.s3.yandex.net/datasets/data.csv')"
   ]
  },
  {
   "cell_type": "code",
   "execution_count": 3,
   "id": "59893a2b",
   "metadata": {},
   "outputs": [
    {
     "data": {
      "text/html": [
       "<div>\n",
       "<style scoped>\n",
       "    .dataframe tbody tr th:only-of-type {\n",
       "        vertical-align: middle;\n",
       "    }\n",
       "\n",
       "    .dataframe tbody tr th {\n",
       "        vertical-align: top;\n",
       "    }\n",
       "\n",
       "    .dataframe thead th {\n",
       "        text-align: right;\n",
       "    }\n",
       "</style>\n",
       "<table border=\"1\" class=\"dataframe\">\n",
       "  <thead>\n",
       "    <tr style=\"text-align: right;\">\n",
       "      <th></th>\n",
       "      <th>children</th>\n",
       "      <th>days_employed</th>\n",
       "      <th>dob_years</th>\n",
       "      <th>education</th>\n",
       "      <th>education_id</th>\n",
       "      <th>family_status</th>\n",
       "      <th>family_status_id</th>\n",
       "      <th>gender</th>\n",
       "      <th>income_type</th>\n",
       "      <th>debt</th>\n",
       "      <th>total_income</th>\n",
       "      <th>purpose</th>\n",
       "    </tr>\n",
       "  </thead>\n",
       "  <tbody>\n",
       "    <tr>\n",
       "      <th>0</th>\n",
       "      <td>1</td>\n",
       "      <td>-8437.673028</td>\n",
       "      <td>42</td>\n",
       "      <td>высшее</td>\n",
       "      <td>0</td>\n",
       "      <td>женат / замужем</td>\n",
       "      <td>0</td>\n",
       "      <td>F</td>\n",
       "      <td>сотрудник</td>\n",
       "      <td>0</td>\n",
       "      <td>253875.639453</td>\n",
       "      <td>покупка жилья</td>\n",
       "    </tr>\n",
       "    <tr>\n",
       "      <th>1</th>\n",
       "      <td>1</td>\n",
       "      <td>-4024.803754</td>\n",
       "      <td>36</td>\n",
       "      <td>среднее</td>\n",
       "      <td>1</td>\n",
       "      <td>женат / замужем</td>\n",
       "      <td>0</td>\n",
       "      <td>F</td>\n",
       "      <td>сотрудник</td>\n",
       "      <td>0</td>\n",
       "      <td>112080.014102</td>\n",
       "      <td>приобретение автомобиля</td>\n",
       "    </tr>\n",
       "    <tr>\n",
       "      <th>2</th>\n",
       "      <td>0</td>\n",
       "      <td>-5623.422610</td>\n",
       "      <td>33</td>\n",
       "      <td>Среднее</td>\n",
       "      <td>1</td>\n",
       "      <td>женат / замужем</td>\n",
       "      <td>0</td>\n",
       "      <td>M</td>\n",
       "      <td>сотрудник</td>\n",
       "      <td>0</td>\n",
       "      <td>145885.952297</td>\n",
       "      <td>покупка жилья</td>\n",
       "    </tr>\n",
       "    <tr>\n",
       "      <th>3</th>\n",
       "      <td>3</td>\n",
       "      <td>-4124.747207</td>\n",
       "      <td>32</td>\n",
       "      <td>среднее</td>\n",
       "      <td>1</td>\n",
       "      <td>женат / замужем</td>\n",
       "      <td>0</td>\n",
       "      <td>M</td>\n",
       "      <td>сотрудник</td>\n",
       "      <td>0</td>\n",
       "      <td>267628.550329</td>\n",
       "      <td>дополнительное образование</td>\n",
       "    </tr>\n",
       "    <tr>\n",
       "      <th>4</th>\n",
       "      <td>0</td>\n",
       "      <td>340266.072047</td>\n",
       "      <td>53</td>\n",
       "      <td>среднее</td>\n",
       "      <td>1</td>\n",
       "      <td>гражданский брак</td>\n",
       "      <td>1</td>\n",
       "      <td>F</td>\n",
       "      <td>пенсионер</td>\n",
       "      <td>0</td>\n",
       "      <td>158616.077870</td>\n",
       "      <td>сыграть свадьбу</td>\n",
       "    </tr>\n",
       "    <tr>\n",
       "      <th>5</th>\n",
       "      <td>0</td>\n",
       "      <td>-926.185831</td>\n",
       "      <td>27</td>\n",
       "      <td>высшее</td>\n",
       "      <td>0</td>\n",
       "      <td>гражданский брак</td>\n",
       "      <td>1</td>\n",
       "      <td>M</td>\n",
       "      <td>компаньон</td>\n",
       "      <td>0</td>\n",
       "      <td>255763.565419</td>\n",
       "      <td>покупка жилья</td>\n",
       "    </tr>\n",
       "    <tr>\n",
       "      <th>6</th>\n",
       "      <td>0</td>\n",
       "      <td>-2879.202052</td>\n",
       "      <td>43</td>\n",
       "      <td>высшее</td>\n",
       "      <td>0</td>\n",
       "      <td>женат / замужем</td>\n",
       "      <td>0</td>\n",
       "      <td>F</td>\n",
       "      <td>компаньон</td>\n",
       "      <td>0</td>\n",
       "      <td>240525.971920</td>\n",
       "      <td>операции с жильем</td>\n",
       "    </tr>\n",
       "    <tr>\n",
       "      <th>7</th>\n",
       "      <td>0</td>\n",
       "      <td>-152.779569</td>\n",
       "      <td>50</td>\n",
       "      <td>СРЕДНЕЕ</td>\n",
       "      <td>1</td>\n",
       "      <td>женат / замужем</td>\n",
       "      <td>0</td>\n",
       "      <td>M</td>\n",
       "      <td>сотрудник</td>\n",
       "      <td>0</td>\n",
       "      <td>135823.934197</td>\n",
       "      <td>образование</td>\n",
       "    </tr>\n",
       "    <tr>\n",
       "      <th>8</th>\n",
       "      <td>2</td>\n",
       "      <td>-6929.865299</td>\n",
       "      <td>35</td>\n",
       "      <td>ВЫСШЕЕ</td>\n",
       "      <td>0</td>\n",
       "      <td>гражданский брак</td>\n",
       "      <td>1</td>\n",
       "      <td>F</td>\n",
       "      <td>сотрудник</td>\n",
       "      <td>0</td>\n",
       "      <td>95856.832424</td>\n",
       "      <td>на проведение свадьбы</td>\n",
       "    </tr>\n",
       "    <tr>\n",
       "      <th>9</th>\n",
       "      <td>0</td>\n",
       "      <td>-2188.756445</td>\n",
       "      <td>41</td>\n",
       "      <td>среднее</td>\n",
       "      <td>1</td>\n",
       "      <td>женат / замужем</td>\n",
       "      <td>0</td>\n",
       "      <td>M</td>\n",
       "      <td>сотрудник</td>\n",
       "      <td>0</td>\n",
       "      <td>144425.938277</td>\n",
       "      <td>покупка жилья для семьи</td>\n",
       "    </tr>\n",
       "    <tr>\n",
       "      <th>10</th>\n",
       "      <td>2</td>\n",
       "      <td>-4171.483647</td>\n",
       "      <td>36</td>\n",
       "      <td>высшее</td>\n",
       "      <td>0</td>\n",
       "      <td>женат / замужем</td>\n",
       "      <td>0</td>\n",
       "      <td>M</td>\n",
       "      <td>компаньон</td>\n",
       "      <td>0</td>\n",
       "      <td>113943.491460</td>\n",
       "      <td>покупка недвижимости</td>\n",
       "    </tr>\n",
       "    <tr>\n",
       "      <th>11</th>\n",
       "      <td>0</td>\n",
       "      <td>-792.701887</td>\n",
       "      <td>40</td>\n",
       "      <td>среднее</td>\n",
       "      <td>1</td>\n",
       "      <td>женат / замужем</td>\n",
       "      <td>0</td>\n",
       "      <td>F</td>\n",
       "      <td>сотрудник</td>\n",
       "      <td>0</td>\n",
       "      <td>77069.234271</td>\n",
       "      <td>покупка коммерческой недвижимости</td>\n",
       "    </tr>\n",
       "    <tr>\n",
       "      <th>12</th>\n",
       "      <td>0</td>\n",
       "      <td>NaN</td>\n",
       "      <td>65</td>\n",
       "      <td>среднее</td>\n",
       "      <td>1</td>\n",
       "      <td>гражданский брак</td>\n",
       "      <td>1</td>\n",
       "      <td>M</td>\n",
       "      <td>пенсионер</td>\n",
       "      <td>0</td>\n",
       "      <td>NaN</td>\n",
       "      <td>сыграть свадьбу</td>\n",
       "    </tr>\n",
       "    <tr>\n",
       "      <th>13</th>\n",
       "      <td>0</td>\n",
       "      <td>-1846.641941</td>\n",
       "      <td>54</td>\n",
       "      <td>неоконченное высшее</td>\n",
       "      <td>2</td>\n",
       "      <td>женат / замужем</td>\n",
       "      <td>0</td>\n",
       "      <td>F</td>\n",
       "      <td>сотрудник</td>\n",
       "      <td>0</td>\n",
       "      <td>130458.228857</td>\n",
       "      <td>приобретение автомобиля</td>\n",
       "    </tr>\n",
       "    <tr>\n",
       "      <th>14</th>\n",
       "      <td>0</td>\n",
       "      <td>-1844.956182</td>\n",
       "      <td>56</td>\n",
       "      <td>высшее</td>\n",
       "      <td>0</td>\n",
       "      <td>гражданский брак</td>\n",
       "      <td>1</td>\n",
       "      <td>F</td>\n",
       "      <td>компаньон</td>\n",
       "      <td>1</td>\n",
       "      <td>165127.911772</td>\n",
       "      <td>покупка жилой недвижимости</td>\n",
       "    </tr>\n",
       "    <tr>\n",
       "      <th>15</th>\n",
       "      <td>1</td>\n",
       "      <td>-972.364419</td>\n",
       "      <td>26</td>\n",
       "      <td>среднее</td>\n",
       "      <td>1</td>\n",
       "      <td>женат / замужем</td>\n",
       "      <td>0</td>\n",
       "      <td>F</td>\n",
       "      <td>сотрудник</td>\n",
       "      <td>0</td>\n",
       "      <td>116820.904450</td>\n",
       "      <td>строительство собственной недвижимости</td>\n",
       "    </tr>\n",
       "    <tr>\n",
       "      <th>16</th>\n",
       "      <td>0</td>\n",
       "      <td>-1719.934226</td>\n",
       "      <td>35</td>\n",
       "      <td>среднее</td>\n",
       "      <td>1</td>\n",
       "      <td>женат / замужем</td>\n",
       "      <td>0</td>\n",
       "      <td>F</td>\n",
       "      <td>сотрудник</td>\n",
       "      <td>0</td>\n",
       "      <td>289202.704229</td>\n",
       "      <td>недвижимость</td>\n",
       "    </tr>\n",
       "    <tr>\n",
       "      <th>17</th>\n",
       "      <td>0</td>\n",
       "      <td>-2369.999720</td>\n",
       "      <td>33</td>\n",
       "      <td>высшее</td>\n",
       "      <td>0</td>\n",
       "      <td>гражданский брак</td>\n",
       "      <td>1</td>\n",
       "      <td>M</td>\n",
       "      <td>сотрудник</td>\n",
       "      <td>0</td>\n",
       "      <td>90410.586745</td>\n",
       "      <td>строительство недвижимости</td>\n",
       "    </tr>\n",
       "    <tr>\n",
       "      <th>18</th>\n",
       "      <td>0</td>\n",
       "      <td>400281.136913</td>\n",
       "      <td>53</td>\n",
       "      <td>среднее</td>\n",
       "      <td>1</td>\n",
       "      <td>вдовец / вдова</td>\n",
       "      <td>2</td>\n",
       "      <td>F</td>\n",
       "      <td>пенсионер</td>\n",
       "      <td>0</td>\n",
       "      <td>56823.777243</td>\n",
       "      <td>на покупку подержанного автомобиля</td>\n",
       "    </tr>\n",
       "    <tr>\n",
       "      <th>19</th>\n",
       "      <td>0</td>\n",
       "      <td>-10038.818549</td>\n",
       "      <td>48</td>\n",
       "      <td>СРЕДНЕЕ</td>\n",
       "      <td>1</td>\n",
       "      <td>в разводе</td>\n",
       "      <td>3</td>\n",
       "      <td>F</td>\n",
       "      <td>сотрудник</td>\n",
       "      <td>0</td>\n",
       "      <td>242831.107982</td>\n",
       "      <td>на покупку своего автомобиля</td>\n",
       "    </tr>\n",
       "  </tbody>\n",
       "</table>\n",
       "</div>"
      ],
      "text/plain": [
       "    children  days_employed  dob_years            education  education_id  \\\n",
       "0          1   -8437.673028         42               высшее             0   \n",
       "1          1   -4024.803754         36              среднее             1   \n",
       "2          0   -5623.422610         33              Среднее             1   \n",
       "3          3   -4124.747207         32              среднее             1   \n",
       "4          0  340266.072047         53              среднее             1   \n",
       "5          0    -926.185831         27               высшее             0   \n",
       "6          0   -2879.202052         43               высшее             0   \n",
       "7          0    -152.779569         50              СРЕДНЕЕ             1   \n",
       "8          2   -6929.865299         35               ВЫСШЕЕ             0   \n",
       "9          0   -2188.756445         41              среднее             1   \n",
       "10         2   -4171.483647         36               высшее             0   \n",
       "11         0    -792.701887         40              среднее             1   \n",
       "12         0            NaN         65              среднее             1   \n",
       "13         0   -1846.641941         54  неоконченное высшее             2   \n",
       "14         0   -1844.956182         56               высшее             0   \n",
       "15         1    -972.364419         26              среднее             1   \n",
       "16         0   -1719.934226         35              среднее             1   \n",
       "17         0   -2369.999720         33               высшее             0   \n",
       "18         0  400281.136913         53              среднее             1   \n",
       "19         0  -10038.818549         48              СРЕДНЕЕ             1   \n",
       "\n",
       "       family_status  family_status_id gender income_type  debt  \\\n",
       "0    женат / замужем                 0      F   сотрудник     0   \n",
       "1    женат / замужем                 0      F   сотрудник     0   \n",
       "2    женат / замужем                 0      M   сотрудник     0   \n",
       "3    женат / замужем                 0      M   сотрудник     0   \n",
       "4   гражданский брак                 1      F   пенсионер     0   \n",
       "5   гражданский брак                 1      M   компаньон     0   \n",
       "6    женат / замужем                 0      F   компаньон     0   \n",
       "7    женат / замужем                 0      M   сотрудник     0   \n",
       "8   гражданский брак                 1      F   сотрудник     0   \n",
       "9    женат / замужем                 0      M   сотрудник     0   \n",
       "10   женат / замужем                 0      M   компаньон     0   \n",
       "11   женат / замужем                 0      F   сотрудник     0   \n",
       "12  гражданский брак                 1      M   пенсионер     0   \n",
       "13   женат / замужем                 0      F   сотрудник     0   \n",
       "14  гражданский брак                 1      F   компаньон     1   \n",
       "15   женат / замужем                 0      F   сотрудник     0   \n",
       "16   женат / замужем                 0      F   сотрудник     0   \n",
       "17  гражданский брак                 1      M   сотрудник     0   \n",
       "18    вдовец / вдова                 2      F   пенсионер     0   \n",
       "19         в разводе                 3      F   сотрудник     0   \n",
       "\n",
       "     total_income                                 purpose  \n",
       "0   253875.639453                           покупка жилья  \n",
       "1   112080.014102                 приобретение автомобиля  \n",
       "2   145885.952297                           покупка жилья  \n",
       "3   267628.550329              дополнительное образование  \n",
       "4   158616.077870                         сыграть свадьбу  \n",
       "5   255763.565419                           покупка жилья  \n",
       "6   240525.971920                       операции с жильем  \n",
       "7   135823.934197                             образование  \n",
       "8    95856.832424                   на проведение свадьбы  \n",
       "9   144425.938277                 покупка жилья для семьи  \n",
       "10  113943.491460                    покупка недвижимости  \n",
       "11   77069.234271       покупка коммерческой недвижимости  \n",
       "12            NaN                         сыграть свадьбу  \n",
       "13  130458.228857                 приобретение автомобиля  \n",
       "14  165127.911772              покупка жилой недвижимости  \n",
       "15  116820.904450  строительство собственной недвижимости  \n",
       "16  289202.704229                            недвижимость  \n",
       "17   90410.586745              строительство недвижимости  \n",
       "18   56823.777243      на покупку подержанного автомобиля  \n",
       "19  242831.107982            на покупку своего автомобиля  "
      ]
     },
     "metadata": {},
     "output_type": "display_data"
    }
   ],
   "source": [
    "# посмотрим на данные\n",
    "display(data.head(20))"
   ]
  },
  {
   "cell_type": "code",
   "execution_count": 4,
   "id": "ebdb6b62",
   "metadata": {},
   "outputs": [
    {
     "name": "stdout",
     "output_type": "stream",
     "text": [
      "<class 'pandas.core.frame.DataFrame'>\n",
      "RangeIndex: 21525 entries, 0 to 21524\n",
      "Data columns (total 12 columns):\n",
      " #   Column            Non-Null Count  Dtype  \n",
      "---  ------            --------------  -----  \n",
      " 0   children          21525 non-null  int64  \n",
      " 1   days_employed     19351 non-null  float64\n",
      " 2   dob_years         21525 non-null  int64  \n",
      " 3   education         21525 non-null  object \n",
      " 4   education_id      21525 non-null  int64  \n",
      " 5   family_status     21525 non-null  object \n",
      " 6   family_status_id  21525 non-null  int64  \n",
      " 7   gender            21525 non-null  object \n",
      " 8   income_type       21525 non-null  object \n",
      " 9   debt              21525 non-null  int64  \n",
      " 10  total_income      19351 non-null  float64\n",
      " 11  purpose           21525 non-null  object \n",
      "dtypes: float64(2), int64(5), object(5)\n",
      "memory usage: 2.0+ MB\n",
      "None\n"
     ]
    }
   ],
   "source": [
    "# выведем основную информацию о данных\n",
    "print(data.info())"
   ]
  },
  {
   "cell_type": "markdown",
   "id": "932ca026",
   "metadata": {},
   "source": [
    "## Предобработка данных"
   ]
  },
  {
   "cell_type": "markdown",
   "id": "cb459b4b",
   "metadata": {},
   "source": [
    "### Удаление пропусков"
   ]
  },
  {
   "cell_type": "code",
   "execution_count": 5,
   "id": "cbb668c5",
   "metadata": {},
   "outputs": [
    {
     "name": "stdout",
     "output_type": "stream",
     "text": [
      "children               0\n",
      "days_employed       2174\n",
      "dob_years              0\n",
      "education              0\n",
      "education_id           0\n",
      "family_status          0\n",
      "family_status_id       0\n",
      "gender                 0\n",
      "income_type            0\n",
      "debt                   0\n",
      "total_income        2174\n",
      "purpose                0\n",
      "dtype: int64\n"
     ]
    }
   ],
   "source": [
    "# выявим пропущенные значения для каждого столбца и посчитаем их\n",
    "print(data.isna().sum())"
   ]
  },
  {
   "cell_type": "markdown",
   "id": "33405beb",
   "metadata": {},
   "source": [
    "Сначала поработаем со столбцом total_income."
   ]
  },
  {
   "cell_type": "code",
   "execution_count": 6,
   "id": "98acf2e3",
   "metadata": {},
   "outputs": [
    {
     "name": "stdout",
     "output_type": "stream",
     "text": [
      "0\n"
     ]
    }
   ],
   "source": [
    "# перебираем каждый тип занятости в наборе уникальных значений столбца income_type\n",
    "for income in data['income_type'].unique():\n",
    "    # на каждом шаге цикла с помощью атрибута loc выбираем строки,\n",
    "    # в которых в income_type текущий тип занятости (income) и есть пропуски в total_income\n",
    "    # и записываем в них медианное значение total_income среди строк с текущим типом занятости (income)\n",
    "    data.loc[(data['income_type'] == income) & (data['total_income'].isna()), 'total_income'] = \\\n",
    "    data.loc[(data['income_type'] == income), 'total_income'].median()\n",
    "\n",
    "\n",
    "# проверка, что все пропуски в income_type заполнены\n",
    "print(data['total_income'].isna().sum())"
   ]
  },
  {
   "cell_type": "markdown",
   "id": "590f7ee0",
   "metadata": {},
   "source": [
    "### Обработка аномальных значений"
   ]
  },
  {
   "cell_type": "markdown",
   "id": "70c57227",
   "metadata": {},
   "source": [
    "В данных могут встречаться артефакты, а у нас это явно отрицательное количество дней трудового стажа в столбце `days_employed`."
   ]
  },
  {
   "cell_type": "code",
   "execution_count": 7,
   "id": "661f3683",
   "metadata": {},
   "outputs": [
    {
     "name": "stdout",
     "output_type": "stream",
     "text": [
      "0          8437.673028\n",
      "1          4024.803754\n",
      "2          5623.422610\n",
      "3          4124.747207\n",
      "4        340266.072047\n",
      "             ...      \n",
      "21520      4529.316663\n",
      "21521    343937.404131\n",
      "21522      2113.346888\n",
      "21523      3112.481705\n",
      "21524      1984.507589\n",
      "Name: days_employed, Length: 21525, dtype: float64\n"
     ]
    }
   ],
   "source": [
    "# сохраняем в исходный столбец days_employed данные по модулю\n",
    "data['days_employed'] = data['days_employed'].abs()\n",
    "\n",
    "# проверка\n",
    "print(data['days_employed'])"
   ]
  },
  {
   "cell_type": "code",
   "execution_count": 8,
   "id": "75eb1498",
   "metadata": {},
   "outputs": [
    {
     "name": "stdout",
     "output_type": "stream",
     "text": [
      "income_type\n",
      "безработный        366413.652744\n",
      "в декрете            3296.759962\n",
      "госслужащий          2689.368353\n",
      "компаньон            1547.382223\n",
      "пенсионер          365213.306266\n",
      "предприниматель       520.848083\n",
      "сотрудник            1574.202821\n",
      "студент               578.751554\n",
      "Name: days_employed, dtype: float64\n"
     ]
    }
   ],
   "source": [
    "# выведем медианное значение трудового стажа (в днях) для каждого типа занятости\n",
    "\n",
    "print(data.groupby('income_type')['days_employed'].median())"
   ]
  },
  {
   "cell_type": "markdown",
   "id": "48805a27",
   "metadata": {},
   "source": [
    "У двух типов (безработные и пенсионеры) получатся аномально большие значения. Исправить такие значения сложно, поэтому оставим их как есть."
   ]
  },
  {
   "cell_type": "code",
   "execution_count": 9,
   "id": "6e4efe6f",
   "metadata": {},
   "outputs": [
    {
     "name": "stdout",
     "output_type": "stream",
     "text": [
      "[ 1  0  3  2 -1  4 20  5]\n"
     ]
    }
   ],
   "source": [
    "# узнаем сколько детей у заёмщиков (уникальные значения)\n",
    "print(data['children'].unique())"
   ]
  },
  {
   "cell_type": "code",
   "execution_count": 10,
   "id": "bfe178f1",
   "metadata": {},
   "outputs": [],
   "source": [
    "# удалим аномальные значения в столбце children из датафрейма\n",
    "data = data.loc[(data['children'] != -1) & (data['children'] != 20)]"
   ]
  },
  {
   "cell_type": "markdown",
   "id": "14c78dd6",
   "metadata": {},
   "source": [
    "### Удаление пропусков (продолжение)"
   ]
  },
  {
   "cell_type": "markdown",
   "id": "da4ea25e",
   "metadata": {},
   "source": [
    "Теперь поработаем со столбцом days_employed."
   ]
  },
  {
   "cell_type": "code",
   "execution_count": 11,
   "id": "dd398b00",
   "metadata": {},
   "outputs": [
    {
     "name": "stdout",
     "output_type": "stream",
     "text": [
      "0\n"
     ]
    }
   ],
   "source": [
    "# перебираем каждый тип занятости в наборе уникальных значений столба income_type\n",
    "for income in data['income_type'].unique():\n",
    "    # на каждом шаге цикла с помощью атрибута loc выбираем строки,\n",
    "    # в которых в income_type текущий тип занятости (income) и есть пропуски в days_employed \n",
    "    data.loc[(data['income_type'] == income) & (data['days_employed'].isna()), 'days_employed'] = \\\n",
    "    data.loc[(data['income_type'] == income), 'days_employed'].median()\n",
    "    # и записываем в них среднее значение total_income среди строк с текущим типом занятости (income)\n",
    "\n",
    "# проверка, что все пропуски в days_employed заполнены\n",
    "print(data['days_employed'].isna().sum())"
   ]
  },
  {
   "cell_type": "code",
   "execution_count": 12,
   "id": "ae7cb180",
   "metadata": {},
   "outputs": [
    {
     "name": "stdout",
     "output_type": "stream",
     "text": [
      "children            0\n",
      "days_employed       0\n",
      "dob_years           0\n",
      "education           0\n",
      "education_id        0\n",
      "family_status       0\n",
      "family_status_id    0\n",
      "gender              0\n",
      "income_type         0\n",
      "debt                0\n",
      "total_income        0\n",
      "purpose             0\n",
      "dtype: int64\n"
     ]
    }
   ],
   "source": [
    "# убедимся, что вообще все пропуски заполнены\n",
    "print(data.isna().sum()) "
   ]
  },
  {
   "cell_type": "markdown",
   "id": "430dd18b",
   "metadata": {},
   "source": [
    "### Изменение типов данных"
   ]
  },
  {
   "cell_type": "code",
   "execution_count": 13,
   "id": "1de90663",
   "metadata": {},
   "outputs": [],
   "source": [
    "# заменим вещественный тип данных в столбце total_income на целочисленный\n",
    "data['total_income'] = data['total_income'].astype('int')"
   ]
  },
  {
   "cell_type": "markdown",
   "id": "e1037849",
   "metadata": {},
   "source": [
    "### Обработка дубликатов"
   ]
  },
  {
   "cell_type": "code",
   "execution_count": 14,
   "id": "dfcf5c6b",
   "metadata": {},
   "outputs": [],
   "source": [
    "# приведём значения столбца education к нижнему регистру, чтобы избавиться от неявных дубликатов\n",
    "data['education'] = data['education'].str.lower()"
   ]
  },
  {
   "cell_type": "code",
   "execution_count": 15,
   "id": "d12973b0",
   "metadata": {},
   "outputs": [
    {
     "name": "stdout",
     "output_type": "stream",
     "text": [
      "71\n"
     ]
    }
   ],
   "source": [
    "# посчитаем строки-дубликаты в датасете\n",
    "print(data.duplicated().sum())"
   ]
  },
  {
   "cell_type": "code",
   "execution_count": 16,
   "id": "2a8dc51b",
   "metadata": {},
   "outputs": [
    {
     "name": "stdout",
     "output_type": "stream",
     "text": [
      "0\n"
     ]
    }
   ],
   "source": [
    "# удалим их\n",
    "data = data.drop_duplicates()\n",
    "print(data.duplicated().sum())"
   ]
  },
  {
   "cell_type": "markdown",
   "id": "f8302e9a",
   "metadata": {},
   "source": [
    "### Категоризация данных"
   ]
  },
  {
   "cell_type": "markdown",
   "id": "4192100e",
   "metadata": {},
   "source": [
    "<a id='income_category'></a>\n",
    "Создадим столбец с категориями по уровню дохода:\n",
    "\n",
    "- 0–30000 — 'E';\n",
    "- 30001–50000 — 'D';\n",
    "- 50001–200000 — 'C';\n",
    "- 200001–1000000 — 'B';\n",
    "- 1000001 и выше — 'A'."
   ]
  },
  {
   "cell_type": "markdown",
   "id": "0fc9b79f",
   "metadata": {},
   "source": [
    "[Перейти к выводу в п.3.3](#conclusion)"
   ]
  },
  {
   "cell_type": "code",
   "execution_count": 17,
   "id": "b3217a97",
   "metadata": {},
   "outputs": [],
   "source": [
    "# для этого создадим функцию categorize_income()\n",
    "\n",
    "def categorize_income(total_income):\n",
    "    if total_income <= 30000:\n",
    "        return 'E'\n",
    "    elif total_income <= 50000:\n",
    "        return 'D'\n",
    "    elif total_income <= 200000:\n",
    "        return 'C'\n",
    "    elif total_income <= 1000000:\n",
    "        return 'B'\n",
    "    return 'A'"
   ]
  },
  {
   "cell_type": "code",
   "execution_count": 18,
   "id": "10ff32d7",
   "metadata": {},
   "outputs": [],
   "source": [
    "# применим функцию\n",
    "data['total_income_category'] = data['total_income'].apply(categorize_income)"
   ]
  },
  {
   "cell_type": "code",
   "execution_count": 19,
   "id": "b53dc244",
   "metadata": {},
   "outputs": [
    {
     "name": "stdout",
     "output_type": "stream",
     "text": [
      "['покупка жилья' 'приобретение автомобиля' 'дополнительное образование'\n",
      " 'сыграть свадьбу' 'операции с жильем' 'образование'\n",
      " 'на проведение свадьбы' 'покупка жилья для семьи' 'покупка недвижимости'\n",
      " 'покупка коммерческой недвижимости' 'покупка жилой недвижимости'\n",
      " 'строительство собственной недвижимости' 'недвижимость'\n",
      " 'строительство недвижимости' 'на покупку подержанного автомобиля'\n",
      " 'на покупку своего автомобиля' 'операции с коммерческой недвижимостью'\n",
      " 'строительство жилой недвижимости' 'жилье'\n",
      " 'операции со своей недвижимостью' 'автомобили' 'заняться образованием'\n",
      " 'сделка с подержанным автомобилем' 'получение образования' 'автомобиль'\n",
      " 'свадьба' 'получение дополнительного образования' 'покупка своего жилья'\n",
      " 'операции с недвижимостью' 'получение высшего образования'\n",
      " 'свой автомобиль' 'сделка с автомобилем' 'профильное образование'\n",
      " 'высшее образование' 'покупка жилья для сдачи' 'на покупку автомобиля'\n",
      " 'ремонт жилью' 'заняться высшим образованием']\n"
     ]
    }
   ],
   "source": [
    "# посмотрим на цели получения кредита, выведем уникальные значения\n",
    "print(data['purpose'].unique())"
   ]
  },
  {
   "cell_type": "markdown",
   "id": "0da9dd12",
   "metadata": {},
   "source": [
    "Создадим столбец с фиксированными категориями по целям получения кредита, в который войдут следующие категории:\n",
    "\n",
    "- 'операции с автомобилем',\n",
    "- 'операции с недвижимостью',\n",
    "- 'проведение свадьбы',\n",
    "- 'получение образования'."
   ]
  },
  {
   "cell_type": "code",
   "execution_count": 20,
   "id": "efdb3e8b",
   "metadata": {},
   "outputs": [],
   "source": [
    "# для этого создадим функцию categorize_purpose()\n",
    "\n",
    "def categorize_purpose(row):\n",
    "    purpose = row['purpose']\n",
    "    try:\n",
    "        if 'авто' in purpose:\n",
    "            return 'операции с автомобилем'\n",
    "        if 'жиль' in purpose or 'недвиж' in purpose:\n",
    "            return 'операции с недвижимостью'\n",
    "        if 'свадьб' in purpose:\n",
    "            return 'проведение свадьбы'\n",
    "        if 'образов' in purpose:\n",
    "            return 'получение образования'\n",
    "    except:\n",
    "        return 'другая категория'"
   ]
  },
  {
   "cell_type": "code",
   "execution_count": 21,
   "id": "2da8f01f",
   "metadata": {
    "scrolled": true
   },
   "outputs": [
    {
     "name": "stdout",
     "output_type": "stream",
     "text": [
      "0     операции с недвижимостью\n",
      "1       операции с автомобилем\n",
      "2     операции с недвижимостью\n",
      "3        получение образования\n",
      "4           проведение свадьбы\n",
      "5     операции с недвижимостью\n",
      "6     операции с недвижимостью\n",
      "7        получение образования\n",
      "8           проведение свадьбы\n",
      "9     операции с недвижимостью\n",
      "10    операции с недвижимостью\n",
      "11    операции с недвижимостью\n",
      "12          проведение свадьбы\n",
      "13      операции с автомобилем\n",
      "14    операции с недвижимостью\n",
      "Name: purpose_category, dtype: object\n"
     ]
    }
   ],
   "source": [
    "# применим функцию\n",
    "data['purpose_category'] = data.apply(categorize_purpose, axis=1)\n",
    "\n",
    "# проверим себя\n",
    "print(data['purpose_category'].head(15))"
   ]
  },
  {
   "cell_type": "markdown",
   "id": "ab6d55fc",
   "metadata": {},
   "source": [
    "Посмотрим на датасет после преобразований."
   ]
  },
  {
   "cell_type": "code",
   "execution_count": 22,
   "id": "3a356124",
   "metadata": {},
   "outputs": [
    {
     "data": {
      "text/html": [
       "<div>\n",
       "<style scoped>\n",
       "    .dataframe tbody tr th:only-of-type {\n",
       "        vertical-align: middle;\n",
       "    }\n",
       "\n",
       "    .dataframe tbody tr th {\n",
       "        vertical-align: top;\n",
       "    }\n",
       "\n",
       "    .dataframe thead th {\n",
       "        text-align: right;\n",
       "    }\n",
       "</style>\n",
       "<table border=\"1\" class=\"dataframe\">\n",
       "  <thead>\n",
       "    <tr style=\"text-align: right;\">\n",
       "      <th></th>\n",
       "      <th>children</th>\n",
       "      <th>days_employed</th>\n",
       "      <th>dob_years</th>\n",
       "      <th>education</th>\n",
       "      <th>education_id</th>\n",
       "      <th>family_status</th>\n",
       "      <th>family_status_id</th>\n",
       "      <th>gender</th>\n",
       "      <th>income_type</th>\n",
       "      <th>debt</th>\n",
       "      <th>total_income</th>\n",
       "      <th>purpose</th>\n",
       "      <th>total_income_category</th>\n",
       "      <th>purpose_category</th>\n",
       "    </tr>\n",
       "  </thead>\n",
       "  <tbody>\n",
       "    <tr>\n",
       "      <th>0</th>\n",
       "      <td>1</td>\n",
       "      <td>8437.673028</td>\n",
       "      <td>42</td>\n",
       "      <td>высшее</td>\n",
       "      <td>0</td>\n",
       "      <td>женат / замужем</td>\n",
       "      <td>0</td>\n",
       "      <td>F</td>\n",
       "      <td>сотрудник</td>\n",
       "      <td>0</td>\n",
       "      <td>253875</td>\n",
       "      <td>покупка жилья</td>\n",
       "      <td>B</td>\n",
       "      <td>операции с недвижимостью</td>\n",
       "    </tr>\n",
       "    <tr>\n",
       "      <th>1</th>\n",
       "      <td>1</td>\n",
       "      <td>4024.803754</td>\n",
       "      <td>36</td>\n",
       "      <td>среднее</td>\n",
       "      <td>1</td>\n",
       "      <td>женат / замужем</td>\n",
       "      <td>0</td>\n",
       "      <td>F</td>\n",
       "      <td>сотрудник</td>\n",
       "      <td>0</td>\n",
       "      <td>112080</td>\n",
       "      <td>приобретение автомобиля</td>\n",
       "      <td>C</td>\n",
       "      <td>операции с автомобилем</td>\n",
       "    </tr>\n",
       "    <tr>\n",
       "      <th>2</th>\n",
       "      <td>0</td>\n",
       "      <td>5623.422610</td>\n",
       "      <td>33</td>\n",
       "      <td>среднее</td>\n",
       "      <td>1</td>\n",
       "      <td>женат / замужем</td>\n",
       "      <td>0</td>\n",
       "      <td>M</td>\n",
       "      <td>сотрудник</td>\n",
       "      <td>0</td>\n",
       "      <td>145885</td>\n",
       "      <td>покупка жилья</td>\n",
       "      <td>C</td>\n",
       "      <td>операции с недвижимостью</td>\n",
       "    </tr>\n",
       "    <tr>\n",
       "      <th>3</th>\n",
       "      <td>3</td>\n",
       "      <td>4124.747207</td>\n",
       "      <td>32</td>\n",
       "      <td>среднее</td>\n",
       "      <td>1</td>\n",
       "      <td>женат / замужем</td>\n",
       "      <td>0</td>\n",
       "      <td>M</td>\n",
       "      <td>сотрудник</td>\n",
       "      <td>0</td>\n",
       "      <td>267628</td>\n",
       "      <td>дополнительное образование</td>\n",
       "      <td>B</td>\n",
       "      <td>получение образования</td>\n",
       "    </tr>\n",
       "    <tr>\n",
       "      <th>4</th>\n",
       "      <td>0</td>\n",
       "      <td>340266.072047</td>\n",
       "      <td>53</td>\n",
       "      <td>среднее</td>\n",
       "      <td>1</td>\n",
       "      <td>гражданский брак</td>\n",
       "      <td>1</td>\n",
       "      <td>F</td>\n",
       "      <td>пенсионер</td>\n",
       "      <td>0</td>\n",
       "      <td>158616</td>\n",
       "      <td>сыграть свадьбу</td>\n",
       "      <td>C</td>\n",
       "      <td>проведение свадьбы</td>\n",
       "    </tr>\n",
       "    <tr>\n",
       "      <th>5</th>\n",
       "      <td>0</td>\n",
       "      <td>926.185831</td>\n",
       "      <td>27</td>\n",
       "      <td>высшее</td>\n",
       "      <td>0</td>\n",
       "      <td>гражданский брак</td>\n",
       "      <td>1</td>\n",
       "      <td>M</td>\n",
       "      <td>компаньон</td>\n",
       "      <td>0</td>\n",
       "      <td>255763</td>\n",
       "      <td>покупка жилья</td>\n",
       "      <td>B</td>\n",
       "      <td>операции с недвижимостью</td>\n",
       "    </tr>\n",
       "    <tr>\n",
       "      <th>6</th>\n",
       "      <td>0</td>\n",
       "      <td>2879.202052</td>\n",
       "      <td>43</td>\n",
       "      <td>высшее</td>\n",
       "      <td>0</td>\n",
       "      <td>женат / замужем</td>\n",
       "      <td>0</td>\n",
       "      <td>F</td>\n",
       "      <td>компаньон</td>\n",
       "      <td>0</td>\n",
       "      <td>240525</td>\n",
       "      <td>операции с жильем</td>\n",
       "      <td>B</td>\n",
       "      <td>операции с недвижимостью</td>\n",
       "    </tr>\n",
       "    <tr>\n",
       "      <th>7</th>\n",
       "      <td>0</td>\n",
       "      <td>152.779569</td>\n",
       "      <td>50</td>\n",
       "      <td>среднее</td>\n",
       "      <td>1</td>\n",
       "      <td>женат / замужем</td>\n",
       "      <td>0</td>\n",
       "      <td>M</td>\n",
       "      <td>сотрудник</td>\n",
       "      <td>0</td>\n",
       "      <td>135823</td>\n",
       "      <td>образование</td>\n",
       "      <td>C</td>\n",
       "      <td>получение образования</td>\n",
       "    </tr>\n",
       "    <tr>\n",
       "      <th>8</th>\n",
       "      <td>2</td>\n",
       "      <td>6929.865299</td>\n",
       "      <td>35</td>\n",
       "      <td>высшее</td>\n",
       "      <td>0</td>\n",
       "      <td>гражданский брак</td>\n",
       "      <td>1</td>\n",
       "      <td>F</td>\n",
       "      <td>сотрудник</td>\n",
       "      <td>0</td>\n",
       "      <td>95856</td>\n",
       "      <td>на проведение свадьбы</td>\n",
       "      <td>C</td>\n",
       "      <td>проведение свадьбы</td>\n",
       "    </tr>\n",
       "    <tr>\n",
       "      <th>9</th>\n",
       "      <td>0</td>\n",
       "      <td>2188.756445</td>\n",
       "      <td>41</td>\n",
       "      <td>среднее</td>\n",
       "      <td>1</td>\n",
       "      <td>женат / замужем</td>\n",
       "      <td>0</td>\n",
       "      <td>M</td>\n",
       "      <td>сотрудник</td>\n",
       "      <td>0</td>\n",
       "      <td>144425</td>\n",
       "      <td>покупка жилья для семьи</td>\n",
       "      <td>C</td>\n",
       "      <td>операции с недвижимостью</td>\n",
       "    </tr>\n",
       "    <tr>\n",
       "      <th>10</th>\n",
       "      <td>2</td>\n",
       "      <td>4171.483647</td>\n",
       "      <td>36</td>\n",
       "      <td>высшее</td>\n",
       "      <td>0</td>\n",
       "      <td>женат / замужем</td>\n",
       "      <td>0</td>\n",
       "      <td>M</td>\n",
       "      <td>компаньон</td>\n",
       "      <td>0</td>\n",
       "      <td>113943</td>\n",
       "      <td>покупка недвижимости</td>\n",
       "      <td>C</td>\n",
       "      <td>операции с недвижимостью</td>\n",
       "    </tr>\n",
       "    <tr>\n",
       "      <th>11</th>\n",
       "      <td>0</td>\n",
       "      <td>792.701887</td>\n",
       "      <td>40</td>\n",
       "      <td>среднее</td>\n",
       "      <td>1</td>\n",
       "      <td>женат / замужем</td>\n",
       "      <td>0</td>\n",
       "      <td>F</td>\n",
       "      <td>сотрудник</td>\n",
       "      <td>0</td>\n",
       "      <td>77069</td>\n",
       "      <td>покупка коммерческой недвижимости</td>\n",
       "      <td>C</td>\n",
       "      <td>операции с недвижимостью</td>\n",
       "    </tr>\n",
       "    <tr>\n",
       "      <th>12</th>\n",
       "      <td>0</td>\n",
       "      <td>365286.622650</td>\n",
       "      <td>65</td>\n",
       "      <td>среднее</td>\n",
       "      <td>1</td>\n",
       "      <td>гражданский брак</td>\n",
       "      <td>1</td>\n",
       "      <td>M</td>\n",
       "      <td>пенсионер</td>\n",
       "      <td>0</td>\n",
       "      <td>118514</td>\n",
       "      <td>сыграть свадьбу</td>\n",
       "      <td>C</td>\n",
       "      <td>проведение свадьбы</td>\n",
       "    </tr>\n",
       "    <tr>\n",
       "      <th>13</th>\n",
       "      <td>0</td>\n",
       "      <td>1846.641941</td>\n",
       "      <td>54</td>\n",
       "      <td>неоконченное высшее</td>\n",
       "      <td>2</td>\n",
       "      <td>женат / замужем</td>\n",
       "      <td>0</td>\n",
       "      <td>F</td>\n",
       "      <td>сотрудник</td>\n",
       "      <td>0</td>\n",
       "      <td>130458</td>\n",
       "      <td>приобретение автомобиля</td>\n",
       "      <td>C</td>\n",
       "      <td>операции с автомобилем</td>\n",
       "    </tr>\n",
       "    <tr>\n",
       "      <th>14</th>\n",
       "      <td>0</td>\n",
       "      <td>1844.956182</td>\n",
       "      <td>56</td>\n",
       "      <td>высшее</td>\n",
       "      <td>0</td>\n",
       "      <td>гражданский брак</td>\n",
       "      <td>1</td>\n",
       "      <td>F</td>\n",
       "      <td>компаньон</td>\n",
       "      <td>1</td>\n",
       "      <td>165127</td>\n",
       "      <td>покупка жилой недвижимости</td>\n",
       "      <td>C</td>\n",
       "      <td>операции с недвижимостью</td>\n",
       "    </tr>\n",
       "    <tr>\n",
       "      <th>15</th>\n",
       "      <td>1</td>\n",
       "      <td>972.364419</td>\n",
       "      <td>26</td>\n",
       "      <td>среднее</td>\n",
       "      <td>1</td>\n",
       "      <td>женат / замужем</td>\n",
       "      <td>0</td>\n",
       "      <td>F</td>\n",
       "      <td>сотрудник</td>\n",
       "      <td>0</td>\n",
       "      <td>116820</td>\n",
       "      <td>строительство собственной недвижимости</td>\n",
       "      <td>C</td>\n",
       "      <td>операции с недвижимостью</td>\n",
       "    </tr>\n",
       "    <tr>\n",
       "      <th>16</th>\n",
       "      <td>0</td>\n",
       "      <td>1719.934226</td>\n",
       "      <td>35</td>\n",
       "      <td>среднее</td>\n",
       "      <td>1</td>\n",
       "      <td>женат / замужем</td>\n",
       "      <td>0</td>\n",
       "      <td>F</td>\n",
       "      <td>сотрудник</td>\n",
       "      <td>0</td>\n",
       "      <td>289202</td>\n",
       "      <td>недвижимость</td>\n",
       "      <td>B</td>\n",
       "      <td>операции с недвижимостью</td>\n",
       "    </tr>\n",
       "    <tr>\n",
       "      <th>17</th>\n",
       "      <td>0</td>\n",
       "      <td>2369.999720</td>\n",
       "      <td>33</td>\n",
       "      <td>высшее</td>\n",
       "      <td>0</td>\n",
       "      <td>гражданский брак</td>\n",
       "      <td>1</td>\n",
       "      <td>M</td>\n",
       "      <td>сотрудник</td>\n",
       "      <td>0</td>\n",
       "      <td>90410</td>\n",
       "      <td>строительство недвижимости</td>\n",
       "      <td>C</td>\n",
       "      <td>операции с недвижимостью</td>\n",
       "    </tr>\n",
       "    <tr>\n",
       "      <th>18</th>\n",
       "      <td>0</td>\n",
       "      <td>400281.136913</td>\n",
       "      <td>53</td>\n",
       "      <td>среднее</td>\n",
       "      <td>1</td>\n",
       "      <td>вдовец / вдова</td>\n",
       "      <td>2</td>\n",
       "      <td>F</td>\n",
       "      <td>пенсионер</td>\n",
       "      <td>0</td>\n",
       "      <td>56823</td>\n",
       "      <td>на покупку подержанного автомобиля</td>\n",
       "      <td>C</td>\n",
       "      <td>операции с автомобилем</td>\n",
       "    </tr>\n",
       "    <tr>\n",
       "      <th>19</th>\n",
       "      <td>0</td>\n",
       "      <td>10038.818549</td>\n",
       "      <td>48</td>\n",
       "      <td>среднее</td>\n",
       "      <td>1</td>\n",
       "      <td>в разводе</td>\n",
       "      <td>3</td>\n",
       "      <td>F</td>\n",
       "      <td>сотрудник</td>\n",
       "      <td>0</td>\n",
       "      <td>242831</td>\n",
       "      <td>на покупку своего автомобиля</td>\n",
       "      <td>B</td>\n",
       "      <td>операции с автомобилем</td>\n",
       "    </tr>\n",
       "  </tbody>\n",
       "</table>\n",
       "</div>"
      ],
      "text/plain": [
       "    children  days_employed  dob_years            education  education_id  \\\n",
       "0          1    8437.673028         42               высшее             0   \n",
       "1          1    4024.803754         36              среднее             1   \n",
       "2          0    5623.422610         33              среднее             1   \n",
       "3          3    4124.747207         32              среднее             1   \n",
       "4          0  340266.072047         53              среднее             1   \n",
       "5          0     926.185831         27               высшее             0   \n",
       "6          0    2879.202052         43               высшее             0   \n",
       "7          0     152.779569         50              среднее             1   \n",
       "8          2    6929.865299         35               высшее             0   \n",
       "9          0    2188.756445         41              среднее             1   \n",
       "10         2    4171.483647         36               высшее             0   \n",
       "11         0     792.701887         40              среднее             1   \n",
       "12         0  365286.622650         65              среднее             1   \n",
       "13         0    1846.641941         54  неоконченное высшее             2   \n",
       "14         0    1844.956182         56               высшее             0   \n",
       "15         1     972.364419         26              среднее             1   \n",
       "16         0    1719.934226         35              среднее             1   \n",
       "17         0    2369.999720         33               высшее             0   \n",
       "18         0  400281.136913         53              среднее             1   \n",
       "19         0   10038.818549         48              среднее             1   \n",
       "\n",
       "       family_status  family_status_id gender income_type  debt  total_income  \\\n",
       "0    женат / замужем                 0      F   сотрудник     0        253875   \n",
       "1    женат / замужем                 0      F   сотрудник     0        112080   \n",
       "2    женат / замужем                 0      M   сотрудник     0        145885   \n",
       "3    женат / замужем                 0      M   сотрудник     0        267628   \n",
       "4   гражданский брак                 1      F   пенсионер     0        158616   \n",
       "5   гражданский брак                 1      M   компаньон     0        255763   \n",
       "6    женат / замужем                 0      F   компаньон     0        240525   \n",
       "7    женат / замужем                 0      M   сотрудник     0        135823   \n",
       "8   гражданский брак                 1      F   сотрудник     0         95856   \n",
       "9    женат / замужем                 0      M   сотрудник     0        144425   \n",
       "10   женат / замужем                 0      M   компаньон     0        113943   \n",
       "11   женат / замужем                 0      F   сотрудник     0         77069   \n",
       "12  гражданский брак                 1      M   пенсионер     0        118514   \n",
       "13   женат / замужем                 0      F   сотрудник     0        130458   \n",
       "14  гражданский брак                 1      F   компаньон     1        165127   \n",
       "15   женат / замужем                 0      F   сотрудник     0        116820   \n",
       "16   женат / замужем                 0      F   сотрудник     0        289202   \n",
       "17  гражданский брак                 1      M   сотрудник     0         90410   \n",
       "18    вдовец / вдова                 2      F   пенсионер     0         56823   \n",
       "19         в разводе                 3      F   сотрудник     0        242831   \n",
       "\n",
       "                                   purpose total_income_category  \\\n",
       "0                            покупка жилья                     B   \n",
       "1                  приобретение автомобиля                     C   \n",
       "2                            покупка жилья                     C   \n",
       "3               дополнительное образование                     B   \n",
       "4                          сыграть свадьбу                     C   \n",
       "5                            покупка жилья                     B   \n",
       "6                        операции с жильем                     B   \n",
       "7                              образование                     C   \n",
       "8                    на проведение свадьбы                     C   \n",
       "9                  покупка жилья для семьи                     C   \n",
       "10                    покупка недвижимости                     C   \n",
       "11       покупка коммерческой недвижимости                     C   \n",
       "12                         сыграть свадьбу                     C   \n",
       "13                 приобретение автомобиля                     C   \n",
       "14              покупка жилой недвижимости                     C   \n",
       "15  строительство собственной недвижимости                     C   \n",
       "16                            недвижимость                     B   \n",
       "17              строительство недвижимости                     C   \n",
       "18      на покупку подержанного автомобиля                     C   \n",
       "19            на покупку своего автомобиля                     B   \n",
       "\n",
       "            purpose_category  \n",
       "0   операции с недвижимостью  \n",
       "1     операции с автомобилем  \n",
       "2   операции с недвижимостью  \n",
       "3      получение образования  \n",
       "4         проведение свадьбы  \n",
       "5   операции с недвижимостью  \n",
       "6   операции с недвижимостью  \n",
       "7      получение образования  \n",
       "8         проведение свадьбы  \n",
       "9   операции с недвижимостью  \n",
       "10  операции с недвижимостью  \n",
       "11  операции с недвижимостью  \n",
       "12        проведение свадьбы  \n",
       "13    операции с автомобилем  \n",
       "14  операции с недвижимостью  \n",
       "15  операции с недвижимостью  \n",
       "16  операции с недвижимостью  \n",
       "17  операции с недвижимостью  \n",
       "18    операции с автомобилем  \n",
       "19    операции с автомобилем  "
      ]
     },
     "metadata": {},
     "output_type": "display_data"
    }
   ],
   "source": [
    "display(data.head(20))"
   ]
  },
  {
   "cell_type": "markdown",
   "id": "00eca3ce",
   "metadata": {},
   "source": [
    "## Исследование данных и проверка гипотез"
   ]
  },
  {
   "cell_type": "markdown",
   "id": "23c7db39",
   "metadata": {},
   "source": [
    "### Гипотеза 1: есть зависимость между количеством детей и возвратом кредита в срок."
   ]
  },
  {
   "cell_type": "markdown",
   "id": "b71fb072",
   "metadata": {},
   "source": [
    "Сначала сделаем **подробные поэтапные расчёты** для наглядности. Далее приведём два варианта кратких версий, одну из которых и будем использовать в последующих расчётах. "
   ]
  },
  {
   "cell_type": "code",
   "execution_count": 23,
   "id": "41e8eaa9",
   "metadata": {},
   "outputs": [
    {
     "name": "stdout",
     "output_type": "stream",
     "text": [
      "children\n",
      "0    14091\n",
      "1     4808\n",
      "2     2052\n",
      "3      330\n",
      "4       41\n",
      "5        9\n",
      "Name: debt, dtype: int64\n",
      "\n",
      "children\n",
      "0    1063\n",
      "1     444\n",
      "2     194\n",
      "3      27\n",
      "4       4\n",
      "5       0\n",
      "Name: debt, dtype: int64\n",
      "\n",
      "children\n",
      "0    0.075\n",
      "1    0.092\n",
      "2    0.095\n",
      "3    0.082\n",
      "4    0.098\n",
      "5    0.000\n",
      "Name: debt, dtype: float64\n"
     ]
    }
   ],
   "source": [
    "# группируем данные по количеству детей, выбираем столбец debt и считаем\n",
    "# количество всего полученных кредитов у клиентов с разным количеством детей\n",
    "dep_repayment_children_number = data.groupby('children')['debt'].count()\n",
    "\n",
    "# для каждой группы по количечеству детей считаем количество задолженностей по кредиту\n",
    "dep_repayment_children_sum = data.groupby('children')['debt'].sum()\n",
    "\n",
    "# для каждой группы по количеству детей считаем среднее арифметическое по задолженности по кредиту\n",
    "dep_repayment_children_mean = dep_repayment_children_sum / dep_repayment_children_number\n",
    "\n",
    "print(dep_repayment_children_number)\n",
    "print()\n",
    "print(dep_repayment_children_sum)\n",
    "print()\n",
    "# округлим результат до тысячных\n",
    "print(dep_repayment_children_mean.round(3))"
   ]
  },
  {
   "cell_type": "markdown",
   "id": "6f96038c",
   "metadata": {},
   "source": [
    "**Краткий вариант 1:** те же подсчёты мы могли сделать более оптимальным путём, введя к группировке агрегирующую функцию. Её и будем использовать в последующих подсчётах."
   ]
  },
  {
   "cell_type": "code",
   "execution_count": 24,
   "id": "e72ff0d6",
   "metadata": {},
   "outputs": [
    {
     "name": "stdout",
     "output_type": "stream",
     "text": [
      "           debt             \n",
      "          count   sum   mean\n",
      "children                    \n",
      "0         14091  1063  0.075\n",
      "1          4808   444  0.092\n",
      "2          2052   194  0.095\n",
      "3           330    27  0.082\n",
      "4            41     4  0.098\n",
      "5             9     0  0.000\n"
     ]
    }
   ],
   "source": [
    "dep_repayment_children = data.groupby('children').agg({'debt': ['count', 'sum', 'mean']})\n",
    "\n",
    "print(dep_repayment_children.round(3))"
   ]
  },
  {
   "cell_type": "markdown",
   "id": "c3704a77",
   "metadata": {},
   "source": [
    "**Краткий вариант 2:** те же подсчёты мы могли сделать более оптимальным путём, создав сводную:"
   ]
  },
  {
   "cell_type": "code",
   "execution_count": 25,
   "id": "59a85513",
   "metadata": {},
   "outputs": [
    {
     "name": "stdout",
     "output_type": "stream",
     "text": [
      "          count   sum   mean\n",
      "           debt  debt   debt\n",
      "children                    \n",
      "0         14091  1063  0.075\n",
      "1          4808   444  0.092\n",
      "2          2052   194  0.095\n",
      "3           330    27  0.082\n",
      "4            41     4  0.098\n",
      "5             9     0  0.000\n"
     ]
    }
   ],
   "source": [
    "data_pivot_repayment_children = data.pivot_table(index = ['children'], values = 'debt', aggfunc = ['count', 'sum', 'mean'])\n",
    "print(data_pivot_repayment_children.round(3))"
   ]
  },
  {
   "cell_type": "markdown",
   "id": "e65dbb37",
   "metadata": {},
   "source": [
    "**Выводы:**\n",
    "\n",
    "<u>Основные:</u> \n",
    "- если особое внимание обратить именно на самые большие категории по количеству детей, а именно: 0, 1 и 2 ребёнка, мы увидим, что по мере увеличения у клиентов количества детей, увеличивается и вероятность  задолженности по кредиту. \n",
    "- клиенты с 5-ю детьми вовсе не имеют задолжностей, но т.к. выборка по клиентам с 5-ю детьми крайне мала, она не показательна.\n",
    "\n",
    "<u>Побочный:</u>  по мере увеличения у заёмщиков количества детей, их склонность брать кредит падает. \n",
    "\n",
    "**Итого:** можно сделать вывод, что зависимость между количеством детей и возвратом кредита в срок есть."
   ]
  },
  {
   "cell_type": "markdown",
   "id": "bb1e9016",
   "metadata": {},
   "source": [
    "### Гипотеза 2: есть зависимость между семейным положением и возвратом кредита в срок."
   ]
  },
  {
   "cell_type": "code",
   "execution_count": 26,
   "id": "11021248",
   "metadata": {},
   "outputs": [
    {
     "name": "stdout",
     "output_type": "stream",
     "text": [
      "                        debt            \n",
      "                       count  sum   mean\n",
      "family_status                           \n",
      "Не женат / не замужем   2796  273  0.098\n",
      "в разводе               1189   84  0.071\n",
      "вдовец / вдова           951   63  0.066\n",
      "гражданский брак        4134  385  0.093\n",
      "женат / замужем        12261  927  0.076\n"
     ]
    }
   ],
   "source": [
    "# для каждой группы по семейному положению посчитаем количество полученных кредитов (count), \n",
    "# сколько было кредитных задолженностей (sum) и среднее арифметическое (mean)\n",
    "\n",
    "dep_repayment_status = data.groupby('family_status').agg({'debt': ['count', 'sum', 'mean']})\n",
    "\n",
    "print(dep_repayment_status.round(3))"
   ]
  },
  {
   "cell_type": "markdown",
   "id": "2b8fce5f",
   "metadata": {},
   "source": [
    "**Вывод:** \n",
    "- опираясь на полученные данные мы видим, что состоящие или состоявшие в браке заемщики реже допускают просрочки.\n",
    "\n",
    "**Итого:** можно сделать вывод, что есть зависимость между семейным положением и возвратом кредита в срок."
   ]
  },
  {
   "cell_type": "markdown",
   "id": "d3275509",
   "metadata": {},
   "source": [
    "### Гипотеза 3: есть зависимость между уровнем дохода и возвратом кредита в срок."
   ]
  },
  {
   "cell_type": "code",
   "execution_count": 27,
   "id": "76ec7235",
   "metadata": {},
   "outputs": [
    {
     "name": "stdout",
     "output_type": "stream",
     "text": [
      "                        debt             \n",
      "                       count   sum   mean\n",
      "total_income_category                    \n",
      "A                         25     2  0.080\n",
      "B                       5014   354  0.071\n",
      "C                      15921  1353  0.085\n",
      "D                        349    21  0.060\n",
      "E                         22     2  0.091\n"
     ]
    }
   ],
   "source": [
    "# для каждой группы по уровню дохода посчитаем количество полученных кредитов (count), \n",
    "# сколько было кредитных задолженностей (sum) и среднее арифметическое (mean)\n",
    "\n",
    "dep_repayment_income = data.groupby('total_income_category').agg({'debt': ['count', 'sum', 'mean']})\n",
    "\n",
    "print(dep_repayment_income.round(3))"
   ]
  },
  {
   "cell_type": "markdown",
   "id": "8f3b5679",
   "metadata": {},
   "source": [
    "[Памятка: категории ежемесячного дохода](#income_category)"
   ]
  },
  {
   "cell_type": "markdown",
   "id": "7fd4a88f",
   "metadata": {},
   "source": [
    "**Вывод:** <a id='conclusion'></a>\n",
    "\n",
    "- если обратиться к двум наиболее многочисленным выборкам, а именно B и С, мы видим, что по мере уменьшения уровня дохода клиента, вероятность вернуть кредит в срок значительно уменьшается.\n",
    "\n",
    "**Итого:** можно сделать вывод, что есть ярко выраженная зависимость между уровнем дохода и возвратом кредита в срок."
   ]
  },
  {
   "cell_type": "markdown",
   "id": "ffb6a901",
   "metadata": {},
   "source": [
    "### Гипотеза 4: разные цели кредита влияют на его возврат в срок."
   ]
  },
  {
   "cell_type": "code",
   "execution_count": 28,
   "id": "bfd4be70",
   "metadata": {},
   "outputs": [
    {
     "name": "stdout",
     "output_type": "stream",
     "text": [
      "                           debt            \n",
      "                          count  sum   mean\n",
      "purpose_category                           \n",
      "операции с автомобилем     4279  400  0.093\n",
      "операции с недвижимостью  10751  780  0.073\n",
      "получение образования      3988  369  0.093\n",
      "проведение свадьбы         2313  183  0.079\n"
     ]
    }
   ],
   "source": [
    "# для каждой группы по цели получения кредита посчитаем количество полученных кредитов (count), \n",
    "# сколько было кредитных задолженностей (sum) и среднее арифметическое (mean)\n",
    "dep_repayment_purpose = data.groupby('purpose_category').agg({'debt': ['count', 'sum', 'mean']})\n",
    "\n",
    "print(dep_repayment_purpose.round(3))"
   ]
  },
  {
   "cell_type": "markdown",
   "id": "cb8a9d0d",
   "metadata": {},
   "source": [
    "**Вывод:** \n",
    "\n",
    "<u>Основной:</u>\n",
    "- мы видим, что клиенты, цель которых произвести операции с автомобилем или получить образование, чаще остальных имеют задолжность по кредиту. У тех клиентов, кто нацелен производить операции с недвижимостью или провести свадьбу, этот показатель чуть лучше.\n",
    "\n",
    "<u>Побочный:</u>\n",
    "- самой частой целью получения кредита является операция с недвижимостью, а самой редкой - проведение свадьбы. \n",
    "\n",
    "**Итого:** можно сделать вывод, что есть ярко выраженная зависимость между целью получения кредита и возвратом кредита в срок."
   ]
  },
  {
   "cell_type": "markdown",
   "id": "3e7876f4",
   "metadata": {},
   "source": [
    "### Приведите возможные причины появления пропусков в исходных данных."
   ]
  },
  {
   "cell_type": "markdown",
   "id": "b46a3817",
   "metadata": {},
   "source": [
    "*Ответ:* \n",
    "\n",
    "Пропуски были выявлены в столбце `общий трудовой стаж в днях` и `ежемесячный доход`, причём показатели идентичны. Это наводит на предположение, что клиент не трудоустроен официально и, как следствие, данные по трудовому стажу и доходу не поступают.\n",
    "Также такого рода пропуски, предположительно, могут говорить о том, что клиент - женщина в декрете, которая ещё не успела получить опыт работы. "
   ]
  },
  {
   "cell_type": "markdown",
   "id": "e62bc1f3",
   "metadata": {},
   "source": [
    "### Объясните, почему заполнить пропуски медианным значением — лучшее решение для количественных переменных."
   ]
  },
  {
   "cell_type": "markdown",
   "id": "945a3b1b",
   "metadata": {},
   "source": [
    "*Ответ:* заполнить пропуски медианным значением — лучшее решение для количественных переменных, чтобы не исказить результат средними показателями, т.к. данные неоднородны и некоторые значения дохода и/ или трудового стажа могут сильно выделяться среди большинства."
   ]
  },
  {
   "cell_type": "markdown",
   "id": "42e492da",
   "metadata": {},
   "source": [
    "## Общий вывод"
   ]
  },
  {
   "cell_type": "markdown",
   "id": "bdbcfe3f",
   "metadata": {},
   "source": [
    "Для исследования нам была передана статистика о платёжеспособности 21525 клиентов банка.\n",
    "Статистика содержала информацию о количество детей в семье клиента, его общем трудовом стаже, возрасте, уровне образования, семейном положении, поле клиента, типе занятости, имел ли он задолженность по возврату кредитов, ежемесячном доходе, а также данные о цели получения кредита.\n",
    "\n",
    "На стадии предобработки в данных были обнаружены и обработны пропуски, артефакты и дубликаты. Из дополнительных преобразований, для упрощения работы мы ввели категоризацию по уровню дохода клиентов и сделали более структурной категоризацию по цели получения кредита на основе общей смысловой нагрузки. \n",
    "\n",
    "В ходе исследования данных все выдвинутые нами гипотезы были подтверждены:\n",
    "\n",
    "- по мере увеличения у клиентов количества детей, увеличивается и вероятность задолженности по кредиту;\n",
    "- состоящие или состоявшие в браке заемщики реже допускают просрочки;\n",
    "- по мере уменьшения уровня дохода клиента, вероятность вернуть кредит в срок значительно уменьшается;\n",
    "- клиенты, цель которых произвести операции с автомобилем или получить образование, чаще остальных имеют задолжность по кредиту. У тех клиентов, кто нацелен производить операции с недвижимостью или провести свадьбу, этот показатель чуть лучше."
   ]
  },
  {
   "cell_type": "markdown",
   "id": "e51510f1",
   "metadata": {},
   "source": [
    "## Дальнейшие шаги для более детального исследования:"
   ]
  },
  {
   "cell_type": "markdown",
   "id": "b15afcbb",
   "metadata": {},
   "source": [
    "1. Исследовать зависимость между количеством детей, самейным статусом и наличием задолжностей по возврату кредита.\n",
    "2. Исследовать зависимость между уровнем ежемесячных доходов, количеством детей и наличием задолжностей по возврату кредита.\n",
    "3. Исследовать зависимость между количеством детей, целью получения кредита и наличием задолжностей по возврату кредита."
   ]
  }
 ],
 "metadata": {
  "ExecuteTimeLog": [
   {
    "duration": 365,
    "start_time": "2023-12-16T06:55:17.350Z"
   },
   {
    "duration": 83,
    "start_time": "2023-12-16T06:55:17.716Z"
   },
   {
    "duration": 0,
    "start_time": "2023-12-16T06:55:17.801Z"
   },
   {
    "duration": 0,
    "start_time": "2023-12-16T06:55:17.802Z"
   },
   {
    "duration": 0,
    "start_time": "2023-12-16T06:55:17.803Z"
   },
   {
    "duration": 0,
    "start_time": "2023-12-16T06:55:17.804Z"
   },
   {
    "duration": 0,
    "start_time": "2023-12-16T06:55:17.805Z"
   },
   {
    "duration": 0,
    "start_time": "2023-12-16T06:55:17.806Z"
   },
   {
    "duration": 0,
    "start_time": "2023-12-16T06:55:17.806Z"
   },
   {
    "duration": 0,
    "start_time": "2023-12-16T06:55:17.808Z"
   },
   {
    "duration": 0,
    "start_time": "2023-12-16T06:55:17.809Z"
   },
   {
    "duration": 0,
    "start_time": "2023-12-16T06:55:17.810Z"
   },
   {
    "duration": 0,
    "start_time": "2023-12-16T06:55:17.811Z"
   },
   {
    "duration": 0,
    "start_time": "2023-12-16T06:55:17.814Z"
   },
   {
    "duration": 1,
    "start_time": "2023-12-16T06:55:17.815Z"
   },
   {
    "duration": 0,
    "start_time": "2023-12-16T06:55:17.816Z"
   },
   {
    "duration": 0,
    "start_time": "2023-12-16T06:55:17.817Z"
   },
   {
    "duration": 0,
    "start_time": "2023-12-16T06:55:17.818Z"
   },
   {
    "duration": 0,
    "start_time": "2023-12-16T06:55:17.819Z"
   },
   {
    "duration": 0,
    "start_time": "2023-12-16T06:55:17.820Z"
   },
   {
    "duration": 0,
    "start_time": "2023-12-16T06:55:17.821Z"
   },
   {
    "duration": 0,
    "start_time": "2023-12-16T06:55:17.822Z"
   },
   {
    "duration": 0,
    "start_time": "2023-12-16T06:55:17.823Z"
   },
   {
    "duration": 0,
    "start_time": "2023-12-16T06:55:17.824Z"
   },
   {
    "duration": 0,
    "start_time": "2023-12-16T06:55:17.825Z"
   },
   {
    "duration": 0,
    "start_time": "2023-12-16T06:55:17.826Z"
   },
   {
    "duration": 0,
    "start_time": "2023-12-16T06:55:17.827Z"
   },
   {
    "duration": 0,
    "start_time": "2023-12-16T06:55:17.828Z"
   },
   {
    "duration": 334,
    "start_time": "2023-12-16T06:56:25.027Z"
   },
   {
    "duration": 358,
    "start_time": "2023-12-16T06:56:29.352Z"
   },
   {
    "duration": 196,
    "start_time": "2023-12-16T06:56:29.712Z"
   },
   {
    "duration": 9,
    "start_time": "2023-12-16T06:56:29.910Z"
   },
   {
    "duration": 17,
    "start_time": "2023-12-16T06:56:29.920Z"
   },
   {
    "duration": 11,
    "start_time": "2023-12-16T06:56:29.938Z"
   },
   {
    "duration": 39,
    "start_time": "2023-12-16T06:56:29.950Z"
   },
   {
    "duration": 5,
    "start_time": "2023-12-16T06:56:29.990Z"
   },
   {
    "duration": 20,
    "start_time": "2023-12-16T06:56:29.996Z"
   },
   {
    "duration": 25,
    "start_time": "2023-12-16T06:56:30.018Z"
   },
   {
    "duration": 62,
    "start_time": "2023-12-16T06:56:30.044Z"
   },
   {
    "duration": 79,
    "start_time": "2023-12-16T06:56:30.108Z"
   },
   {
    "duration": 16,
    "start_time": "2023-12-16T06:56:30.189Z"
   },
   {
    "duration": 27,
    "start_time": "2023-12-16T06:56:30.207Z"
   },
   {
    "duration": 108,
    "start_time": "2023-12-16T06:56:30.237Z"
   },
   {
    "duration": 51,
    "start_time": "2023-12-16T06:56:30.347Z"
   },
   {
    "duration": 37,
    "start_time": "2023-12-16T06:56:30.400Z"
   },
   {
    "duration": 7,
    "start_time": "2023-12-16T06:56:30.439Z"
   },
   {
    "duration": 45,
    "start_time": "2023-12-16T06:56:30.447Z"
   },
   {
    "duration": 32,
    "start_time": "2023-12-16T06:56:30.494Z"
   },
   {
    "duration": 39,
    "start_time": "2023-12-16T06:56:30.528Z"
   },
   {
    "duration": 173,
    "start_time": "2023-12-16T06:56:30.569Z"
   },
   {
    "duration": 21,
    "start_time": "2023-12-16T06:56:30.744Z"
   },
   {
    "duration": 36,
    "start_time": "2023-12-16T06:56:30.767Z"
   },
   {
    "duration": 51,
    "start_time": "2023-12-16T06:56:30.804Z"
   },
   {
    "duration": 41,
    "start_time": "2023-12-16T06:56:30.857Z"
   },
   {
    "duration": 21,
    "start_time": "2023-12-16T06:56:30.899Z"
   },
   {
    "duration": 17,
    "start_time": "2023-12-16T06:56:30.922Z"
   },
   {
    "duration": 43,
    "start_time": "2023-12-16T06:56:30.941Z"
   },
   {
    "duration": 82,
    "start_time": "2023-12-16T07:02:31.230Z"
   },
   {
    "duration": 446,
    "start_time": "2023-12-16T07:03:08.469Z"
   },
   {
    "duration": 13,
    "start_time": "2023-12-16T07:03:25.584Z"
   },
   {
    "duration": 49,
    "start_time": "2023-12-16T11:32:11.768Z"
   },
   {
    "duration": 5,
    "start_time": "2023-12-16T11:32:28.767Z"
   },
   {
    "duration": 6,
    "start_time": "2023-12-16T11:32:36.676Z"
   },
   {
    "duration": 9,
    "start_time": "2023-12-16T11:32:50.429Z"
   },
   {
    "duration": 421,
    "start_time": "2023-12-16T11:33:03.830Z"
   },
   {
    "duration": 294,
    "start_time": "2023-12-16T11:33:06.103Z"
   },
   {
    "duration": 11,
    "start_time": "2023-12-16T11:33:09.727Z"
   },
   {
    "duration": 21,
    "start_time": "2023-12-16T11:33:16.282Z"
   },
   {
    "duration": 64,
    "start_time": "2023-12-16T11:35:06.935Z"
   },
   {
    "duration": 44,
    "start_time": "2023-12-16T11:35:36.506Z"
   },
   {
    "duration": 49,
    "start_time": "2023-12-16T11:35:46.235Z"
   },
   {
    "duration": 56,
    "start_time": "2023-12-16T11:40:07.265Z"
   },
   {
    "duration": 44,
    "start_time": "2023-12-18T13:34:43.702Z"
   },
   {
    "duration": 358,
    "start_time": "2023-12-18T13:34:55.311Z"
   },
   {
    "duration": 178,
    "start_time": "2023-12-18T13:34:55.671Z"
   },
   {
    "duration": 23,
    "start_time": "2023-12-18T13:34:55.851Z"
   },
   {
    "duration": 13,
    "start_time": "2023-12-18T13:34:55.876Z"
   },
   {
    "duration": 8,
    "start_time": "2023-12-18T13:34:55.891Z"
   },
   {
    "duration": 38,
    "start_time": "2023-12-18T13:34:55.901Z"
   },
   {
    "duration": 5,
    "start_time": "2023-12-18T13:34:55.940Z"
   },
   {
    "duration": 22,
    "start_time": "2023-12-18T13:34:55.947Z"
   },
   {
    "duration": 4,
    "start_time": "2023-12-18T13:34:55.971Z"
   },
   {
    "duration": 7,
    "start_time": "2023-12-18T13:34:55.982Z"
   },
   {
    "duration": 43,
    "start_time": "2023-12-18T13:34:55.991Z"
   },
   {
    "duration": 10,
    "start_time": "2023-12-18T13:34:56.035Z"
   },
   {
    "duration": 20,
    "start_time": "2023-12-18T13:34:56.046Z"
   },
   {
    "duration": 22,
    "start_time": "2023-12-18T13:34:56.069Z"
   },
   {
    "duration": 21,
    "start_time": "2023-12-18T13:34:56.092Z"
   },
   {
    "duration": 25,
    "start_time": "2023-12-18T13:34:56.114Z"
   },
   {
    "duration": 15,
    "start_time": "2023-12-18T13:34:56.141Z"
   },
   {
    "duration": 14,
    "start_time": "2023-12-18T13:34:56.157Z"
   },
   {
    "duration": 4,
    "start_time": "2023-12-18T13:34:56.172Z"
   },
   {
    "duration": 5,
    "start_time": "2023-12-18T13:34:56.177Z"
   },
   {
    "duration": 128,
    "start_time": "2023-12-18T13:34:56.183Z"
   },
   {
    "duration": 14,
    "start_time": "2023-12-18T13:34:56.313Z"
   },
   {
    "duration": 31,
    "start_time": "2023-12-18T13:34:56.328Z"
   },
   {
    "duration": 10,
    "start_time": "2023-12-18T13:34:56.360Z"
   },
   {
    "duration": 23,
    "start_time": "2023-12-18T13:34:56.372Z"
   },
   {
    "duration": 12,
    "start_time": "2023-12-18T13:34:56.396Z"
   },
   {
    "duration": 11,
    "start_time": "2023-12-18T13:34:56.409Z"
   },
   {
    "duration": 11,
    "start_time": "2023-12-18T13:34:56.422Z"
   },
   {
    "duration": 448,
    "start_time": "2023-12-18T13:34:56.434Z"
   },
   {
    "duration": 11,
    "start_time": "2023-12-18T13:34:56.884Z"
   },
   {
    "duration": 74,
    "start_time": "2023-12-18T13:37:57.533Z"
   },
   {
    "duration": 72,
    "start_time": "2023-12-18T13:38:09.561Z"
   },
   {
    "duration": 392,
    "start_time": "2023-12-18T13:38:14.280Z"
   },
   {
    "duration": 191,
    "start_time": "2023-12-18T13:38:14.673Z"
   },
   {
    "duration": 22,
    "start_time": "2023-12-18T13:38:14.865Z"
   },
   {
    "duration": 26,
    "start_time": "2023-12-18T13:38:14.888Z"
   },
   {
    "duration": 21,
    "start_time": "2023-12-18T13:38:14.916Z"
   },
   {
    "duration": 59,
    "start_time": "2023-12-18T13:38:14.938Z"
   },
   {
    "duration": 8,
    "start_time": "2023-12-18T13:38:14.998Z"
   },
   {
    "duration": 53,
    "start_time": "2023-12-18T13:38:15.008Z"
   },
   {
    "duration": 34,
    "start_time": "2023-12-18T13:38:15.063Z"
   },
   {
    "duration": 25,
    "start_time": "2023-12-18T13:38:15.098Z"
   },
   {
    "duration": 42,
    "start_time": "2023-12-18T13:38:15.124Z"
   },
   {
    "duration": 9,
    "start_time": "2023-12-18T13:38:15.167Z"
   },
   {
    "duration": 17,
    "start_time": "2023-12-18T13:38:15.177Z"
   },
   {
    "duration": 33,
    "start_time": "2023-12-18T13:38:15.197Z"
   },
   {
    "duration": 40,
    "start_time": "2023-12-18T13:38:15.231Z"
   },
   {
    "duration": 29,
    "start_time": "2023-12-18T13:38:15.273Z"
   },
   {
    "duration": 2,
    "start_time": "2023-12-18T13:38:15.304Z"
   },
   {
    "duration": 30,
    "start_time": "2023-12-18T13:38:15.308Z"
   },
   {
    "duration": 48,
    "start_time": "2023-12-18T13:38:15.339Z"
   },
   {
    "duration": 25,
    "start_time": "2023-12-18T13:38:15.389Z"
   },
   {
    "duration": 158,
    "start_time": "2023-12-18T13:38:15.416Z"
   },
   {
    "duration": 14,
    "start_time": "2023-12-18T13:38:15.576Z"
   },
   {
    "duration": 24,
    "start_time": "2023-12-18T13:38:15.592Z"
   },
   {
    "duration": 33,
    "start_time": "2023-12-18T13:38:15.618Z"
   },
   {
    "duration": 43,
    "start_time": "2023-12-18T13:38:15.652Z"
   },
   {
    "duration": 72,
    "start_time": "2023-12-18T13:38:15.697Z"
   },
   {
    "duration": 0,
    "start_time": "2023-12-18T13:38:15.771Z"
   },
   {
    "duration": 0,
    "start_time": "2023-12-18T13:38:15.772Z"
   },
   {
    "duration": 0,
    "start_time": "2023-12-18T13:38:15.773Z"
   },
   {
    "duration": 0,
    "start_time": "2023-12-18T13:38:15.774Z"
   },
   {
    "duration": 0,
    "start_time": "2023-12-18T13:38:15.775Z"
   },
   {
    "duration": 11,
    "start_time": "2023-12-18T13:48:36.055Z"
   },
   {
    "duration": 12,
    "start_time": "2023-12-18T13:48:41.549Z"
   },
   {
    "duration": 75,
    "start_time": "2023-12-18T13:54:36.062Z"
   },
   {
    "duration": 82,
    "start_time": "2023-12-18T13:54:43.873Z"
   },
   {
    "duration": 404,
    "start_time": "2023-12-18T13:54:51.593Z"
   },
   {
    "duration": 240,
    "start_time": "2023-12-18T13:54:51.999Z"
   },
   {
    "duration": 28,
    "start_time": "2023-12-18T13:54:52.243Z"
   },
   {
    "duration": 25,
    "start_time": "2023-12-18T13:54:52.272Z"
   },
   {
    "duration": 8,
    "start_time": "2023-12-18T13:54:52.299Z"
   },
   {
    "duration": 67,
    "start_time": "2023-12-18T13:54:52.309Z"
   },
   {
    "duration": 5,
    "start_time": "2023-12-18T13:54:52.378Z"
   },
   {
    "duration": 17,
    "start_time": "2023-12-18T13:54:52.384Z"
   },
   {
    "duration": 3,
    "start_time": "2023-12-18T13:54:52.404Z"
   },
   {
    "duration": 17,
    "start_time": "2023-12-18T13:54:52.409Z"
   },
   {
    "duration": 45,
    "start_time": "2023-12-18T13:54:52.428Z"
   },
   {
    "duration": 17,
    "start_time": "2023-12-18T13:54:52.475Z"
   },
   {
    "duration": 9,
    "start_time": "2023-12-18T13:54:52.494Z"
   },
   {
    "duration": 49,
    "start_time": "2023-12-18T13:54:52.504Z"
   },
   {
    "duration": 48,
    "start_time": "2023-12-18T13:54:52.555Z"
   },
   {
    "duration": 41,
    "start_time": "2023-12-18T13:54:52.605Z"
   },
   {
    "duration": 3,
    "start_time": "2023-12-18T13:54:52.648Z"
   },
   {
    "duration": 22,
    "start_time": "2023-12-18T13:54:52.652Z"
   },
   {
    "duration": 41,
    "start_time": "2023-12-18T13:54:52.675Z"
   },
   {
    "duration": 18,
    "start_time": "2023-12-18T13:54:52.718Z"
   },
   {
    "duration": 154,
    "start_time": "2023-12-18T13:54:52.737Z"
   },
   {
    "duration": 16,
    "start_time": "2023-12-18T13:54:52.893Z"
   },
   {
    "duration": 32,
    "start_time": "2023-12-18T13:54:52.910Z"
   },
   {
    "duration": 30,
    "start_time": "2023-12-18T13:54:52.943Z"
   },
   {
    "duration": 30,
    "start_time": "2023-12-18T13:54:52.975Z"
   },
   {
    "duration": 14,
    "start_time": "2023-12-18T13:54:53.007Z"
   },
   {
    "duration": 14,
    "start_time": "2023-12-18T13:54:53.025Z"
   },
   {
    "duration": 90,
    "start_time": "2023-12-18T13:54:53.040Z"
   },
   {
    "duration": 0,
    "start_time": "2023-12-18T13:54:53.132Z"
   },
   {
    "duration": 0,
    "start_time": "2023-12-18T13:54:53.134Z"
   },
   {
    "duration": 0,
    "start_time": "2023-12-18T13:54:53.136Z"
   },
   {
    "duration": 70,
    "start_time": "2023-12-18T13:54:56.856Z"
   },
   {
    "duration": 107,
    "start_time": "2023-12-18T13:55:01.066Z"
   },
   {
    "duration": 103,
    "start_time": "2023-12-18T13:55:28.673Z"
   },
   {
    "duration": 69,
    "start_time": "2023-12-18T13:55:40.429Z"
   },
   {
    "duration": 61,
    "start_time": "2023-12-18T13:55:45.121Z"
   },
   {
    "duration": 384,
    "start_time": "2023-12-18T13:55:57.276Z"
   },
   {
    "duration": 197,
    "start_time": "2023-12-18T13:55:57.662Z"
   },
   {
    "duration": 20,
    "start_time": "2023-12-18T13:55:57.861Z"
   },
   {
    "duration": 14,
    "start_time": "2023-12-18T13:55:57.882Z"
   },
   {
    "duration": 7,
    "start_time": "2023-12-18T13:55:57.898Z"
   },
   {
    "duration": 36,
    "start_time": "2023-12-18T13:55:57.907Z"
   },
   {
    "duration": 4,
    "start_time": "2023-12-18T13:55:57.945Z"
   },
   {
    "duration": 8,
    "start_time": "2023-12-18T13:55:57.950Z"
   },
   {
    "duration": 25,
    "start_time": "2023-12-18T13:55:57.959Z"
   },
   {
    "duration": 7,
    "start_time": "2023-12-18T13:55:57.986Z"
   },
   {
    "duration": 39,
    "start_time": "2023-12-18T13:55:57.994Z"
   },
   {
    "duration": 8,
    "start_time": "2023-12-18T13:55:58.034Z"
   },
   {
    "duration": 9,
    "start_time": "2023-12-18T13:55:58.043Z"
   },
   {
    "duration": 30,
    "start_time": "2023-12-18T13:55:58.054Z"
   },
   {
    "duration": 19,
    "start_time": "2023-12-18T13:55:58.085Z"
   },
   {
    "duration": 26,
    "start_time": "2023-12-18T13:55:58.105Z"
   },
   {
    "duration": 3,
    "start_time": "2023-12-18T13:55:58.132Z"
   },
   {
    "duration": 14,
    "start_time": "2023-12-18T13:55:58.136Z"
   },
   {
    "duration": 19,
    "start_time": "2023-12-18T13:55:58.151Z"
   },
   {
    "duration": 3,
    "start_time": "2023-12-18T13:55:58.172Z"
   },
   {
    "duration": 126,
    "start_time": "2023-12-18T13:55:58.176Z"
   },
   {
    "duration": 14,
    "start_time": "2023-12-18T13:55:58.303Z"
   },
   {
    "duration": 9,
    "start_time": "2023-12-18T13:55:58.319Z"
   },
   {
    "duration": 12,
    "start_time": "2023-12-18T13:55:58.329Z"
   },
   {
    "duration": 49,
    "start_time": "2023-12-18T13:55:58.343Z"
   },
   {
    "duration": 12,
    "start_time": "2023-12-18T13:55:58.394Z"
   },
   {
    "duration": 11,
    "start_time": "2023-12-18T13:55:58.408Z"
   },
   {
    "duration": 70,
    "start_time": "2023-12-18T13:55:58.421Z"
   },
   {
    "duration": 0,
    "start_time": "2023-12-18T13:55:58.493Z"
   },
   {
    "duration": 0,
    "start_time": "2023-12-18T13:55:58.494Z"
   },
   {
    "duration": 0,
    "start_time": "2023-12-18T13:55:58.495Z"
   },
   {
    "duration": 7,
    "start_time": "2023-12-18T13:56:30.180Z"
   },
   {
    "duration": 73,
    "start_time": "2023-12-18T13:56:43.324Z"
   },
   {
    "duration": 65,
    "start_time": "2023-12-18T13:56:46.444Z"
   },
   {
    "duration": 78,
    "start_time": "2023-12-18T13:56:49.745Z"
   },
   {
    "duration": 136,
    "start_time": "2023-12-18T13:56:53.856Z"
   },
   {
    "duration": 83,
    "start_time": "2023-12-18T13:56:57.026Z"
   },
   {
    "duration": 63,
    "start_time": "2023-12-18T13:56:59.935Z"
   },
   {
    "duration": 67,
    "start_time": "2023-12-18T13:57:05.330Z"
   },
   {
    "duration": 100,
    "start_time": "2023-12-18T14:03:32.763Z"
   },
   {
    "duration": 13,
    "start_time": "2023-12-18T14:13:07.267Z"
   },
   {
    "duration": 364,
    "start_time": "2023-12-18T14:24:48.799Z"
   },
   {
    "duration": 239,
    "start_time": "2023-12-18T14:24:49.165Z"
   },
   {
    "duration": 21,
    "start_time": "2023-12-18T14:24:49.406Z"
   },
   {
    "duration": 16,
    "start_time": "2023-12-18T14:24:49.429Z"
   },
   {
    "duration": 9,
    "start_time": "2023-12-18T14:24:49.446Z"
   },
   {
    "duration": 56,
    "start_time": "2023-12-18T14:24:49.456Z"
   },
   {
    "duration": 5,
    "start_time": "2023-12-18T14:24:49.514Z"
   },
   {
    "duration": 9,
    "start_time": "2023-12-18T14:24:49.520Z"
   },
   {
    "duration": 5,
    "start_time": "2023-12-18T14:24:49.530Z"
   },
   {
    "duration": 6,
    "start_time": "2023-12-18T14:24:49.537Z"
   },
   {
    "duration": 64,
    "start_time": "2023-12-18T14:24:49.544Z"
   },
   {
    "duration": 9,
    "start_time": "2023-12-18T14:24:49.610Z"
   },
   {
    "duration": 4,
    "start_time": "2023-12-18T14:24:49.621Z"
   },
   {
    "duration": 14,
    "start_time": "2023-12-18T14:24:49.626Z"
   },
   {
    "duration": 42,
    "start_time": "2023-12-18T14:24:49.642Z"
   },
   {
    "duration": 32,
    "start_time": "2023-12-18T14:24:49.686Z"
   },
   {
    "duration": 3,
    "start_time": "2023-12-18T14:24:49.720Z"
   },
   {
    "duration": 13,
    "start_time": "2023-12-18T14:24:49.725Z"
   },
   {
    "duration": 8,
    "start_time": "2023-12-18T14:24:49.739Z"
   },
   {
    "duration": 4,
    "start_time": "2023-12-18T14:24:49.748Z"
   },
   {
    "duration": 169,
    "start_time": "2023-12-18T14:24:49.754Z"
   },
   {
    "duration": 17,
    "start_time": "2023-12-18T14:24:49.925Z"
   },
   {
    "duration": 34,
    "start_time": "2023-12-18T14:24:49.944Z"
   },
   {
    "duration": 47,
    "start_time": "2023-12-18T14:24:49.980Z"
   },
   {
    "duration": 44,
    "start_time": "2023-12-18T14:24:50.029Z"
   },
   {
    "duration": 13,
    "start_time": "2023-12-18T14:24:50.075Z"
   },
   {
    "duration": 13,
    "start_time": "2023-12-18T14:24:50.089Z"
   },
   {
    "duration": 13,
    "start_time": "2023-12-18T14:24:50.105Z"
   },
   {
    "duration": 311,
    "start_time": "2023-12-18T14:24:50.119Z"
   },
   {
    "duration": 12,
    "start_time": "2023-12-18T14:24:50.431Z"
   },
   {
    "duration": 336,
    "start_time": "2023-12-18T14:25:22.037Z"
   },
   {
    "duration": 204,
    "start_time": "2023-12-18T14:25:22.374Z"
   },
   {
    "duration": 21,
    "start_time": "2023-12-18T14:25:22.579Z"
   },
   {
    "duration": 14,
    "start_time": "2023-12-18T14:25:22.602Z"
   },
   {
    "duration": 22,
    "start_time": "2023-12-18T14:25:22.618Z"
   },
   {
    "duration": 56,
    "start_time": "2023-12-18T14:25:22.641Z"
   },
   {
    "duration": 5,
    "start_time": "2023-12-18T14:25:22.698Z"
   },
   {
    "duration": 26,
    "start_time": "2023-12-18T14:25:22.704Z"
   },
   {
    "duration": 14,
    "start_time": "2023-12-18T14:25:22.731Z"
   },
   {
    "duration": 6,
    "start_time": "2023-12-18T14:25:22.748Z"
   },
   {
    "duration": 51,
    "start_time": "2023-12-18T14:25:22.755Z"
   },
   {
    "duration": 9,
    "start_time": "2023-12-18T14:25:22.807Z"
   },
   {
    "duration": 12,
    "start_time": "2023-12-18T14:25:22.817Z"
   },
   {
    "duration": 14,
    "start_time": "2023-12-18T14:25:22.830Z"
   },
   {
    "duration": 16,
    "start_time": "2023-12-18T14:25:22.846Z"
   },
   {
    "duration": 33,
    "start_time": "2023-12-18T14:25:22.864Z"
   },
   {
    "duration": 3,
    "start_time": "2023-12-18T14:25:22.899Z"
   },
   {
    "duration": 10,
    "start_time": "2023-12-18T14:25:22.903Z"
   },
   {
    "duration": 22,
    "start_time": "2023-12-18T14:25:22.914Z"
   },
   {
    "duration": 3,
    "start_time": "2023-12-18T14:25:22.938Z"
   },
   {
    "duration": 145,
    "start_time": "2023-12-18T14:25:22.942Z"
   },
   {
    "duration": 14,
    "start_time": "2023-12-18T14:25:23.089Z"
   },
   {
    "duration": 8,
    "start_time": "2023-12-18T14:25:23.105Z"
   },
   {
    "duration": 11,
    "start_time": "2023-12-18T14:25:23.114Z"
   },
   {
    "duration": 27,
    "start_time": "2023-12-18T14:25:23.126Z"
   },
   {
    "duration": 33,
    "start_time": "2023-12-18T14:25:23.155Z"
   },
   {
    "duration": 11,
    "start_time": "2023-12-18T14:25:23.190Z"
   },
   {
    "duration": 11,
    "start_time": "2023-12-18T14:25:23.204Z"
   },
   {
    "duration": 285,
    "start_time": "2023-12-18T14:25:23.216Z"
   },
   {
    "duration": 12,
    "start_time": "2023-12-18T14:25:23.503Z"
   },
   {
    "duration": 12,
    "start_time": "2023-12-18T15:20:34.093Z"
   },
   {
    "duration": 10,
    "start_time": "2023-12-18T15:20:36.771Z"
   },
   {
    "duration": 1330,
    "start_time": "2023-12-18T15:22:04.256Z"
   },
   {
    "duration": 1233,
    "start_time": "2023-12-18T15:22:44.258Z"
   },
   {
    "duration": 1283,
    "start_time": "2023-12-18T15:22:52.571Z"
   },
   {
    "duration": 1432,
    "start_time": "2023-12-18T15:23:00.047Z"
   },
   {
    "duration": 11,
    "start_time": "2023-12-18T15:23:14.954Z"
   },
   {
    "duration": 1131,
    "start_time": "2023-12-18T15:24:56.853Z"
   },
   {
    "duration": 11,
    "start_time": "2023-12-18T15:25:02.432Z"
   },
   {
    "duration": 14,
    "start_time": "2023-12-18T15:25:26.167Z"
   },
   {
    "duration": 10,
    "start_time": "2023-12-18T15:25:38.184Z"
   },
   {
    "duration": 23,
    "start_time": "2023-12-18T15:25:44.038Z"
   },
   {
    "duration": 10,
    "start_time": "2023-12-18T15:26:21.748Z"
   },
   {
    "duration": 12,
    "start_time": "2023-12-18T15:26:27.833Z"
   },
   {
    "duration": 19,
    "start_time": "2023-12-18T15:26:34.899Z"
   },
   {
    "duration": 22,
    "start_time": "2023-12-18T15:26:38.955Z"
   },
   {
    "duration": 406,
    "start_time": "2023-12-18T15:38:47.764Z"
   },
   {
    "duration": 229,
    "start_time": "2023-12-18T15:38:48.172Z"
   },
   {
    "duration": 19,
    "start_time": "2023-12-18T15:38:48.402Z"
   },
   {
    "duration": 30,
    "start_time": "2023-12-18T15:38:48.423Z"
   },
   {
    "duration": 26,
    "start_time": "2023-12-18T15:38:48.454Z"
   },
   {
    "duration": 35,
    "start_time": "2023-12-18T15:38:48.482Z"
   },
   {
    "duration": 5,
    "start_time": "2023-12-18T15:38:48.518Z"
   },
   {
    "duration": 32,
    "start_time": "2023-12-18T15:38:48.524Z"
   },
   {
    "duration": 3,
    "start_time": "2023-12-18T15:38:48.558Z"
   },
   {
    "duration": 8,
    "start_time": "2023-12-18T15:38:48.564Z"
   },
   {
    "duration": 37,
    "start_time": "2023-12-18T15:38:48.574Z"
   },
   {
    "duration": 9,
    "start_time": "2023-12-18T15:38:48.613Z"
   },
   {
    "duration": 5,
    "start_time": "2023-12-18T15:38:48.623Z"
   },
   {
    "duration": 58,
    "start_time": "2023-12-18T15:38:48.629Z"
   },
   {
    "duration": 18,
    "start_time": "2023-12-18T15:38:48.688Z"
   },
   {
    "duration": 31,
    "start_time": "2023-12-18T15:38:48.708Z"
   },
   {
    "duration": 4,
    "start_time": "2023-12-18T15:38:48.740Z"
   },
   {
    "duration": 26,
    "start_time": "2023-12-18T15:38:48.745Z"
   },
   {
    "duration": 9,
    "start_time": "2023-12-18T15:38:48.773Z"
   },
   {
    "duration": 2,
    "start_time": "2023-12-18T15:38:48.784Z"
   },
   {
    "duration": 138,
    "start_time": "2023-12-18T15:38:48.788Z"
   },
   {
    "duration": 15,
    "start_time": "2023-12-18T15:38:48.927Z"
   },
   {
    "duration": 16,
    "start_time": "2023-12-18T15:38:48.943Z"
   },
   {
    "duration": 10,
    "start_time": "2023-12-18T15:38:48.961Z"
   },
   {
    "duration": 22,
    "start_time": "2023-12-18T15:38:48.981Z"
   },
   {
    "duration": 10,
    "start_time": "2023-12-18T15:38:49.005Z"
   },
   {
    "duration": 21,
    "start_time": "2023-12-18T15:38:49.017Z"
   },
   {
    "duration": 26,
    "start_time": "2023-12-18T15:38:49.040Z"
   },
   {
    "duration": 286,
    "start_time": "2023-12-18T15:38:49.067Z"
   },
   {
    "duration": 11,
    "start_time": "2023-12-18T15:38:49.354Z"
   },
   {
    "duration": 408,
    "start_time": "2023-12-19T07:14:41.065Z"
   },
   {
    "duration": 247,
    "start_time": "2023-12-19T07:14:41.475Z"
   },
   {
    "duration": 21,
    "start_time": "2023-12-19T07:14:41.723Z"
   },
   {
    "duration": 13,
    "start_time": "2023-12-19T07:14:41.746Z"
   },
   {
    "duration": 21,
    "start_time": "2023-12-19T07:14:41.761Z"
   },
   {
    "duration": 34,
    "start_time": "2023-12-19T07:14:41.784Z"
   },
   {
    "duration": 5,
    "start_time": "2023-12-19T07:14:41.819Z"
   },
   {
    "duration": 16,
    "start_time": "2023-12-19T07:14:41.825Z"
   },
   {
    "duration": 3,
    "start_time": "2023-12-19T07:14:41.843Z"
   },
   {
    "duration": 7,
    "start_time": "2023-12-19T07:14:41.849Z"
   },
   {
    "duration": 60,
    "start_time": "2023-12-19T07:14:41.857Z"
   },
   {
    "duration": 8,
    "start_time": "2023-12-19T07:14:41.918Z"
   },
   {
    "duration": 3,
    "start_time": "2023-12-19T07:14:41.928Z"
   },
   {
    "duration": 11,
    "start_time": "2023-12-19T07:14:41.932Z"
   },
   {
    "duration": 15,
    "start_time": "2023-12-19T07:14:41.944Z"
   },
   {
    "duration": 28,
    "start_time": "2023-12-19T07:14:41.983Z"
   },
   {
    "duration": 3,
    "start_time": "2023-12-19T07:14:42.012Z"
   },
   {
    "duration": 13,
    "start_time": "2023-12-19T07:14:42.017Z"
   },
   {
    "duration": 4,
    "start_time": "2023-12-19T07:14:42.032Z"
   },
   {
    "duration": 4,
    "start_time": "2023-12-19T07:14:42.037Z"
   },
   {
    "duration": 153,
    "start_time": "2023-12-19T07:14:42.042Z"
   },
   {
    "duration": 15,
    "start_time": "2023-12-19T07:14:42.196Z"
   },
   {
    "duration": 11,
    "start_time": "2023-12-19T07:14:42.213Z"
   },
   {
    "duration": 11,
    "start_time": "2023-12-19T07:14:42.225Z"
   },
   {
    "duration": 45,
    "start_time": "2023-12-19T07:14:42.238Z"
   },
   {
    "duration": 12,
    "start_time": "2023-12-19T07:14:42.284Z"
   },
   {
    "duration": 11,
    "start_time": "2023-12-19T07:14:42.297Z"
   },
   {
    "duration": 21,
    "start_time": "2023-12-19T07:14:42.310Z"
   },
   {
    "duration": 461,
    "start_time": "2023-12-19T07:14:42.332Z"
   },
   {
    "duration": 12,
    "start_time": "2023-12-19T07:14:42.795Z"
   },
   {
    "duration": 111,
    "start_time": "2023-12-19T07:15:05.102Z"
   }
  ],
  "celltoolbar": "Необработанный формат ячейки",
  "kernelspec": {
   "display_name": "Python 3 (ipykernel)",
   "language": "python",
   "name": "python3"
  },
  "language_info": {
   "codemirror_mode": {
    "name": "ipython",
    "version": 3
   },
   "file_extension": ".py",
   "mimetype": "text/x-python",
   "name": "python",
   "nbconvert_exporter": "python",
   "pygments_lexer": "ipython3",
   "version": "3.11.5"
  },
  "toc": {
   "base_numbering": 1,
   "nav_menu": {},
   "number_sections": true,
   "sideBar": true,
   "skip_h1_title": true,
   "title_cell": "Содержание:",
   "title_sidebar": "Содержание:",
   "toc_cell": true,
   "toc_position": {
    "height": "calc(100% - 180px)",
    "left": "10px",
    "top": "150px",
    "width": "165px"
   },
   "toc_section_display": true,
   "toc_window_display": true
  }
 },
 "nbformat": 4,
 "nbformat_minor": 5
}
