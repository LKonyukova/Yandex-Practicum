{
 "cells": [
  {
   "cell_type": "markdown",
   "metadata": {
    "deletable": false,
    "editable": false,
    "id": "E0vqbgi9ay0H"
   },
   "source": [
    "# Яндекс Музыка"
   ]
  },
  {
   "cell_type": "markdown",
   "metadata": {
    "deletable": false,
    "editable": false,
    "id": "VUC88oWjTJw2"
   },
   "source": [
    "Сравнение Москвы и Петербурга окружено мифами. Например:\n",
    " * Москва — мегаполис, подчинённый жёсткому ритму рабочей недели;\n",
    " * Петербург — культурная столица, со своими вкусами.\n",
    "\n",
    "На данных Яндекс Музыки вы сравните поведение пользователей двух столиц.\n",
    "\n",
    "**Цель исследования** — проверьте три гипотезы:\n",
    "1. Активность пользователей зависит от дня недели. Причём в Москве и Петербурге это проявляется по-разному.\n",
    "2. В понедельник утром в Москве преобладают одни жанры, а в Петербурге — другие. Так же и вечером пятницы преобладают разные жанры — в зависимости от города.\n",
    "3. Москва и Петербург предпочитают разные жанры музыки. В Москве чаще слушают поп-музыку, в Петербурге — русский рэп.\n",
    "\n",
    "**Ход исследования**\n",
    "\n",
    "Данные о поведении пользователей вы получите из файла `yandex_music_project.csv`. О качестве данных ничего не известно. Поэтому перед проверкой гипотез понадобится обзор данных.\n",
    "\n",
    "Вы проверите данные на ошибки и оцените их влияние на исследование. Затем, на этапе предобработки вы поищете возможность исправить самые критичные ошибки данных.\n",
    "\n",
    "Таким образом, исследование пройдёт в три этапа:\n",
    " 1. Обзор данных.\n",
    " 2. Предобработка данных.\n",
    " 3. Проверка гипотез.\n",
    "\n"
   ]
  },
  {
   "cell_type": "markdown",
   "metadata": {
    "deletable": false,
    "editable": false,
    "id": "Ml1hmfXC_Zcs"
   },
   "source": [
    "## Обзор данных\n",
    "\n",
    "Составьте первое представление о данных Яндекс Музыки.\n",
    "\n",
    "\n"
   ]
  },
  {
   "cell_type": "markdown",
   "metadata": {
    "deletable": false,
    "editable": false,
    "id": "57eAOGIz_Zcs",
    "tags": [
     "start_task"
    ]
   },
   "source": [
    "**Задание 1**\n",
    "\n",
    "Основной инструмент аналитика — `pandas`. Импортируйте эту библиотеку."
   ]
  },
  {
   "cell_type": "code",
   "execution_count": 1,
   "metadata": {
    "deletable": false,
    "id": "AXN7PHPN_Zcs"
   },
   "outputs": [],
   "source": [
    "import pandas as pd # импорт библиотеки pandas"
   ]
  },
  {
   "cell_type": "markdown",
   "metadata": {
    "deletable": false,
    "editable": false,
    "id": "SG23P8tt_Zcs",
    "tags": [
     "start_task"
    ]
   },
   "source": [
    "**Задание 2**\n",
    "\n",
    "Прочитайте файл `yandex_music_project.csv` из папки `/datasets` и сохраните его в переменной `df`:"
   ]
  },
  {
   "cell_type": "code",
   "execution_count": 2,
   "metadata": {
    "deletable": false,
    "id": "fFVu7vqh_Zct"
   },
   "outputs": [],
   "source": [
    "df = pd.read_csv('/datasets/yandex_music_project.csv') # чтение файла с данными и сохранение в df"
   ]
  },
  {
   "cell_type": "markdown",
   "metadata": {
    "deletable": false,
    "editable": false,
    "id": "rDoOMd3uTqnZ",
    "tags": [
     "start_task"
    ]
   },
   "source": [
    "**Задание 3**\n",
    "\n",
    "\n",
    "Выведите на экран первые десять строк таблицы:"
   ]
  },
  {
   "cell_type": "code",
   "execution_count": 3,
   "metadata": {
    "deletable": false,
    "id": "oWTVX3gW_Zct"
   },
   "outputs": [
    {
     "data": {
      "text/html": [
       "<div>\n",
       "<style scoped>\n",
       "    .dataframe tbody tr th:only-of-type {\n",
       "        vertical-align: middle;\n",
       "    }\n",
       "\n",
       "    .dataframe tbody tr th {\n",
       "        vertical-align: top;\n",
       "    }\n",
       "\n",
       "    .dataframe thead th {\n",
       "        text-align: right;\n",
       "    }\n",
       "</style>\n",
       "<table border=\"1\" class=\"dataframe\">\n",
       "  <thead>\n",
       "    <tr style=\"text-align: right;\">\n",
       "      <th></th>\n",
       "      <th>userID</th>\n",
       "      <th>Track</th>\n",
       "      <th>artist</th>\n",
       "      <th>genre</th>\n",
       "      <th>City</th>\n",
       "      <th>time</th>\n",
       "      <th>Day</th>\n",
       "    </tr>\n",
       "  </thead>\n",
       "  <tbody>\n",
       "    <tr>\n",
       "      <th>0</th>\n",
       "      <td>FFB692EC</td>\n",
       "      <td>Kamigata To Boots</td>\n",
       "      <td>The Mass Missile</td>\n",
       "      <td>rock</td>\n",
       "      <td>Saint-Petersburg</td>\n",
       "      <td>20:28:33</td>\n",
       "      <td>Wednesday</td>\n",
       "    </tr>\n",
       "    <tr>\n",
       "      <th>1</th>\n",
       "      <td>55204538</td>\n",
       "      <td>Delayed Because of Accident</td>\n",
       "      <td>Andreas Rönnberg</td>\n",
       "      <td>rock</td>\n",
       "      <td>Moscow</td>\n",
       "      <td>14:07:09</td>\n",
       "      <td>Friday</td>\n",
       "    </tr>\n",
       "    <tr>\n",
       "      <th>2</th>\n",
       "      <td>20EC38</td>\n",
       "      <td>Funiculì funiculà</td>\n",
       "      <td>Mario Lanza</td>\n",
       "      <td>pop</td>\n",
       "      <td>Saint-Petersburg</td>\n",
       "      <td>20:58:07</td>\n",
       "      <td>Wednesday</td>\n",
       "    </tr>\n",
       "    <tr>\n",
       "      <th>3</th>\n",
       "      <td>A3DD03C9</td>\n",
       "      <td>Dragons in the Sunset</td>\n",
       "      <td>Fire + Ice</td>\n",
       "      <td>folk</td>\n",
       "      <td>Saint-Petersburg</td>\n",
       "      <td>08:37:09</td>\n",
       "      <td>Monday</td>\n",
       "    </tr>\n",
       "    <tr>\n",
       "      <th>4</th>\n",
       "      <td>E2DC1FAE</td>\n",
       "      <td>Soul People</td>\n",
       "      <td>Space Echo</td>\n",
       "      <td>dance</td>\n",
       "      <td>Moscow</td>\n",
       "      <td>08:34:34</td>\n",
       "      <td>Monday</td>\n",
       "    </tr>\n",
       "    <tr>\n",
       "      <th>5</th>\n",
       "      <td>842029A1</td>\n",
       "      <td>Преданная</td>\n",
       "      <td>IMPERVTOR</td>\n",
       "      <td>rusrap</td>\n",
       "      <td>Saint-Petersburg</td>\n",
       "      <td>13:09:41</td>\n",
       "      <td>Friday</td>\n",
       "    </tr>\n",
       "    <tr>\n",
       "      <th>6</th>\n",
       "      <td>4CB90AA5</td>\n",
       "      <td>True</td>\n",
       "      <td>Roman Messer</td>\n",
       "      <td>dance</td>\n",
       "      <td>Moscow</td>\n",
       "      <td>13:00:07</td>\n",
       "      <td>Wednesday</td>\n",
       "    </tr>\n",
       "    <tr>\n",
       "      <th>7</th>\n",
       "      <td>F03E1C1F</td>\n",
       "      <td>Feeling This Way</td>\n",
       "      <td>Polina Griffith</td>\n",
       "      <td>dance</td>\n",
       "      <td>Moscow</td>\n",
       "      <td>20:47:49</td>\n",
       "      <td>Wednesday</td>\n",
       "    </tr>\n",
       "    <tr>\n",
       "      <th>8</th>\n",
       "      <td>8FA1D3BE</td>\n",
       "      <td>И вновь продолжается бой</td>\n",
       "      <td>NaN</td>\n",
       "      <td>ruspop</td>\n",
       "      <td>Moscow</td>\n",
       "      <td>09:17:40</td>\n",
       "      <td>Friday</td>\n",
       "    </tr>\n",
       "    <tr>\n",
       "      <th>9</th>\n",
       "      <td>E772D5C0</td>\n",
       "      <td>Pessimist</td>\n",
       "      <td>NaN</td>\n",
       "      <td>dance</td>\n",
       "      <td>Saint-Petersburg</td>\n",
       "      <td>21:20:49</td>\n",
       "      <td>Wednesday</td>\n",
       "    </tr>\n",
       "  </tbody>\n",
       "</table>\n",
       "</div>"
      ],
      "text/plain": [
       "     userID                        Track            artist   genre  \\\n",
       "0  FFB692EC            Kamigata To Boots  The Mass Missile    rock   \n",
       "1  55204538  Delayed Because of Accident  Andreas Rönnberg    rock   \n",
       "2    20EC38            Funiculì funiculà       Mario Lanza     pop   \n",
       "3  A3DD03C9        Dragons in the Sunset        Fire + Ice    folk   \n",
       "4  E2DC1FAE                  Soul People        Space Echo   dance   \n",
       "5  842029A1                    Преданная         IMPERVTOR  rusrap   \n",
       "6  4CB90AA5                         True      Roman Messer   dance   \n",
       "7  F03E1C1F             Feeling This Way   Polina Griffith   dance   \n",
       "8  8FA1D3BE     И вновь продолжается бой               NaN  ruspop   \n",
       "9  E772D5C0                    Pessimist               NaN   dance   \n",
       "\n",
       "             City        time        Day  \n",
       "0  Saint-Petersburg  20:28:33  Wednesday  \n",
       "1            Moscow  14:07:09     Friday  \n",
       "2  Saint-Petersburg  20:58:07  Wednesday  \n",
       "3  Saint-Petersburg  08:37:09     Monday  \n",
       "4            Moscow  08:34:34     Monday  \n",
       "5  Saint-Petersburg  13:09:41     Friday  \n",
       "6            Moscow  13:00:07  Wednesday  \n",
       "7            Moscow  20:47:49  Wednesday  \n",
       "8            Moscow  09:17:40     Friday  \n",
       "9  Saint-Petersburg  21:20:49  Wednesday  "
      ]
     },
     "execution_count": 3,
     "metadata": {},
     "output_type": "execute_result"
    }
   ],
   "source": [
    "df.head(10) # получение первых 10 строк таблицы df"
   ]
  },
  {
   "cell_type": "markdown",
   "metadata": {
    "deletable": false,
    "editable": false,
    "id": "EO73Kwic_Zct",
    "tags": [
     "start_task"
    ]
   },
   "source": [
    "**Задание 4**\n",
    "\n",
    "\n",
    "Одной командой получить общую информацию о таблице c помощью метода `info()`:"
   ]
  },
  {
   "cell_type": "code",
   "execution_count": 4,
   "metadata": {
    "deletable": false,
    "id": "DSf2kIb-_Zct"
   },
   "outputs": [
    {
     "name": "stdout",
     "output_type": "stream",
     "text": [
      "<class 'pandas.core.frame.DataFrame'>\n",
      "RangeIndex: 65079 entries, 0 to 65078\n",
      "Data columns (total 7 columns):\n",
      " #   Column    Non-Null Count  Dtype \n",
      "---  ------    --------------  ----- \n",
      " 0     userID  65079 non-null  object\n",
      " 1   Track     63848 non-null  object\n",
      " 2   artist    57876 non-null  object\n",
      " 3   genre     63881 non-null  object\n",
      " 4     City    65079 non-null  object\n",
      " 5   time      65079 non-null  object\n",
      " 6   Day       65079 non-null  object\n",
      "dtypes: object(7)\n",
      "memory usage: 3.5+ MB\n"
     ]
    }
   ],
   "source": [
    "df.info()\n",
    "# получение общей информации о данных в таблице df"
   ]
  },
  {
   "cell_type": "markdown",
   "metadata": {
    "deletable": false,
    "editable": false,
    "id": "TaQ2Iwbr_Zct"
   },
   "source": [
    "Итак, в таблице семь столбцов. Тип данных во всех столбцах — `object`.\n",
    "\n",
    "Согласно документации к данным:\n",
    "* `userID` — идентификатор пользователя;\n",
    "* `Track` — название трека;  \n",
    "* `artist` — имя исполнителя;\n",
    "* `genre` — название жанра;\n",
    "* `City` — город пользователя;\n",
    "* `time` — время начала прослушивания;\n",
    "* `Day` — день недели.\n",
    "\n",
    "Количество значений в столбцах различается. Значит, в данных есть пропущенные значения."
   ]
  },
  {
   "cell_type": "markdown",
   "metadata": {
    "deletable": false,
    "editable": false,
    "id": "4P0UCWzswgEm",
    "tags": [
     "start_task"
    ]
   },
   "source": [
    "**Задание 5**\n",
    "\n",
    "**Вопрос со свободной формой ответа**\n",
    "\n",
    "В названиях колонок видны три нарушения стиля:\n",
    "1. Строчные буквы сочетаются с прописными.\n",
    "2. Встречаются пробелы."
   ]
  },
  {
   "cell_type": "code",
   "execution_count": 5,
   "metadata": {
    "id": "c137-ZstwgEm"
   },
   "outputs": [],
   "source": [
    "# 1.'  userID', 'Track', '  City', 'Day'\n",
    "# 2.'  userID', '  City'\n",
    "# 3. Нет нижних подчёркиваний - '  userID'"
   ]
  },
  {
   "cell_type": "markdown",
   "metadata": {
    "deletable": false,
    "editable": false,
    "id": "MCB6-dXG_Zct"
   },
   "source": [
    "**Выводы**\n",
    "\n",
    "В каждой строке таблицы — данные о прослушанном треке. Часть колонок описывает саму композицию: название, исполнителя и жанр. Остальные данные рассказывают о пользователе: из какого он города, когда он слушал музыку.\n",
    "\n",
    "Предварительно можно утверждать, что данных достаточно для проверки гипотез. Но встречаются пропуски в данных, а в названиях колонок — расхождения с хорошим стилем.\n",
    "\n",
    "Чтобы двигаться дальше, нужно устранить проблемы в данных."
   ]
  },
  {
   "cell_type": "markdown",
   "metadata": {
    "deletable": false,
    "editable": false,
    "id": "SjYF6Ub9_Zct"
   },
   "source": [
    "## Предобработка данных\n",
    "Исправьте стиль в заголовках столбцов, исключите пропуски. Затем проверьте данные на дубликаты."
   ]
  },
  {
   "cell_type": "markdown",
   "metadata": {
    "deletable": false,
    "editable": false,
    "id": "dIaKXr29_Zct",
    "tags": [
     "start_task"
    ]
   },
   "source": [
    "### Стиль заголовков\n",
    "\n",
    "**Задание 6**\n",
    "\n",
    "Выведите на экран названия столбцов:"
   ]
  },
  {
   "cell_type": "code",
   "execution_count": 6,
   "metadata": {
    "deletable": false,
    "id": "oKOTdF_Q_Zct"
   },
   "outputs": [
    {
     "data": {
      "text/plain": [
       "Index(['  userID', 'Track', 'artist', 'genre', '  City  ', 'time', 'Day'], dtype='object')"
      ]
     },
     "execution_count": 6,
     "metadata": {},
     "output_type": "execute_result"
    }
   ],
   "source": [
    "df.columns # перечень названий столбцов таблицы df"
   ]
  },
  {
   "cell_type": "markdown",
   "metadata": {
    "deletable": false,
    "editable": false,
    "id": "zj5534cv_Zct",
    "tags": [
     "start_task"
    ]
   },
   "source": [
    "**Задание 7**\n",
    "\n",
    "\n",
    "Приведите названия в соответствие с хорошим стилем:\n",
    "* несколько слов в названии запишите в «змеином_регистре»,\n",
    "* все символы сделайте строчными,\n",
    "* устраните пробелы.\n",
    "\n",
    "Для этого переименуйте колонки так:\n",
    "* `'  userID'` → `'user_id'`;\n",
    "* `'Track'` → `'track'`;\n",
    "* `'  City  '` → `'city'`;\n",
    "* `'Day'` → `'day'`."
   ]
  },
  {
   "cell_type": "code",
   "execution_count": 7,
   "metadata": {
    "deletable": false,
    "id": "ISlFqs5y_Zct"
   },
   "outputs": [],
   "source": [
    "df = df.rename(columns={'  userID': 'user_id', 'Track':'track', '  City  ':'city', 'Day':'day'})\n",
    "# переименование столбцов"
   ]
  },
  {
   "cell_type": "markdown",
   "metadata": {
    "deletable": false,
    "editable": false,
    "id": "1dqbh00J_Zct",
    "tags": [
     "start_task"
    ]
   },
   "source": [
    "**Задание 8**\n",
    "\n",
    "\n",
    "Проверьте результат. Для этого ещё раз выведите на экран названия столбцов:"
   ]
  },
  {
   "cell_type": "code",
   "execution_count": 8,
   "metadata": {
    "deletable": false,
    "id": "d4NOAmTW_Zct"
   },
   "outputs": [
    {
     "data": {
      "text/plain": [
       "Index(['user_id', 'track', 'artist', 'genre', 'city', 'time', 'day'], dtype='object')"
      ]
     },
     "execution_count": 8,
     "metadata": {},
     "output_type": "execute_result"
    }
   ],
   "source": [
    "df.columns\n",
    "# проверка результатов - перечень названий столбцов"
   ]
  },
  {
   "cell_type": "markdown",
   "metadata": {
    "deletable": false,
    "editable": false,
    "id": "5ISfbcfY_Zct",
    "tags": [
     "start_task"
    ]
   },
   "source": [
    "### Пропуски значений\n",
    "\n",
    "**Задание 9**\n",
    "\n",
    "Сначала посчитайте, сколько в таблице пропущенных значений. Для этого достаточно двух методов `pandas`:"
   ]
  },
  {
   "cell_type": "code",
   "execution_count": 9,
   "metadata": {
    "deletable": false,
    "id": "RskX29qr_Zct"
   },
   "outputs": [
    {
     "data": {
      "text/plain": [
       "user_id       0\n",
       "track      1231\n",
       "artist     7203\n",
       "genre      1198\n",
       "city          0\n",
       "time          0\n",
       "day           0\n",
       "dtype: int64"
      ]
     },
     "execution_count": 9,
     "metadata": {},
     "output_type": "execute_result"
    }
   ],
   "source": [
    "df.isna().sum()\n",
    "# подсчёт пропусков"
   ]
  },
  {
   "cell_type": "markdown",
   "metadata": {
    "deletable": false,
    "editable": false,
    "id": "qubhgnlO_Zct"
   },
   "source": [
    "Не все пропущенные значения влияют на исследование. Так, в `track` и `artist` пропуски не важны для вашей работы. Достаточно заменить их явными обозначениями.\n",
    "\n",
    "Но пропуски в `genre` могут помешать сравнить музыкальные вкусы в Москве и Санкт-Петербурге. На практике было бы правильно установить причину пропусков и восстановить данные. Такой возможности нет в учебном проекте. Поэтому придётся:\n",
    "* заполнить и эти пропуски явными обозначениями;\n",
    "* оценить, насколько они повредят расчётам."
   ]
  },
  {
   "cell_type": "markdown",
   "metadata": {
    "deletable": false,
    "editable": false,
    "id": "fSv2laPA_Zct",
    "tags": [
     "start_task"
    ]
   },
   "source": [
    "**Задание 10**\n",
    "\n",
    "Замените пропущенные значения в столбцах `track`, `artist` и `genre` на строку `'unknown'`. Для этого создайте список `columns_to_replace`, переберите его элементы циклом `for` и для каждого столбца выполните замену пропущенных значений:"
   ]
  },
  {
   "cell_type": "code",
   "execution_count": 10,
   "metadata": {
    "deletable": false,
    "id": "KplB5qWs_Zct"
   },
   "outputs": [],
   "source": [
    "columns_to_replace = ['track', 'artist', 'genre']\n",
    "df[columns_to_replace] = df[columns_to_replace].fillna('unknown')\n",
    "# перебор названий столбцов в цикле и замена пропущенных значений на 'unknown'"
   ]
  },
  {
   "cell_type": "markdown",
   "metadata": {
    "deletable": false,
    "editable": false,
    "id": "Ilsm-MZo_Zct",
    "tags": [
     "start_task"
    ]
   },
   "source": [
    "**Задание 11**\n",
    "\n",
    "Убедитесь, что в таблице не осталось пропусков. Для этого ещё раз посчитайте пропущенные значения."
   ]
  },
  {
   "cell_type": "code",
   "execution_count": 11,
   "metadata": {
    "deletable": false,
    "id": "Tq4nYRX4_Zct"
   },
   "outputs": [
    {
     "data": {
      "text/plain": [
       "user_id    0\n",
       "track      0\n",
       "artist     0\n",
       "genre      0\n",
       "city       0\n",
       "time       0\n",
       "day        0\n",
       "dtype: int64"
      ]
     },
     "execution_count": 11,
     "metadata": {},
     "output_type": "execute_result"
    }
   ],
   "source": [
    "df.isna().sum()\n",
    "# подсчёт пропусков"
   ]
  },
  {
   "cell_type": "markdown",
   "metadata": {
    "deletable": false,
    "editable": false,
    "id": "BWKRtBJ3_Zct",
    "tags": [
     "start_task"
    ]
   },
   "source": [
    "### Дубликаты\n",
    "\n",
    "**Задание 12**\n",
    "\n",
    "Посчитайте явные дубликаты в таблице одной командой:"
   ]
  },
  {
   "cell_type": "code",
   "execution_count": 12,
   "metadata": {
    "deletable": false,
    "id": "36eES_S0_Zct"
   },
   "outputs": [
    {
     "data": {
      "text/plain": [
       "3826"
      ]
     },
     "execution_count": 12,
     "metadata": {},
     "output_type": "execute_result"
    }
   ],
   "source": [
    "df.duplicated().sum()\n",
    "# подсчёт явных дубликатов"
   ]
  },
  {
   "cell_type": "markdown",
   "metadata": {
    "deletable": false,
    "editable": false,
    "id": "Ot25h6XR_Zct",
    "tags": [
     "start_task"
    ]
   },
   "source": [
    "**Задание 13**\n",
    "\n",
    "Вызовите специальный метод `pandas`, чтобы удалить явные дубликаты:"
   ]
  },
  {
   "cell_type": "code",
   "execution_count": 13,
   "metadata": {
    "deletable": false,
    "id": "exFHq6tt_Zct"
   },
   "outputs": [],
   "source": [
    "df = df.drop_duplicates()\n",
    "# удаление явных дубликатов"
   ]
  },
  {
   "cell_type": "markdown",
   "metadata": {
    "deletable": false,
    "editable": false,
    "id": "Im2YwBEG_Zct",
    "tags": [
     "start_task"
    ]
   },
   "source": [
    "**Задание 14**\n",
    "\n",
    "Ещё раз посчитайте явные дубликаты в таблице — убедитесь, что полностью от них избавились:"
   ]
  },
  {
   "cell_type": "code",
   "execution_count": 14,
   "metadata": {
    "deletable": false,
    "id": "-8PuNWQ0_Zct"
   },
   "outputs": [
    {
     "data": {
      "text/plain": [
       "0"
      ]
     },
     "execution_count": 14,
     "metadata": {},
     "output_type": "execute_result"
    }
   ],
   "source": [
    "df.duplicated().sum()\n",
    "# проверка на отсутствие дубликатов"
   ]
  },
  {
   "cell_type": "markdown",
   "metadata": {
    "deletable": false,
    "editable": false,
    "id": "QlFBsxAr_Zct"
   },
   "source": [
    "Теперь избавьтесь от неявных дубликатов в колонке `genre`. Например, название одного и того же жанра может быть записано немного по-разному. Такие ошибки тоже повлияют на результат исследования."
   ]
  },
  {
   "cell_type": "markdown",
   "metadata": {
    "deletable": false,
    "editable": false,
    "id": "eSjWwsOh_Zct",
    "tags": [
     "start_task"
    ]
   },
   "source": [
    "**Задание 15**\n",
    "\n",
    "Выведите на экран список уникальных названий жанров, отсортированный в алфавитном порядке. Для этого:\n",
    "* извлеките нужный столбец датафрейма;\n",
    "* примените к нему метод сортировки;\n",
    "* для отсортированного столбца вызовите метод, который вернёт уникальные значения из столбца."
   ]
  },
  {
   "cell_type": "code",
   "execution_count": 15,
   "metadata": {
    "deletable": false,
    "id": "JIUcqzZN_Zct"
   },
   "outputs": [
    {
     "data": {
      "text/plain": [
       "array(['acid', 'acoustic', 'action', 'adult', 'africa', 'afrikaans',\n",
       "       'alternative', 'alternativepunk', 'ambient', 'americana',\n",
       "       'animated', 'anime', 'arabesk', 'arabic', 'arena',\n",
       "       'argentinetango', 'art', 'audiobook', 'author', 'avantgarde',\n",
       "       'axé', 'baile', 'balkan', 'beats', 'bigroom', 'black', 'bluegrass',\n",
       "       'blues', 'bollywood', 'bossa', 'brazilian', 'breakbeat', 'breaks',\n",
       "       'broadway', 'cantautori', 'cantopop', 'canzone', 'caribbean',\n",
       "       'caucasian', 'celtic', 'chamber', 'chanson', 'children', 'chill',\n",
       "       'chinese', 'choral', 'christian', 'christmas', 'classical',\n",
       "       'classicmetal', 'club', 'colombian', 'comedy', 'conjazz',\n",
       "       'contemporary', 'country', 'cuban', 'dance', 'dancehall',\n",
       "       'dancepop', 'dark', 'death', 'deep', 'deutschrock', 'deutschspr',\n",
       "       'dirty', 'disco', 'dnb', 'documentary', 'downbeat', 'downtempo',\n",
       "       'drum', 'dub', 'dubstep', 'eastern', 'easy', 'electronic',\n",
       "       'electropop', 'emo', 'entehno', 'epicmetal', 'estrada', 'ethnic',\n",
       "       'eurofolk', 'european', 'experimental', 'extrememetal', 'fado',\n",
       "       'fairytail', 'film', 'fitness', 'flamenco', 'folk', 'folklore',\n",
       "       'folkmetal', 'folkrock', 'folktronica', 'forró', 'frankreich',\n",
       "       'französisch', 'french', 'funk', 'future', 'gangsta', 'garage',\n",
       "       'german', 'ghazal', 'gitarre', 'glitch', 'gospel', 'gothic',\n",
       "       'grime', 'grunge', 'gypsy', 'handsup', \"hard'n'heavy\", 'hardcore',\n",
       "       'hardstyle', 'hardtechno', 'hip', 'hip-hop', 'hiphop',\n",
       "       'historisch', 'holiday', 'hop', 'horror', 'house', 'hymn', 'idm',\n",
       "       'independent', 'indian', 'indie', 'indipop', 'industrial',\n",
       "       'inspirational', 'instrumental', 'international', 'irish', 'jam',\n",
       "       'japanese', 'jazz', 'jewish', 'jpop', 'jungle', 'k-pop',\n",
       "       'karadeniz', 'karaoke', 'kayokyoku', 'korean', 'laiko', 'latin',\n",
       "       'latino', 'leftfield', 'local', 'lounge', 'loungeelectronic',\n",
       "       'lovers', 'malaysian', 'mandopop', 'marschmusik', 'meditative',\n",
       "       'mediterranean', 'melodic', 'metal', 'metalcore', 'mexican',\n",
       "       'middle', 'minimal', 'miscellaneous', 'modern', 'mood', 'mpb',\n",
       "       'muslim', 'native', 'neoklassik', 'neue', 'new', 'newage',\n",
       "       'newwave', 'nu', 'nujazz', 'numetal', 'oceania', 'old', 'opera',\n",
       "       'orchestral', 'other', 'piano', 'podcasts', 'pop', 'popdance',\n",
       "       'popelectronic', 'popeurodance', 'poprussian', 'post',\n",
       "       'posthardcore', 'postrock', 'power', 'progmetal', 'progressive',\n",
       "       'psychedelic', 'punjabi', 'punk', 'quebecois', 'ragga', 'ram',\n",
       "       'rancheras', 'rap', 'rave', 'reggae', 'reggaeton', 'regional',\n",
       "       'relax', 'religious', 'retro', 'rhythm', 'rnb', 'rnr', 'rock',\n",
       "       'rockabilly', 'rockalternative', 'rockindie', 'rockother',\n",
       "       'romance', 'roots', 'ruspop', 'rusrap', 'rusrock', 'russian',\n",
       "       'salsa', 'samba', 'scenic', 'schlager', 'self', 'sertanejo',\n",
       "       'shanson', 'shoegazing', 'showtunes', 'singer', 'ska', 'skarock',\n",
       "       'slow', 'smooth', 'soft', 'soul', 'soulful', 'sound', 'soundtrack',\n",
       "       'southern', 'specialty', 'speech', 'spiritual', 'sport',\n",
       "       'stonerrock', 'surf', 'swing', 'synthpop', 'synthrock',\n",
       "       'sängerportrait', 'tango', 'tanzorchester', 'taraftar', 'tatar',\n",
       "       'tech', 'techno', 'teen', 'thrash', 'top', 'traditional',\n",
       "       'tradjazz', 'trance', 'tribal', 'trip', 'triphop', 'tropical',\n",
       "       'türk', 'türkçe', 'ukrrock', 'unknown', 'urban', 'uzbek',\n",
       "       'variété', 'vi', 'videogame', 'vocal', 'western', 'world',\n",
       "       'worldbeat', 'ïîï', 'электроника'], dtype=object)"
      ]
     },
     "execution_count": 15,
     "metadata": {},
     "output_type": "execute_result"
    }
   ],
   "source": [
    "sorted_series = df['genre'].sort_values()\n",
    "sorted_series.unique()\n",
    "# Просмотр уникальных названий жанров"
   ]
  },
  {
   "cell_type": "markdown",
   "metadata": {
    "deletable": false,
    "editable": false,
    "id": "qej-Qmuo_Zct",
    "tags": [
     "start_task"
    ]
   },
   "source": [
    "**Задание 16**\n",
    "\n",
    "Просмотрите список и найдите неявные дубликаты названия `hiphop`. Это могут быть названия с ошибками или альтернативные названия того же жанра.\n",
    "\n",
    "Вы увидите следующие неявные дубликаты:\n",
    "* *hip*,\n",
    "* *hop*,\n",
    "* *hip-hop*.\n",
    "\n",
    "Чтобы очистить от них таблицу, используйте метод `replace()` с двумя аргументами: списком строк-дубликатов (включающий *hip*, *hop* и *hip-hop*) и строкой с правильным значением. Вам нужно исправить колонку `genre` в таблице `df`: заменить каждое значение из списка дубликатов на верное. Вместо `hip`, `hop` и `hip-hop` в таблице должно быть значение `hiphop`:"
   ]
  },
  {
   "cell_type": "code",
   "execution_count": 16,
   "metadata": {
    "deletable": false,
    "id": "ErNDkmns_Zct"
   },
   "outputs": [],
   "source": [
    "df = df.replace(['hip','hop','hip-hop'], 'hiphop')\n",
    "# Устранение неявных дубликатов"
   ]
  },
  {
   "cell_type": "markdown",
   "metadata": {
    "deletable": false,
    "editable": false,
    "id": "zQKF16_RG15m",
    "tags": [
     "start_task"
    ]
   },
   "source": [
    "**Задание 17**\n",
    "\n",
    "Проверьте, что заменили неправильные названия:\n",
    "\n",
    "*   *hip*,\n",
    "*   *hop*,\n",
    "*   *hip-hop*.\n",
    "\n",
    "Выведите отсортированный список уникальных значений столбца `genre`:"
   ]
  },
  {
   "cell_type": "code",
   "execution_count": 17,
   "metadata": {
    "deletable": false,
    "id": "wvixALnFG15m"
   },
   "outputs": [
    {
     "data": {
      "text/plain": [
       "array(['acid', 'acoustic', 'action', 'adult', 'africa', 'afrikaans',\n",
       "       'alternative', 'alternativepunk', 'ambient', 'americana',\n",
       "       'animated', 'anime', 'arabesk', 'arabic', 'arena',\n",
       "       'argentinetango', 'art', 'audiobook', 'author', 'avantgarde',\n",
       "       'axé', 'baile', 'balkan', 'beats', 'bigroom', 'black', 'bluegrass',\n",
       "       'blues', 'bollywood', 'bossa', 'brazilian', 'breakbeat', 'breaks',\n",
       "       'broadway', 'cantautori', 'cantopop', 'canzone', 'caribbean',\n",
       "       'caucasian', 'celtic', 'chamber', 'chanson', 'children', 'chill',\n",
       "       'chinese', 'choral', 'christian', 'christmas', 'classical',\n",
       "       'classicmetal', 'club', 'colombian', 'comedy', 'conjazz',\n",
       "       'contemporary', 'country', 'cuban', 'dance', 'dancehall',\n",
       "       'dancepop', 'dark', 'death', 'deep', 'deutschrock', 'deutschspr',\n",
       "       'dirty', 'disco', 'dnb', 'documentary', 'downbeat', 'downtempo',\n",
       "       'drum', 'dub', 'dubstep', 'eastern', 'easy', 'electronic',\n",
       "       'electropop', 'emo', 'entehno', 'epicmetal', 'estrada', 'ethnic',\n",
       "       'eurofolk', 'european', 'experimental', 'extrememetal', 'fado',\n",
       "       'fairytail', 'film', 'fitness', 'flamenco', 'folk', 'folklore',\n",
       "       'folkmetal', 'folkrock', 'folktronica', 'forró', 'frankreich',\n",
       "       'französisch', 'french', 'funk', 'future', 'gangsta', 'garage',\n",
       "       'german', 'ghazal', 'gitarre', 'glitch', 'gospel', 'gothic',\n",
       "       'grime', 'grunge', 'gypsy', 'handsup', \"hard'n'heavy\", 'hardcore',\n",
       "       'hardstyle', 'hardtechno', 'hiphop', 'historisch', 'holiday',\n",
       "       'horror', 'house', 'hymn', 'idm', 'independent', 'indian', 'indie',\n",
       "       'indipop', 'industrial', 'inspirational', 'instrumental',\n",
       "       'international', 'irish', 'jam', 'japanese', 'jazz', 'jewish',\n",
       "       'jpop', 'jungle', 'k-pop', 'karadeniz', 'karaoke', 'kayokyoku',\n",
       "       'korean', 'laiko', 'latin', 'latino', 'leftfield', 'local',\n",
       "       'lounge', 'loungeelectronic', 'lovers', 'malaysian', 'mandopop',\n",
       "       'marschmusik', 'meditative', 'mediterranean', 'melodic', 'metal',\n",
       "       'metalcore', 'mexican', 'middle', 'minimal', 'miscellaneous',\n",
       "       'modern', 'mood', 'mpb', 'muslim', 'native', 'neoklassik', 'neue',\n",
       "       'new', 'newage', 'newwave', 'nu', 'nujazz', 'numetal', 'oceania',\n",
       "       'old', 'opera', 'orchestral', 'other', 'piano', 'podcasts', 'pop',\n",
       "       'popdance', 'popelectronic', 'popeurodance', 'poprussian', 'post',\n",
       "       'posthardcore', 'postrock', 'power', 'progmetal', 'progressive',\n",
       "       'psychedelic', 'punjabi', 'punk', 'quebecois', 'ragga', 'ram',\n",
       "       'rancheras', 'rap', 'rave', 'reggae', 'reggaeton', 'regional',\n",
       "       'relax', 'religious', 'retro', 'rhythm', 'rnb', 'rnr', 'rock',\n",
       "       'rockabilly', 'rockalternative', 'rockindie', 'rockother',\n",
       "       'romance', 'roots', 'ruspop', 'rusrap', 'rusrock', 'russian',\n",
       "       'salsa', 'samba', 'scenic', 'schlager', 'self', 'sertanejo',\n",
       "       'shanson', 'shoegazing', 'showtunes', 'singer', 'ska', 'skarock',\n",
       "       'slow', 'smooth', 'soft', 'soul', 'soulful', 'sound', 'soundtrack',\n",
       "       'southern', 'specialty', 'speech', 'spiritual', 'sport',\n",
       "       'stonerrock', 'surf', 'swing', 'synthpop', 'synthrock',\n",
       "       'sängerportrait', 'tango', 'tanzorchester', 'taraftar', 'tatar',\n",
       "       'tech', 'techno', 'teen', 'thrash', 'top', 'traditional',\n",
       "       'tradjazz', 'trance', 'tribal', 'trip', 'triphop', 'tropical',\n",
       "       'türk', 'türkçe', 'ukrrock', 'unknown', 'urban', 'uzbek',\n",
       "       'variété', 'vi', 'videogame', 'vocal', 'western', 'world',\n",
       "       'worldbeat', 'ïîï', 'электроника'], dtype=object)"
      ]
     },
     "execution_count": 17,
     "metadata": {},
     "output_type": "execute_result"
    }
   ],
   "source": [
    "sorted_series = df['genre'].sort_values()\n",
    "sorted_series.unique()\n",
    "# Проверка на неявные дубликаты"
   ]
  },
  {
   "cell_type": "markdown",
   "metadata": {
    "deletable": false,
    "editable": false,
    "id": "jz6a9-7HQUDd"
   },
   "source": [
    "**Выводы**\n",
    "\n",
    "Предобработка обнаружила три проблемы в данных:\n",
    "\n",
    "- нарушения в стиле заголовков,\n",
    "- пропущенные значения,\n",
    "- дубликаты — явные и неявные.\n",
    "\n",
    "Вы исправили заголовки, чтобы упростить работу с таблицей. Без дубликатов исследование станет более точным.\n",
    "\n",
    "Пропущенные значения вы заменили на `'unknown'`. Ещё предстоит увидеть, не повредят ли исследованию пропуски в колонке `genre`.\n",
    "\n",
    "Теперь можно перейти к проверке гипотез."
   ]
  },
  {
   "cell_type": "markdown",
   "metadata": {
    "deletable": false,
    "editable": false,
    "id": "WttZHXH0SqKk"
   },
   "source": [
    "## Проверка гипотез"
   ]
  },
  {
   "cell_type": "markdown",
   "metadata": {
    "deletable": false,
    "editable": false,
    "id": "Im936VVi_Zcu"
   },
   "source": [
    "### Сравнение поведения пользователей двух столиц"
   ]
  },
  {
   "cell_type": "markdown",
   "metadata": {
    "deletable": false,
    "editable": false,
    "id": "nwt_MuaL_Zcu"
   },
   "source": [
    "Первая гипотеза утверждает, что пользователи по-разному слушают музыку в Москве и Санкт-Петербурге. Проверьте это предположение по данным о трёх днях недели — понедельнике, среде и пятнице. Для этого:\n",
    "\n",
    "* Разделите пользователей Москвы и Санкт-Петербурга.\n",
    "* Сравните, сколько треков послушала каждая группа пользователей в понедельник, среду и пятницу.\n"
   ]
  },
  {
   "cell_type": "markdown",
   "metadata": {
    "deletable": false,
    "editable": false,
    "id": "8Dw_YMmT_Zcu",
    "tags": [
     "start_task"
    ]
   },
   "source": [
    "**Задание 18**\n",
    "\n",
    "Для тренировки сначала выполните каждый из расчётов по отдельности.\n",
    "\n",
    "Оцените активность пользователей в каждом городе. Сгруппируйте данные по городу и посчитайте прослушивания в каждой группе.\n",
    "\n"
   ]
  },
  {
   "cell_type": "code",
   "execution_count": 18,
   "metadata": {
    "deletable": false,
    "id": "0_Qs96oh_Zcu"
   },
   "outputs": [
    {
     "data": {
      "text/plain": [
       "city\n",
       "Moscow              42741\n",
       "Saint-Petersburg    18512\n",
       "Name: genre, dtype: int64"
      ]
     },
     "execution_count": 18,
     "metadata": {},
     "output_type": "execute_result"
    }
   ],
   "source": [
    "df.groupby('city')['genre'].count()\n",
    "\n",
    "# Подсчёт прослушиваний в каждом городе"
   ]
  },
  {
   "cell_type": "markdown",
   "metadata": {
    "deletable": false,
    "editable": false,
    "id": "dzli3w8o_Zcu",
    "tags": [
     "start_task"
    ]
   },
   "source": [
    "В Москве прослушиваний больше, чем в Петербурге. Из этого не следует, что московские пользователи чаще слушают музыку. Просто самих пользователей в Москве больше.\n",
    "\n",
    "**Задание 19**\n",
    "\n",
    "Теперь сгруппируйте данные по дню недели и посчитайте прослушивания в понедельник, среду и пятницу. Учтите, что в данных есть информация о прослушиваниях только за эти дни.\n"
   ]
  },
  {
   "cell_type": "code",
   "execution_count": 19,
   "metadata": {
    "deletable": false,
    "id": "uZMKjiJz_Zcu"
   },
   "outputs": [
    {
     "data": {
      "text/plain": [
       "day\n",
       "Friday       21840\n",
       "Monday       21354\n",
       "Wednesday    18059\n",
       "Name: genre, dtype: int64"
      ]
     },
     "execution_count": 19,
     "metadata": {},
     "output_type": "execute_result"
    }
   ],
   "source": [
    "df.groupby('day')['genre'].count()\n",
    "\n",
    "# Подсчёт прослушиваний в каждый из трёх дней"
   ]
  },
  {
   "cell_type": "markdown",
   "metadata": {
    "deletable": false,
    "editable": false,
    "id": "cC2tNrlL_Zcu"
   },
   "source": [
    "В среднем пользователи из двух городов менее активны по средам. Но картина может измениться, если рассмотреть каждый город в отдельности."
   ]
  },
  {
   "cell_type": "markdown",
   "metadata": {
    "deletable": false,
    "editable": false,
    "id": "POzs8bGa_Zcu",
    "tags": [
     "start_task"
    ]
   },
   "source": [
    "**Задание 20**\n",
    "\n",
    "\n",
    "Вы видели, как работает группировка по городу и по дням недели. Теперь напишите функцию, которая объединит два эти расчёта.\n",
    "\n",
    "Создайте функцию `number_tracks()`, которая посчитает прослушивания для заданного дня и города. Ей понадобятся два параметра:\n",
    "* день недели,\n",
    "* название города.\n",
    "\n",
    "В функции сохраните в переменную строки исходной таблицы, у которых значение:\n",
    "  * в колонке `day` равно параметру `day`,\n",
    "  * в колонке `city` равно параметру `city`.\n",
    "\n",
    "Для этого примените последовательную фильтрацию с логической индексацией (или сложные логические выражения в одну строку, если вы уже знакомы с ними).\n",
    "\n",
    "Затем посчитайте значения в столбце `user_id` получившейся таблицы. Результат сохраните в новую переменную. Верните эту переменную из функции."
   ]
  },
  {
   "cell_type": "code",
   "execution_count": 20,
   "metadata": {
    "deletable": false,
    "id": "Nz3GdQB1_Zcu"
   },
   "outputs": [],
   "source": [
    "# <создание функции number_tracks()>\n",
    "# Объявляется функция с двумя параметрами: day, city.\n",
    "\n",
    "def number_tracks(day, city):\n",
    "    track_list = df.loc[(df['day']==day) & (df['city']==city)]\n",
    "    track_list_count = track_list['user_id'].count()\n",
    "    return track_list_count\n",
    "\n",
    "# В переменной track_list сохраняются те строки таблицы df, для которых\n",
    "# значение в столбце 'day' равно параметру day и одновременно значение\n",
    "# в столбце 'city' равно параметру city (используйте последовательную фильтрацию\n",
    "# с помощью логической индексации или сложные логические выражения в одну строку, если вы уже знакомы с ними).\n",
    "\n",
    "# В переменной track_list_count сохраняется число значений столбца 'user_id',\n",
    "# рассчитанное методом count() для таблицы track_list.\n",
    "\n",
    "# Функция возвращает число - значение track_list_count.\n",
    "\n",
    "# Функция для подсчёта прослушиваний для конкретного города и дня.\n",
    "# С помощью последовательной фильтрации с логической индексацией она\n",
    "# сначала получит из исходной таблицы строки с нужным днём,\n",
    "# затем из результата отфильтрует строки с нужным городом,\n",
    "# методом count() посчитает количество значений в колонке user_id.\n",
    "# Это количество функция вернёт в качестве результата"
   ]
  },
  {
   "cell_type": "markdown",
   "metadata": {
    "deletable": false,
    "editable": false,
    "id": "ytf7xFrFJQ2r",
    "tags": [
     "start_task"
    ]
   },
   "source": [
    "**Задание 21**\n",
    "\n",
    "Вызовите `number_tracks()` шесть раз, меняя значение параметров — так, чтобы получить данные для каждого города в каждый из трёх дней."
   ]
  },
  {
   "cell_type": "code",
   "execution_count": 21,
   "metadata": {
    "deletable": false,
    "id": "rJcRATNQ_Zcu"
   },
   "outputs": [
    {
     "data": {
      "text/plain": [
       "15740"
      ]
     },
     "execution_count": 21,
     "metadata": {},
     "output_type": "execute_result"
    }
   ],
   "source": [
    "number_tracks('Monday', 'Moscow')\n",
    "# количество прослушиваний в Москве по понедельникам"
   ]
  },
  {
   "cell_type": "code",
   "execution_count": 22,
   "metadata": {
    "deletable": false,
    "id": "hq_ncZ5T_Zcu"
   },
   "outputs": [
    {
     "data": {
      "text/plain": [
       "5614"
      ]
     },
     "execution_count": 22,
     "metadata": {},
     "output_type": "execute_result"
    }
   ],
   "source": [
    "number_tracks('Monday', 'Saint-Petersburg')\n",
    "# количество прослушиваний в Санкт-Петербурге по понедельникам"
   ]
  },
  {
   "cell_type": "code",
   "execution_count": 23,
   "metadata": {
    "deletable": false,
    "id": "_NTy2VPU_Zcu"
   },
   "outputs": [
    {
     "data": {
      "text/plain": [
       "11056"
      ]
     },
     "execution_count": 23,
     "metadata": {},
     "output_type": "execute_result"
    }
   ],
   "source": [
    "number_tracks('Wednesday', 'Moscow')\n",
    "# количество прослушиваний в Москве по средам"
   ]
  },
  {
   "cell_type": "code",
   "execution_count": 24,
   "metadata": {
    "deletable": false,
    "id": "j2y3TAwo_Zcu"
   },
   "outputs": [
    {
     "data": {
      "text/plain": [
       "7003"
      ]
     },
     "execution_count": 24,
     "metadata": {},
     "output_type": "execute_result"
    }
   ],
   "source": [
    "number_tracks('Wednesday', 'Saint-Petersburg')\n",
    "# количество прослушиваний в Санкт-Петербурге по средам"
   ]
  },
  {
   "cell_type": "code",
   "execution_count": 25,
   "metadata": {
    "deletable": false,
    "id": "vYDw5u_K_Zcu"
   },
   "outputs": [
    {
     "data": {
      "text/plain": [
       "15945"
      ]
     },
     "execution_count": 25,
     "metadata": {},
     "output_type": "execute_result"
    }
   ],
   "source": [
    "number_tracks('Friday', 'Moscow')\n",
    "# количество прослушиваний в Москве по пятницам"
   ]
  },
  {
   "cell_type": "code",
   "execution_count": 26,
   "metadata": {
    "deletable": false,
    "id": "8_yzFtW3_Zcu"
   },
   "outputs": [
    {
     "data": {
      "text/plain": [
       "5895"
      ]
     },
     "execution_count": 26,
     "metadata": {},
     "output_type": "execute_result"
    }
   ],
   "source": [
    "number_tracks('Friday', 'Saint-Petersburg')\n",
    "# количество прослушиваний в Санкт-Петербурге по пятницам"
   ]
  },
  {
   "cell_type": "markdown",
   "metadata": {
    "deletable": false,
    "editable": false,
    "id": "7QXffbO-_Zcu",
    "tags": [
     "start_task"
    ]
   },
   "source": [
    "**Задание 22**\n",
    "\n",
    "С помощью конструктора `pd.DataFrame` создайте таблицу, где\n",
    "* названия колонок — `['city', 'monday', 'wednesday', 'friday']`;\n",
    "* данные — результаты, которые вы получили с помощью `number_tracks`."
   ]
  },
  {
   "cell_type": "code",
   "execution_count": 27,
   "metadata": {
    "deletable": false,
    "id": "APAcLpOr_Zcu"
   },
   "outputs": [
    {
     "data": {
      "text/html": [
       "<div>\n",
       "<style scoped>\n",
       "    .dataframe tbody tr th:only-of-type {\n",
       "        vertical-align: middle;\n",
       "    }\n",
       "\n",
       "    .dataframe tbody tr th {\n",
       "        vertical-align: top;\n",
       "    }\n",
       "\n",
       "    .dataframe thead th {\n",
       "        text-align: right;\n",
       "    }\n",
       "</style>\n",
       "<table border=\"1\" class=\"dataframe\">\n",
       "  <thead>\n",
       "    <tr style=\"text-align: right;\">\n",
       "      <th></th>\n",
       "      <th>city</th>\n",
       "      <th>monday</th>\n",
       "      <th>wednesday</th>\n",
       "      <th>friday</th>\n",
       "    </tr>\n",
       "  </thead>\n",
       "  <tbody>\n",
       "    <tr>\n",
       "      <th>0</th>\n",
       "      <td>Москва</td>\n",
       "      <td>15740</td>\n",
       "      <td>11056</td>\n",
       "      <td>15945</td>\n",
       "    </tr>\n",
       "    <tr>\n",
       "      <th>1</th>\n",
       "      <td>Санкт-Петербург</td>\n",
       "      <td>5614</td>\n",
       "      <td>7003</td>\n",
       "      <td>5895</td>\n",
       "    </tr>\n",
       "  </tbody>\n",
       "</table>\n",
       "</div>"
      ],
      "text/plain": [
       "              city  monday  wednesday  friday\n",
       "0           Москва   15740      11056   15945\n",
       "1  Санкт-Петербург    5614       7003    5895"
      ]
     },
     "execution_count": 27,
     "metadata": {},
     "output_type": "execute_result"
    }
   ],
   "source": [
    "columns = ['city', 'monday', 'wednesday', 'friday']\n",
    "number_tracks_cities = pd.DataFrame(data=[['Москва', 15740, 11056, 15945],['Санкт-Петербург', 5614, 7003, 5895]], columns=columns)\n",
    "number_tracks_cities\n",
    "# Таблица с результатами"
   ]
  },
  {
   "cell_type": "markdown",
   "metadata": {
    "deletable": false,
    "editable": false,
    "id": "-EgPIHYu_Zcu"
   },
   "source": [
    "**Выводы**\n",
    "\n",
    "Данные показывают разницу поведения пользователей:\n",
    "\n",
    "- В Москве пик прослушиваний приходится на понедельник и пятницу, а в среду заметен спад.\n",
    "- В Петербурге, наоборот, больше слушают музыку по средам. Активность в понедельник и пятницу здесь почти в равной мере уступает среде.\n",
    "\n",
    "Значит, данные говорят в пользу первой гипотезы."
   ]
  },
  {
   "cell_type": "markdown",
   "metadata": {
    "deletable": false,
    "editable": false,
    "id": "atZAxtq4_Zcu"
   },
   "source": [
    "### Музыка в начале и в конце недели"
   ]
  },
  {
   "cell_type": "markdown",
   "metadata": {
    "deletable": false,
    "editable": false,
    "id": "eXrQqXFH_Zcu"
   },
   "source": [
    "Согласно второй гипотезе, утром в понедельник в Москве преобладают одни жанры, а в Петербурге — другие. Так же и вечером пятницы преобладают разные жанры — в зависимости от города."
   ]
  },
  {
   "cell_type": "markdown",
   "metadata": {
    "deletable": false,
    "editable": false,
    "id": "S8UcW6Hw_Zcu",
    "tags": [
     "start_task"
    ]
   },
   "source": [
    "**Задание 23**\n",
    "\n",
    "Сохраните таблицы с данными в две переменные:\n",
    "* по Москве — в `moscow_general`;\n",
    "* по Санкт-Петербургу — в `spb_general`."
   ]
  },
  {
   "cell_type": "code",
   "execution_count": 28,
   "metadata": {
    "deletable": false,
    "id": "qeaFfM_P_Zcu"
   },
   "outputs": [],
   "source": [
    "moscow_general = df.loc[df.loc[:,'city']=='Moscow']\n",
    "# получение таблицы moscow_general из тех строк таблицы df,\n",
    "# для которых значение в столбце 'city' равно 'Moscow'"
   ]
  },
  {
   "cell_type": "code",
   "execution_count": 29,
   "metadata": {
    "deletable": false,
    "id": "ORaVRKto_Zcu"
   },
   "outputs": [],
   "source": [
    "spb_general = df.loc[df.loc[:,'city']=='Saint-Petersburg']\n",
    "# получение таблицы spb_general из тех строк таблицы df,\n",
    "# для которых значение в столбце 'city' равно 'Saint-Petersburg'"
   ]
  },
  {
   "cell_type": "markdown",
   "metadata": {
    "deletable": false,
    "id": "MEJV-CX2_Zcu",
    "tags": [
     "start_task"
    ]
   },
   "source": [
    "**Задание 24**\n",
    "\n",
    "Создайте функцию `genre_weekday()` с четырьмя параметрами:\n",
    "* таблица (датафрейм) с данными,\n",
    "* день недели,\n",
    "* начальная временная метка в формате 'hh:mm',\n",
    "* последняя временная метка в формате 'hh:mm'.\n",
    "\n",
    "Функция должна вернуть информацию о топ-10 жанров тех треков, которые прослушивали в указанный день, в промежутке между двумя отметками времени."
   ]
  },
  {
   "cell_type": "code",
   "execution_count": 33,
   "metadata": {
    "deletable": false,
    "id": "laJT9BYl_Zcu"
   },
   "outputs": [],
   "source": [
    "# Объявление функции genre_weekday() с параметрами df, day, time1, time2,\n",
    "# которая возвращает информацию о самых популярных жанрах в указанный день в\n",
    "# заданное время:\n",
    "# 1) в переменную genre_df сохраняются те строки переданного датафрейма df, для\n",
    "#    которых одновременно:\n",
    "#    - значение в столбце day равно значению аргумента day\n",
    "#    - значение в столбце time больше значения аргумента time1\n",
    "#    - значение в столбце time меньше значения аргумента time2\n",
    "#    Используйте последовательную фильтрацию с помощью логической индексации.\n",
    "# 2) сгруппировать датафрейм genre_df по столбцу genre, взять один из его\n",
    "#    столбцов и посчитать методом count() количество записей для каждого из\n",
    "#    присутствующих жанров, получившийся Series записать в переменную\n",
    "#    genre_df_grouped\n",
    "# 3) отсортировать genre_df_grouped по убыванию встречаемости и сохранить\n",
    "#    в переменную genre_df_sorted\n",
    "# 4) вернуть Series из 10 первых значений genre_df_sorted, это будут топ-10\n",
    "#    популярных жанров (в указанный день, в заданное время)\n",
    "\n",
    "def genre_weekday(df, day, time1, time2):\n",
    "    # фильтрация\n",
    "    # оставляем в genre_df только те строки df, у которых день равен day, \n",
    "    # у которых время меньше time2 \n",
    "    # и у которых время больше time1\n",
    "    genre_df = df[(df['day'] == day) & (df['time'] > time1) & (df['time'] < time2)]\n",
    "    # сгруппируем отфильтрованный датафрейм по столбцу с названиями жанров, возьмём столбец genre и посчитаем кол-во строк для каждого жанра методом count()\n",
    "    genre_df_grouped = genre_df.groupby('genre')['genre'].count()\n",
    "    # отсортируем результат по убыванию (чтобы в начале Series оказались самые популярные жанры)\n",
    "    genre_df_sorted = genre_df_grouped.sort_values(ascending=False)\n",
    "    # вернём Series с 10 самыми популярными жанрами в указанный отрезок времени заданного дня\n",
    "    return genre_df_sorted[:10]"
   ]
  },
  {
   "cell_type": "markdown",
   "metadata": {
    "deletable": false,
    "editable": false,
    "id": "la2s2_PF_Zcu",
    "tags": [
     "start_task"
    ]
   },
   "source": [
    "**Задание 25**\n",
    "\n",
    "\n",
    "Cравните результаты функции `genre_weekday()` для Москвы и Санкт-Петербурга в понедельник утром (с 7:00 до 11:00) и в пятницу вечером (с 17:00 до 23:00):"
   ]
  },
  {
   "cell_type": "code",
   "execution_count": 35,
   "metadata": {
    "deletable": false,
    "id": "yz7itPUQ_Zcu"
   },
   "outputs": [
    {
     "data": {
      "text/plain": [
       "genre\n",
       "pop            781\n",
       "dance          549\n",
       "electronic     480\n",
       "rock           474\n",
       "hiphop         286\n",
       "ruspop         186\n",
       "world          181\n",
       "rusrap         175\n",
       "alternative    164\n",
       "unknown        161\n",
       "Name: genre, dtype: int64"
      ]
     },
     "execution_count": 35,
     "metadata": {},
     "output_type": "execute_result"
    }
   ],
   "source": [
    "# вызов функции для утра понедельника в Москве (вместо df — таблица moscow_general)\n",
    "genre_weekday(moscow_general, 'Monday', '07:00', '11:00')\n",
    "# объекты, хранящие время, являются строками и сравниваются как строки\n",
    "# пример вызова: genre_weekday(moscow_general, 'Monday', '07:00', '11:00')"
   ]
  },
  {
   "cell_type": "code",
   "execution_count": 36,
   "metadata": {
    "deletable": false,
    "id": "kwUcHPdy_Zcu"
   },
   "outputs": [
    {
     "data": {
      "text/plain": [
       "genre\n",
       "pop            218\n",
       "dance          182\n",
       "rock           162\n",
       "electronic     147\n",
       "hiphop          80\n",
       "ruspop          64\n",
       "alternative     58\n",
       "rusrap          55\n",
       "jazz            44\n",
       "classical       40\n",
       "Name: genre, dtype: int64"
      ]
     },
     "execution_count": 36,
     "metadata": {},
     "output_type": "execute_result"
    }
   ],
   "source": [
    "# вызов функции для утра понедельника в Петербурге (вместо df — таблица spb_general)\n",
    "genre_weekday(spb_general, 'Monday', '07:00', '11:00')"
   ]
  },
  {
   "cell_type": "code",
   "execution_count": 37,
   "metadata": {
    "deletable": false,
    "id": "EzXVRE1o_Zcu"
   },
   "outputs": [
    {
     "data": {
      "text/plain": [
       "genre\n",
       "pop            713\n",
       "rock           517\n",
       "dance          495\n",
       "electronic     482\n",
       "hiphop         273\n",
       "world          208\n",
       "ruspop         170\n",
       "alternative    163\n",
       "classical      163\n",
       "rusrap         142\n",
       "Name: genre, dtype: int64"
      ]
     },
     "execution_count": 37,
     "metadata": {},
     "output_type": "execute_result"
    }
   ],
   "source": [
    "# вызов функции для вечера пятницы в Москве\n",
    "genre_weekday(moscow_general, 'Friday', '17:00', '23:00')"
   ]
  },
  {
   "cell_type": "code",
   "execution_count": 38,
   "metadata": {
    "deletable": false,
    "id": "JZaEKu5v_Zcu"
   },
   "outputs": [
    {
     "data": {
      "text/plain": [
       "genre\n",
       "pop            256\n",
       "electronic     216\n",
       "rock           216\n",
       "dance          210\n",
       "hiphop          97\n",
       "alternative     63\n",
       "jazz            61\n",
       "classical       60\n",
       "rusrap          59\n",
       "world           54\n",
       "Name: genre, dtype: int64"
      ]
     },
     "execution_count": 38,
     "metadata": {},
     "output_type": "execute_result"
    }
   ],
   "source": [
    "# вызов функции для вечера пятницы в Петербурге\n",
    "genre_weekday(spb_general, 'Friday', '17:00', '23:00')"
   ]
  },
  {
   "cell_type": "markdown",
   "metadata": {
    "deletable": false,
    "editable": false,
    "id": "wrCe4MNX_Zcu"
   },
   "source": [
    "**Выводы**\n",
    "\n",
    "Если сравнить топ-10 жанров в понедельник утром, можно сделать такие выводы:\n",
    "\n",
    "1. В Москве и Петербурге слушают похожую музыку. Единственное различие — в московский рейтинг вошёл жанр “world”, а в петербургский — джаз и классика.\n",
    "\n",
    "2. В Москве пропущенных значений оказалось так много, что значение `'unknown'` заняло десятое место среди самых популярных жанров. Значит, пропущенные значения занимают существенную долю в данных и угрожают достоверности исследования.\n",
    "\n",
    "Вечер пятницы не меняет эту картину. Некоторые жанры поднимаются немного выше, другие спускаются, но в целом топ-10 остаётся тем же самым.\n",
    "\n",
    "Таким образом, вторая гипотеза подтвердилась лишь частично:\n",
    "* Пользователи слушают похожую музыку в начале недели и в конце.\n",
    "* Разница между Москвой и Петербургом не слишком выражена. В Москве чаще слушают русскую популярную музыку, в Петербурге — джаз.\n",
    "\n",
    "Однако пропуски в данных ставят под сомнение этот результат. В Москве их так много, что рейтинг топ-10 мог бы выглядеть иначе, если бы не утерянные  данные о жанрах."
   ]
  },
  {
   "cell_type": "markdown",
   "metadata": {
    "deletable": false,
    "editable": false,
    "id": "JolODAqr_Zcu"
   },
   "source": [
    "### Жанровые предпочтения в Москве и Петербурге\n",
    "\n",
    "Гипотеза: Петербург — столица рэпа, музыку этого жанра там слушают чаще, чем в Москве.  А Москва — город контрастов, в котором, тем не менее, преобладает поп-музыка."
   ]
  },
  {
   "cell_type": "markdown",
   "metadata": {
    "deletable": false,
    "editable": false,
    "id": "DlegSvaT_Zcu",
    "tags": [
     "start_task"
    ]
   },
   "source": [
    "**Задание 26**\n",
    "\n",
    "Сгруппируйте таблицу `moscow_general` по жанру и посчитайте прослушивания треков каждого жанра методом `count()`. Затем отсортируйте результат в порядке убывания и сохраните его в таблице `moscow_genres`."
   ]
  },
  {
   "cell_type": "code",
   "execution_count": 43,
   "metadata": {
    "deletable": false,
    "id": "r19lIPke_Zcu"
   },
   "outputs": [
    {
     "data": {
      "text/plain": [
       "genre\n",
       "pop            5892\n",
       "dance          4435\n",
       "rock           3965\n",
       "electronic     3786\n",
       "hiphop         2096\n",
       "               ... \n",
       "neoklassik        1\n",
       "mood              1\n",
       "metalcore         1\n",
       "marschmusik       1\n",
       "ïîï               1\n",
       "Name: genre, Length: 267, dtype: int64"
      ]
     },
     "execution_count": 43,
     "metadata": {},
     "output_type": "execute_result"
    }
   ],
   "source": [
    "# одной строкой: группировка таблицы moscow_general по столбцу 'genre',\n",
    "# подсчёт числа значений 'genre' в этой группировке методом count(),\n",
    "# сортировка получившегося Series в порядке убывания и сохранение в moscow_genres\n",
    "\n",
    "moscow_genres = moscow_general.groupby('genre')['genre'].count().sort_values(ascending=False)"
   ]
  },
  {
   "cell_type": "markdown",
   "metadata": {
    "deletable": false,
    "editable": false,
    "id": "6kMuomxTiIr8",
    "tags": [
     "start_task"
    ]
   },
   "source": [
    "**Задание 27**\n",
    "\n",
    "Выведите на экран первые десять строк `moscow_genres`:"
   ]
  },
  {
   "cell_type": "code",
   "execution_count": 45,
   "metadata": {
    "deletable": false,
    "id": "WhCSooF8_Zcv"
   },
   "outputs": [
    {
     "data": {
      "text/plain": [
       "genre\n",
       "pop            5892\n",
       "dance          4435\n",
       "rock           3965\n",
       "electronic     3786\n",
       "hiphop         2096\n",
       "classical      1616\n",
       "world          1432\n",
       "alternative    1379\n",
       "ruspop         1372\n",
       "rusrap         1161\n",
       "Name: genre, dtype: int64"
      ]
     },
     "execution_count": 45,
     "metadata": {},
     "output_type": "execute_result"
    }
   ],
   "source": [
    "moscow_genres.head(10) # просмотр первых 10 строк moscow_genres"
   ]
  },
  {
   "cell_type": "markdown",
   "metadata": {
    "deletable": false,
    "editable": false,
    "id": "cnPG2vnN_Zcv",
    "tags": [
     "start_task"
    ]
   },
   "source": [
    "**Задание 28**\n",
    "\n",
    "\n",
    "Теперь повторите то же и для Петербурга.\n",
    "\n",
    "Сгруппируйте таблицу `spb_general` по жанру. Посчитайте прослушивания треков каждого жанра. Результат отсортируйте в порядке убывания и сохраните в таблице `spb_genres`:\n"
   ]
  },
  {
   "cell_type": "code",
   "execution_count": 46,
   "metadata": {
    "deletable": false,
    "id": "gluLIpE7_Zcv"
   },
   "outputs": [],
   "source": [
    "# одной строкой: группировка таблицы spb_general по столбцу 'genre',\n",
    "# подсчёт числа значений 'genre' в этой группировке методом count(),\n",
    "# сортировка получившегося Series в порядке убывания и сохранение в spb_genres\n",
    "spb_genres = spb_general.groupby('genre')['genre'].count().sort_values(ascending=False)"
   ]
  },
  {
   "cell_type": "markdown",
   "metadata": {
    "deletable": false,
    "editable": false,
    "id": "5Doha_ODgyQ8",
    "tags": [
     "start_task"
    ]
   },
   "source": [
    "**Задание 29**\n",
    "\n",
    "Выведите на экран первые десять строк `spb_genres`:"
   ]
  },
  {
   "cell_type": "code",
   "execution_count": 47,
   "metadata": {
    "deletable": false,
    "id": "uaGJHjVU_Zcv"
   },
   "outputs": [
    {
     "data": {
      "text/plain": [
       "genre\n",
       "pop            2431\n",
       "dance          1932\n",
       "rock           1879\n",
       "electronic     1736\n",
       "hiphop          960\n",
       "alternative     649\n",
       "classical       646\n",
       "rusrap          564\n",
       "ruspop          538\n",
       "world           515\n",
       "Name: genre, dtype: int64"
      ]
     },
     "execution_count": 47,
     "metadata": {},
     "output_type": "execute_result"
    }
   ],
   "source": [
    "spb_genres.head(10)\n",
    "# просмотр первых 10 строк spb_genres"
   ]
  },
  {
   "cell_type": "markdown",
   "metadata": {
    "deletable": false,
    "editable": false,
    "id": "RY51YJYu_Zcv"
   },
   "source": [
    "**Выводы**"
   ]
  },
  {
   "cell_type": "markdown",
   "metadata": {
    "deletable": false,
    "editable": false,
    "id": "nVhnJEm__Zcv"
   },
   "source": [
    "Гипотеза частично подтвердилась:\n",
    "* Поп-музыка — самый популярный жанр в Москве, как и предполагала гипотеза. Более того, в топ-10 жанров встречается близкий жанр — русская популярная музыка.\n",
    "* Вопреки ожиданиям, рэп одинаково популярен в Москве и Петербурге.\n"
   ]
  },
  {
   "cell_type": "markdown",
   "metadata": {
    "deletable": false,
    "editable": false,
    "id": "ykKQ0N65_Zcv"
   },
   "source": [
    "## Итоги исследования"
   ]
  },
  {
   "cell_type": "markdown",
   "metadata": {
    "deletable": false,
    "editable": false,
    "id": "tjUwbHb3_Zcv"
   },
   "source": [
    "Вы проверили три гипотезы и установили:\n",
    "\n",
    "1. День недели по-разному влияет на активность пользователей в Москве и Петербурге.\n",
    "\n",
    "Первая гипотеза полностью подтвердилась.\n",
    "\n",
    "2. Музыкальные предпочтения не сильно меняются в течение недели — будь то Москва или Петербург. Небольшие различия заметны в начале недели, по понедельникам:\n",
    "* в Москве слушают музыку жанра “world”,\n",
    "* в Петербурге — джаз и классику.\n",
    "\n",
    "Таким образом, вторая гипотеза подтвердилась лишь отчасти. Этот результат мог оказаться иным, если бы не пропуски в данных.\n",
    "\n",
    "3. Во вкусах пользователей Москвы и Петербурга больше общего, чем различий. Вопреки ожиданиям, предпочтения жанров в Петербурге напоминают московские.\n",
    "\n",
    "Третья гипотеза не подтвердилась. Если различия в предпочтениях и существуют, на основной массе пользователей они незаметны.\n",
    "\n",
    "**На практике исследования содержат проверки статистических гипотез.**\n",
    "Из данных одного сервиса не всегда можно сделать вывод о всех жителях города.\n",
    "Проверки статистических гипотез покажут, насколько они достоверны, исходя из имеющихся данных.\n",
    "С методами проверок гипотез вы ещё познакомитесь в следующих темах."
   ]
  }
 ],
 "metadata": {
  "ExecuteTimeLog": [
   {
    "duration": 365,
    "start_time": "2023-12-01T14:12:52.246Z"
   },
   {
    "duration": 229,
    "start_time": "2023-12-01T14:42:41.527Z"
   },
   {
    "duration": 218,
    "start_time": "2023-12-01T14:43:16.392Z"
   },
   {
    "duration": 162,
    "start_time": "2023-12-01T14:43:48.505Z"
   },
   {
    "duration": 6,
    "start_time": "2023-12-01T14:55:14.676Z"
   },
   {
    "duration": 6,
    "start_time": "2023-12-01T14:55:17.961Z"
   },
   {
    "duration": 390,
    "start_time": "2023-12-01T14:55:44.579Z"
   },
   {
    "duration": 161,
    "start_time": "2023-12-01T14:55:44.971Z"
   },
   {
    "duration": 3,
    "start_time": "2023-12-01T14:55:45.133Z"
   },
   {
    "duration": 36,
    "start_time": "2023-12-01T14:55:45.138Z"
   },
   {
    "duration": 4,
    "start_time": "2023-12-01T14:55:45.175Z"
   },
   {
    "duration": 3,
    "start_time": "2023-12-01T14:55:45.180Z"
   },
   {
    "duration": 15,
    "start_time": "2023-12-01T14:55:45.184Z"
   },
   {
    "duration": 10,
    "start_time": "2023-12-01T14:55:45.200Z"
   },
   {
    "duration": 7,
    "start_time": "2023-12-01T14:55:45.211Z"
   },
   {
    "duration": 4,
    "start_time": "2023-12-01T14:55:45.221Z"
   },
   {
    "duration": 2,
    "start_time": "2023-12-01T14:55:45.227Z"
   },
   {
    "duration": 3,
    "start_time": "2023-12-01T14:55:45.231Z"
   },
   {
    "duration": 9,
    "start_time": "2023-12-01T14:55:45.235Z"
   },
   {
    "duration": 3,
    "start_time": "2023-12-01T14:55:45.246Z"
   },
   {
    "duration": 15,
    "start_time": "2023-12-01T14:55:45.250Z"
   },
   {
    "duration": 4,
    "start_time": "2023-12-01T14:55:45.266Z"
   },
   {
    "duration": 4,
    "start_time": "2023-12-01T14:55:45.271Z"
   },
   {
    "duration": 3,
    "start_time": "2023-12-01T14:55:45.276Z"
   },
   {
    "duration": 2,
    "start_time": "2023-12-01T14:55:45.282Z"
   },
   {
    "duration": 4,
    "start_time": "2023-12-01T14:55:45.286Z"
   },
   {
    "duration": 16,
    "start_time": "2023-12-01T14:55:45.291Z"
   },
   {
    "duration": 9,
    "start_time": "2023-12-01T14:55:45.309Z"
   },
   {
    "duration": 3,
    "start_time": "2023-12-01T14:55:45.320Z"
   },
   {
    "duration": 4,
    "start_time": "2023-12-01T14:55:45.325Z"
   },
   {
    "duration": 12,
    "start_time": "2023-12-01T14:55:45.331Z"
   },
   {
    "duration": 10,
    "start_time": "2023-12-01T14:55:45.345Z"
   },
   {
    "duration": 11,
    "start_time": "2023-12-01T14:55:45.356Z"
   },
   {
    "duration": 11,
    "start_time": "2023-12-01T14:55:45.369Z"
   },
   {
    "duration": 4,
    "start_time": "2023-12-01T14:55:45.381Z"
   },
   {
    "duration": 111,
    "start_time": "2023-12-01T14:55:45.386Z"
   },
   {
    "duration": 0,
    "start_time": "2023-12-01T14:55:45.498Z"
   },
   {
    "duration": 0,
    "start_time": "2023-12-01T14:55:45.499Z"
   },
   {
    "duration": 0,
    "start_time": "2023-12-01T14:55:45.500Z"
   },
   {
    "duration": 0,
    "start_time": "2023-12-01T14:55:45.501Z"
   },
   {
    "duration": 0,
    "start_time": "2023-12-01T14:55:45.502Z"
   },
   {
    "duration": 0,
    "start_time": "2023-12-01T14:55:45.503Z"
   },
   {
    "duration": 0,
    "start_time": "2023-12-01T14:55:45.504Z"
   },
   {
    "duration": 0,
    "start_time": "2023-12-01T14:55:45.505Z"
   },
   {
    "duration": 167,
    "start_time": "2023-12-01T14:55:53.315Z"
   },
   {
    "duration": 83,
    "start_time": "2023-12-01T14:57:09.212Z"
   },
   {
    "duration": 75,
    "start_time": "2023-12-01T14:57:33.875Z"
   },
   {
    "duration": 76,
    "start_time": "2023-12-01T14:57:43.661Z"
   },
   {
    "duration": 70,
    "start_time": "2023-12-01T14:57:48.293Z"
   },
   {
    "duration": 74,
    "start_time": "2023-12-01T14:57:52.173Z"
   },
   {
    "duration": 77,
    "start_time": "2023-12-01T14:57:55.003Z"
   },
   {
    "duration": 214,
    "start_time": "2023-12-01T15:00:14.296Z"
   },
   {
    "duration": 71,
    "start_time": "2023-12-01T15:04:21.016Z"
   },
   {
    "duration": 226,
    "start_time": "2023-12-01T15:06:57.618Z"
   },
   {
    "duration": 372,
    "start_time": "2023-12-01T15:10:25.410Z"
   },
   {
    "duration": 237,
    "start_time": "2023-12-01T15:10:25.784Z"
   },
   {
    "duration": 3,
    "start_time": "2023-12-01T15:10:26.022Z"
   },
   {
    "duration": 5,
    "start_time": "2023-12-01T15:10:26.027Z"
   },
   {
    "duration": 21,
    "start_time": "2023-12-01T15:10:26.034Z"
   },
   {
    "duration": 5,
    "start_time": "2023-12-01T15:10:26.056Z"
   },
   {
    "duration": 4,
    "start_time": "2023-12-01T15:10:26.062Z"
   },
   {
    "duration": 3,
    "start_time": "2023-12-01T15:10:26.068Z"
   },
   {
    "duration": 16,
    "start_time": "2023-12-01T15:10:26.072Z"
   },
   {
    "duration": 3,
    "start_time": "2023-12-01T15:10:26.091Z"
   },
   {
    "duration": 7,
    "start_time": "2023-12-01T15:10:26.095Z"
   },
   {
    "duration": 5,
    "start_time": "2023-12-01T15:10:26.103Z"
   },
   {
    "duration": 6,
    "start_time": "2023-12-01T15:10:26.110Z"
   },
   {
    "duration": 9,
    "start_time": "2023-12-01T15:10:26.117Z"
   },
   {
    "duration": 5,
    "start_time": "2023-12-01T15:10:26.127Z"
   },
   {
    "duration": 9,
    "start_time": "2023-12-01T15:10:26.133Z"
   },
   {
    "duration": 10,
    "start_time": "2023-12-01T15:10:26.143Z"
   },
   {
    "duration": 16,
    "start_time": "2023-12-01T15:10:26.154Z"
   },
   {
    "duration": 20,
    "start_time": "2023-12-01T15:10:26.171Z"
   },
   {
    "duration": 8,
    "start_time": "2023-12-01T15:10:26.192Z"
   },
   {
    "duration": 11,
    "start_time": "2023-12-01T15:10:26.201Z"
   },
   {
    "duration": 11,
    "start_time": "2023-12-01T15:10:26.213Z"
   },
   {
    "duration": 5,
    "start_time": "2023-12-01T15:10:26.226Z"
   },
   {
    "duration": 5,
    "start_time": "2023-12-01T15:10:26.233Z"
   },
   {
    "duration": 6,
    "start_time": "2023-12-01T15:10:26.240Z"
   },
   {
    "duration": 3,
    "start_time": "2023-12-01T15:10:26.248Z"
   },
   {
    "duration": 17,
    "start_time": "2023-12-01T15:10:26.253Z"
   },
   {
    "duration": 12,
    "start_time": "2023-12-01T15:10:26.274Z"
   },
   {
    "duration": 20,
    "start_time": "2023-12-01T15:10:26.287Z"
   },
   {
    "duration": 100,
    "start_time": "2023-12-01T15:10:26.308Z"
   },
   {
    "duration": 0,
    "start_time": "2023-12-01T15:10:26.410Z"
   },
   {
    "duration": 0,
    "start_time": "2023-12-01T15:10:26.411Z"
   },
   {
    "duration": 0,
    "start_time": "2023-12-01T15:10:26.413Z"
   },
   {
    "duration": 0,
    "start_time": "2023-12-01T15:10:26.414Z"
   },
   {
    "duration": 0,
    "start_time": "2023-12-01T15:10:26.415Z"
   },
   {
    "duration": 0,
    "start_time": "2023-12-01T15:10:26.416Z"
   },
   {
    "duration": 0,
    "start_time": "2023-12-01T15:10:26.418Z"
   },
   {
    "duration": 0,
    "start_time": "2023-12-01T15:10:26.419Z"
   },
   {
    "duration": 290,
    "start_time": "2023-12-01T15:10:35.835Z"
   },
   {
    "duration": 344,
    "start_time": "2023-12-01T15:10:48.142Z"
   },
   {
    "duration": 209,
    "start_time": "2023-12-01T15:10:48.487Z"
   },
   {
    "duration": 3,
    "start_time": "2023-12-01T15:10:48.697Z"
   },
   {
    "duration": 37,
    "start_time": "2023-12-01T15:10:48.701Z"
   },
   {
    "duration": 7,
    "start_time": "2023-12-01T15:10:48.739Z"
   },
   {
    "duration": 7,
    "start_time": "2023-12-01T15:10:48.747Z"
   },
   {
    "duration": 5,
    "start_time": "2023-12-01T15:10:48.755Z"
   },
   {
    "duration": 20,
    "start_time": "2023-12-01T15:10:48.761Z"
   },
   {
    "duration": 4,
    "start_time": "2023-12-01T15:10:48.782Z"
   },
   {
    "duration": 4,
    "start_time": "2023-12-01T15:10:48.789Z"
   },
   {
    "duration": 27,
    "start_time": "2023-12-01T15:10:48.794Z"
   },
   {
    "duration": 14,
    "start_time": "2023-12-01T15:10:48.823Z"
   },
   {
    "duration": 10,
    "start_time": "2023-12-01T15:10:48.839Z"
   },
   {
    "duration": 5,
    "start_time": "2023-12-01T15:10:48.851Z"
   },
   {
    "duration": 5,
    "start_time": "2023-12-01T15:10:48.857Z"
   },
   {
    "duration": 8,
    "start_time": "2023-12-01T15:10:48.863Z"
   },
   {
    "duration": 8,
    "start_time": "2023-12-01T15:10:48.872Z"
   },
   {
    "duration": 5,
    "start_time": "2023-12-01T15:10:48.881Z"
   },
   {
    "duration": 3,
    "start_time": "2023-12-01T15:10:48.887Z"
   },
   {
    "duration": 5,
    "start_time": "2023-12-01T15:10:48.891Z"
   },
   {
    "duration": 6,
    "start_time": "2023-12-01T15:10:48.897Z"
   },
   {
    "duration": 6,
    "start_time": "2023-12-01T15:10:48.904Z"
   },
   {
    "duration": 3,
    "start_time": "2023-12-01T15:10:48.912Z"
   },
   {
    "duration": 5,
    "start_time": "2023-12-01T15:10:48.916Z"
   },
   {
    "duration": 13,
    "start_time": "2023-12-01T15:10:48.922Z"
   },
   {
    "duration": 5,
    "start_time": "2023-12-01T15:10:48.936Z"
   },
   {
    "duration": 4,
    "start_time": "2023-12-01T15:10:48.942Z"
   },
   {
    "duration": 3,
    "start_time": "2023-12-01T15:10:48.950Z"
   },
   {
    "duration": 27,
    "start_time": "2023-12-01T15:10:48.955Z"
   },
   {
    "duration": 70,
    "start_time": "2023-12-01T15:10:48.983Z"
   },
   {
    "duration": 0,
    "start_time": "2023-12-01T15:10:49.054Z"
   },
   {
    "duration": 1,
    "start_time": "2023-12-01T15:10:49.055Z"
   },
   {
    "duration": 0,
    "start_time": "2023-12-01T15:10:49.056Z"
   },
   {
    "duration": 0,
    "start_time": "2023-12-01T15:10:49.057Z"
   },
   {
    "duration": 0,
    "start_time": "2023-12-01T15:10:49.058Z"
   },
   {
    "duration": 0,
    "start_time": "2023-12-01T15:10:49.059Z"
   },
   {
    "duration": 0,
    "start_time": "2023-12-01T15:10:49.060Z"
   },
   {
    "duration": 0,
    "start_time": "2023-12-01T15:10:49.061Z"
   },
   {
    "duration": 80,
    "start_time": "2023-12-01T15:11:11.892Z"
   },
   {
    "duration": 58,
    "start_time": "2023-12-01T15:11:18.913Z"
   },
   {
    "duration": 82,
    "start_time": "2023-12-01T15:11:25.304Z"
   },
   {
    "duration": 261,
    "start_time": "2023-12-01T15:11:30.006Z"
   },
   {
    "duration": 1641,
    "start_time": "2023-12-01T15:12:16.459Z"
   },
   {
    "duration": 238,
    "start_time": "2023-12-01T15:12:25.361Z"
   },
   {
    "duration": 229,
    "start_time": "2023-12-01T15:13:35.869Z"
   },
   {
    "duration": 172,
    "start_time": "2023-12-01T15:15:59.792Z"
   },
   {
    "duration": 18,
    "start_time": "2023-12-01T15:37:29.343Z"
   },
   {
    "duration": 36,
    "start_time": "2023-12-01T15:38:02.179Z"
   },
   {
    "duration": 3,
    "start_time": "2023-12-01T15:43:25.260Z"
   },
   {
    "duration": 3,
    "start_time": "2023-12-01T15:43:28.796Z"
   },
   {
    "duration": 67,
    "start_time": "2023-12-01T15:45:01.997Z"
   },
   {
    "duration": 8,
    "start_time": "2023-12-01T15:45:15.865Z"
   },
   {
    "duration": 4,
    "start_time": "2023-12-01T15:45:23.076Z"
   },
   {
    "duration": 8,
    "start_time": "2023-12-01T15:48:00.927Z"
   },
   {
    "duration": 9,
    "start_time": "2023-12-01T15:48:57.182Z"
   },
   {
    "duration": 7,
    "start_time": "2023-12-01T15:49:07.731Z"
   },
   {
    "duration": 7,
    "start_time": "2023-12-01T15:50:06.079Z"
   },
   {
    "duration": 8,
    "start_time": "2023-12-01T15:50:52.259Z"
   },
   {
    "duration": 8,
    "start_time": "2023-12-01T15:51:12.601Z"
   },
   {
    "duration": 4,
    "start_time": "2023-12-01T15:51:17.495Z"
   },
   {
    "duration": 30,
    "start_time": "2023-12-01T15:54:01.735Z"
   },
   {
    "duration": 1703,
    "start_time": "2023-12-01T16:01:30.278Z"
   },
   {
    "duration": 1372,
    "start_time": "2023-12-01T16:03:47.772Z"
   },
   {
    "duration": 1239,
    "start_time": "2023-12-01T16:07:41.666Z"
   },
   {
    "duration": 1484,
    "start_time": "2023-12-01T16:07:49.611Z"
   },
   {
    "duration": 27,
    "start_time": "2023-12-01T16:08:46.505Z"
   },
   {
    "duration": 23,
    "start_time": "2023-12-01T16:09:03.291Z"
   },
   {
    "duration": 31,
    "start_time": "2023-12-01T16:09:19.950Z"
   },
   {
    "duration": 65,
    "start_time": "2023-12-01T16:10:08.474Z"
   },
   {
    "duration": 69,
    "start_time": "2023-12-01T16:11:26.237Z"
   },
   {
    "duration": 7,
    "start_time": "2023-12-01T16:11:46.950Z"
   },
   {
    "duration": 54,
    "start_time": "2023-12-01T16:11:52.668Z"
   },
   {
    "duration": 66,
    "start_time": "2023-12-01T16:13:16.272Z"
   },
   {
    "duration": 68,
    "start_time": "2023-12-01T16:13:20.233Z"
   },
   {
    "duration": 63,
    "start_time": "2023-12-01T16:13:42.583Z"
   },
   {
    "duration": 54,
    "start_time": "2023-12-01T16:13:52.772Z"
   },
   {
    "duration": 21,
    "start_time": "2023-12-01T16:17:13.794Z"
   },
   {
    "duration": 39,
    "start_time": "2023-12-01T16:17:33.252Z"
   },
   {
    "duration": 78,
    "start_time": "2023-12-01T16:20:09.046Z"
   },
   {
    "duration": 9,
    "start_time": "2023-12-01T16:20:20.801Z"
   },
   {
    "duration": 14,
    "start_time": "2023-12-01T16:21:19.123Z"
   },
   {
    "duration": 95,
    "start_time": "2023-12-01T16:22:20.277Z"
   },
   {
    "duration": 8,
    "start_time": "2023-12-01T16:23:10.900Z"
   },
   {
    "duration": 46,
    "start_time": "2023-12-01T16:24:49.643Z"
   },
   {
    "duration": 7,
    "start_time": "2023-12-01T16:26:46.404Z"
   },
   {
    "duration": 96,
    "start_time": "2023-12-01T16:40:08.384Z"
   },
   {
    "duration": 9,
    "start_time": "2023-12-01T16:41:00.294Z"
   },
   {
    "duration": 3,
    "start_time": "2023-12-01T16:42:18.213Z"
   },
   {
    "duration": 2,
    "start_time": "2023-12-01T16:42:34.945Z"
   },
   {
    "duration": 11,
    "start_time": "2023-12-01T16:43:13.422Z"
   },
   {
    "duration": 8,
    "start_time": "2023-12-01T16:45:31.734Z"
   },
   {
    "duration": 6,
    "start_time": "2023-12-01T16:46:07.855Z"
   },
   {
    "duration": 9,
    "start_time": "2023-12-01T16:46:42.053Z"
   },
   {
    "duration": 7,
    "start_time": "2023-12-01T16:46:49.403Z"
   },
   {
    "duration": 11,
    "start_time": "2023-12-01T16:48:12.340Z"
   },
   {
    "duration": 36,
    "start_time": "2023-12-01T16:49:52.957Z"
   },
   {
    "duration": 14,
    "start_time": "2023-12-01T16:50:12.251Z"
   },
   {
    "duration": 35,
    "start_time": "2023-12-01T16:50:23.752Z"
   },
   {
    "duration": 11,
    "start_time": "2023-12-01T16:50:48.707Z"
   },
   {
    "duration": 6,
    "start_time": "2023-12-01T16:51:17.637Z"
   },
   {
    "duration": 7,
    "start_time": "2023-12-01T16:52:23.480Z"
   },
   {
    "duration": 7,
    "start_time": "2023-12-01T16:52:48.667Z"
   },
   {
    "duration": 13,
    "start_time": "2023-12-01T16:53:46.078Z"
   },
   {
    "duration": 11,
    "start_time": "2023-12-01T16:53:53.182Z"
   },
   {
    "duration": 8,
    "start_time": "2023-12-01T16:54:35.920Z"
   },
   {
    "duration": 9,
    "start_time": "2023-12-01T16:54:46.927Z"
   },
   {
    "duration": 29,
    "start_time": "2023-12-01T16:55:43.833Z"
   },
   {
    "duration": 31,
    "start_time": "2023-12-01T16:56:07.148Z"
   },
   {
    "duration": 13,
    "start_time": "2023-12-01T16:56:27.257Z"
   },
   {
    "duration": 31,
    "start_time": "2023-12-01T16:56:36.003Z"
   },
   {
    "duration": 7,
    "start_time": "2023-12-01T17:02:29.641Z"
   },
   {
    "duration": 13,
    "start_time": "2023-12-01T17:04:42.551Z"
   },
   {
    "duration": 7,
    "start_time": "2023-12-01T17:06:14.481Z"
   },
   {
    "duration": 34,
    "start_time": "2023-12-01T17:06:34.297Z"
   },
   {
    "duration": 80,
    "start_time": "2023-12-01T17:07:20.235Z"
   },
   {
    "duration": 12,
    "start_time": "2023-12-01T17:07:23.208Z"
   },
   {
    "duration": 3,
    "start_time": "2023-12-01T17:31:03.019Z"
   },
   {
    "duration": 3,
    "start_time": "2023-12-01T17:31:05.755Z"
   },
   {
    "duration": 11,
    "start_time": "2023-12-01T17:32:25.103Z"
   },
   {
    "duration": 3,
    "start_time": "2023-12-01T17:32:32.654Z"
   },
   {
    "duration": 4,
    "start_time": "2023-12-01T17:34:31.794Z"
   },
   {
    "duration": 4,
    "start_time": "2023-12-01T17:35:33.171Z"
   },
   {
    "duration": 3,
    "start_time": "2023-12-01T17:48:34.543Z"
   },
   {
    "duration": 258,
    "start_time": "2023-12-01T17:50:21.318Z"
   },
   {
    "duration": 4,
    "start_time": "2023-12-01T17:52:22.733Z"
   },
   {
    "duration": 4,
    "start_time": "2023-12-01T17:54:05.984Z"
   },
   {
    "duration": 4,
    "start_time": "2023-12-01T17:58:54.988Z"
   },
   {
    "duration": 89,
    "start_time": "2023-12-01T17:59:34.239Z"
   },
   {
    "duration": 81,
    "start_time": "2023-12-01T17:59:42.682Z"
   },
   {
    "duration": 3,
    "start_time": "2023-12-01T18:01:04.213Z"
   },
   {
    "duration": 4,
    "start_time": "2023-12-01T18:05:37.514Z"
   },
   {
    "duration": 3,
    "start_time": "2023-12-01T18:06:51.765Z"
   },
   {
    "duration": 3,
    "start_time": "2023-12-01T18:11:13.606Z"
   },
   {
    "duration": 4,
    "start_time": "2023-12-01T18:12:30.669Z"
   },
   {
    "duration": 8,
    "start_time": "2023-12-01T18:13:05.053Z"
   },
   {
    "duration": 4,
    "start_time": "2023-12-01T18:13:11.770Z"
   },
   {
    "duration": 1248,
    "start_time": "2023-12-01T18:14:39.032Z"
   },
   {
    "duration": 3,
    "start_time": "2023-12-01T18:15:07.100Z"
   },
   {
    "duration": 5,
    "start_time": "2023-12-01T18:15:11.829Z"
   },
   {
    "duration": 1639,
    "start_time": "2023-12-01T18:15:14.932Z"
   },
   {
    "duration": 4,
    "start_time": "2023-12-01T18:16:45.441Z"
   },
   {
    "duration": 1344,
    "start_time": "2023-12-01T18:16:48.792Z"
   },
   {
    "duration": 4,
    "start_time": "2023-12-01T18:17:25.736Z"
   },
   {
    "duration": 1288,
    "start_time": "2023-12-01T18:17:28.511Z"
   },
   {
    "duration": 3,
    "start_time": "2023-12-01T18:18:21.626Z"
   },
   {
    "duration": 1195,
    "start_time": "2023-12-01T18:18:24.264Z"
   },
   {
    "duration": 4,
    "start_time": "2023-12-01T18:18:43.559Z"
   },
   {
    "duration": 4,
    "start_time": "2023-12-01T18:19:05.085Z"
   },
   {
    "duration": 3,
    "start_time": "2023-12-01T18:25:57.286Z"
   },
   {
    "duration": 4,
    "start_time": "2023-12-01T18:26:05.995Z"
   },
   {
    "duration": 3,
    "start_time": "2023-12-01T18:26:26.868Z"
   },
   {
    "duration": 1227,
    "start_time": "2023-12-01T18:26:47.246Z"
   },
   {
    "duration": 1322,
    "start_time": "2023-12-01T18:27:19.826Z"
   },
   {
    "duration": 1237,
    "start_time": "2023-12-01T18:29:08.857Z"
   },
   {
    "duration": 1142,
    "start_time": "2023-12-01T18:29:56.237Z"
   },
   {
    "duration": 4,
    "start_time": "2023-12-01T18:31:01.833Z"
   },
   {
    "duration": 1172,
    "start_time": "2023-12-01T18:31:05.062Z"
   },
   {
    "duration": 402,
    "start_time": "2023-12-01T18:31:34.765Z"
   },
   {
    "duration": 165,
    "start_time": "2023-12-01T18:31:35.168Z"
   },
   {
    "duration": 16,
    "start_time": "2023-12-01T18:31:35.334Z"
   },
   {
    "duration": 45,
    "start_time": "2023-12-01T18:31:35.352Z"
   },
   {
    "duration": 2,
    "start_time": "2023-12-01T18:31:35.398Z"
   },
   {
    "duration": 5,
    "start_time": "2023-12-01T18:31:35.402Z"
   },
   {
    "duration": 13,
    "start_time": "2023-12-01T18:31:35.408Z"
   },
   {
    "duration": 8,
    "start_time": "2023-12-01T18:31:35.422Z"
   },
   {
    "duration": 51,
    "start_time": "2023-12-01T18:31:35.431Z"
   },
   {
    "duration": 22,
    "start_time": "2023-12-01T18:31:35.485Z"
   },
   {
    "duration": 26,
    "start_time": "2023-12-01T18:31:35.508Z"
   },
   {
    "duration": 83,
    "start_time": "2023-12-01T18:31:35.536Z"
   },
   {
    "duration": 77,
    "start_time": "2023-12-01T18:31:35.621Z"
   },
   {
    "duration": 55,
    "start_time": "2023-12-01T18:31:35.699Z"
   },
   {
    "duration": 54,
    "start_time": "2023-12-01T18:31:35.755Z"
   },
   {
    "duration": 94,
    "start_time": "2023-12-01T18:31:35.811Z"
   },
   {
    "duration": 39,
    "start_time": "2023-12-01T18:31:35.907Z"
   },
   {
    "duration": 11,
    "start_time": "2023-12-01T18:31:35.947Z"
   },
   {
    "duration": 35,
    "start_time": "2023-12-01T18:31:35.960Z"
   },
   {
    "duration": 13,
    "start_time": "2023-12-01T18:31:35.997Z"
   },
   {
    "duration": 23,
    "start_time": "2023-12-01T18:31:36.012Z"
   },
   {
    "duration": 19,
    "start_time": "2023-12-01T18:31:36.036Z"
   },
   {
    "duration": 30,
    "start_time": "2023-12-01T18:31:36.057Z"
   },
   {
    "duration": 14,
    "start_time": "2023-12-01T18:31:36.088Z"
   },
   {
    "duration": 15,
    "start_time": "2023-12-01T18:31:36.104Z"
   },
   {
    "duration": 22,
    "start_time": "2023-12-01T18:31:36.122Z"
   },
   {
    "duration": 3,
    "start_time": "2023-12-01T18:31:36.145Z"
   },
   {
    "duration": 3,
    "start_time": "2023-12-01T18:31:36.182Z"
   },
   {
    "duration": 13,
    "start_time": "2023-12-01T18:31:36.186Z"
   },
   {
    "duration": 77,
    "start_time": "2023-12-01T18:31:36.201Z"
   },
   {
    "duration": 0,
    "start_time": "2023-12-01T18:31:36.280Z"
   },
   {
    "duration": 0,
    "start_time": "2023-12-01T18:31:36.281Z"
   },
   {
    "duration": 0,
    "start_time": "2023-12-01T18:31:36.282Z"
   },
   {
    "duration": 0,
    "start_time": "2023-12-01T18:31:36.283Z"
   },
   {
    "duration": 0,
    "start_time": "2023-12-01T18:31:36.284Z"
   },
   {
    "duration": 0,
    "start_time": "2023-12-01T18:31:36.285Z"
   },
   {
    "duration": 0,
    "start_time": "2023-12-01T18:31:36.286Z"
   },
   {
    "duration": 0,
    "start_time": "2023-12-01T18:31:36.287Z"
   },
   {
    "duration": 62,
    "start_time": "2023-12-01T18:41:54.541Z"
   },
   {
    "duration": 13,
    "start_time": "2023-12-01T18:44:50.877Z"
   },
   {
    "duration": 13,
    "start_time": "2023-12-01T18:45:00.757Z"
   },
   {
    "duration": 9,
    "start_time": "2023-12-01T18:45:46.504Z"
   },
   {
    "duration": 8,
    "start_time": "2023-12-01T18:47:03.546Z"
   },
   {
    "duration": 862,
    "start_time": "2023-12-01T18:51:34.313Z"
   },
   {
    "duration": 916,
    "start_time": "2023-12-01T18:51:44.583Z"
   },
   {
    "duration": 943,
    "start_time": "2023-12-01T18:54:30.722Z"
   },
   {
    "duration": 425,
    "start_time": "2023-12-01T18:54:38.153Z"
   },
   {
    "duration": 172,
    "start_time": "2023-12-01T18:54:38.579Z"
   },
   {
    "duration": 16,
    "start_time": "2023-12-01T18:54:38.752Z"
   },
   {
    "duration": 39,
    "start_time": "2023-12-01T18:54:38.770Z"
   },
   {
    "duration": 3,
    "start_time": "2023-12-01T18:54:38.811Z"
   },
   {
    "duration": 6,
    "start_time": "2023-12-01T18:54:38.815Z"
   },
   {
    "duration": 10,
    "start_time": "2023-12-01T18:54:38.822Z"
   },
   {
    "duration": 6,
    "start_time": "2023-12-01T18:54:38.833Z"
   },
   {
    "duration": 53,
    "start_time": "2023-12-01T18:54:38.841Z"
   },
   {
    "duration": 24,
    "start_time": "2023-12-01T18:54:38.896Z"
   },
   {
    "duration": 24,
    "start_time": "2023-12-01T18:54:38.921Z"
   },
   {
    "duration": 83,
    "start_time": "2023-12-01T18:54:38.946Z"
   },
   {
    "duration": 78,
    "start_time": "2023-12-01T18:54:39.030Z"
   },
   {
    "duration": 57,
    "start_time": "2023-12-01T18:54:39.110Z"
   },
   {
    "duration": 51,
    "start_time": "2023-12-01T18:54:39.168Z"
   },
   {
    "duration": 95,
    "start_time": "2023-12-01T18:54:39.220Z"
   },
   {
    "duration": 40,
    "start_time": "2023-12-01T18:54:39.316Z"
   },
   {
    "duration": 25,
    "start_time": "2023-12-01T18:54:39.358Z"
   },
   {
    "duration": 10,
    "start_time": "2023-12-01T18:54:39.384Z"
   },
   {
    "duration": 3,
    "start_time": "2023-12-01T18:54:39.396Z"
   },
   {
    "duration": 21,
    "start_time": "2023-12-01T18:54:39.400Z"
   },
   {
    "duration": 13,
    "start_time": "2023-12-01T18:54:39.422Z"
   },
   {
    "duration": 49,
    "start_time": "2023-12-01T18:54:39.437Z"
   },
   {
    "duration": 14,
    "start_time": "2023-12-01T18:54:39.487Z"
   },
   {
    "duration": 15,
    "start_time": "2023-12-01T18:54:39.502Z"
   },
   {
    "duration": 13,
    "start_time": "2023-12-01T18:54:39.518Z"
   },
   {
    "duration": 7,
    "start_time": "2023-12-01T18:54:39.533Z"
   },
   {
    "duration": 949,
    "start_time": "2023-12-01T18:54:39.581Z"
   },
   {
    "duration": 0,
    "start_time": "2023-12-01T18:54:40.532Z"
   },
   {
    "duration": 0,
    "start_time": "2023-12-01T18:54:40.533Z"
   },
   {
    "duration": 0,
    "start_time": "2023-12-01T18:54:40.534Z"
   },
   {
    "duration": 0,
    "start_time": "2023-12-01T18:54:40.535Z"
   },
   {
    "duration": 1,
    "start_time": "2023-12-01T18:54:40.536Z"
   },
   {
    "duration": 0,
    "start_time": "2023-12-01T18:54:40.537Z"
   },
   {
    "duration": 0,
    "start_time": "2023-12-01T18:54:40.538Z"
   },
   {
    "duration": 0,
    "start_time": "2023-12-01T18:54:40.539Z"
   },
   {
    "duration": 0,
    "start_time": "2023-12-01T18:54:40.540Z"
   },
   {
    "duration": 0,
    "start_time": "2023-12-01T18:54:40.542Z"
   },
   {
    "duration": 11,
    "start_time": "2023-12-01T18:56:47.144Z"
   },
   {
    "duration": 9,
    "start_time": "2023-12-01T18:56:56.588Z"
   },
   {
    "duration": 919,
    "start_time": "2023-12-01T18:58:35.026Z"
   },
   {
    "duration": 12,
    "start_time": "2023-12-01T18:58:39.936Z"
   },
   {
    "duration": 4,
    "start_time": "2023-12-01T19:10:58.402Z"
   },
   {
    "duration": 4,
    "start_time": "2023-12-01T19:12:58.812Z"
   },
   {
    "duration": 4,
    "start_time": "2023-12-01T19:15:08.271Z"
   },
   {
    "duration": 4,
    "start_time": "2023-12-01T19:15:31.570Z"
   },
   {
    "duration": 4,
    "start_time": "2023-12-01T19:19:06.067Z"
   },
   {
    "duration": 4,
    "start_time": "2023-12-01T19:23:35.143Z"
   },
   {
    "duration": 382,
    "start_time": "2023-12-01T19:23:48.493Z"
   },
   {
    "duration": 163,
    "start_time": "2023-12-01T19:23:48.877Z"
   },
   {
    "duration": 14,
    "start_time": "2023-12-01T19:23:49.042Z"
   },
   {
    "duration": 42,
    "start_time": "2023-12-01T19:23:49.058Z"
   },
   {
    "duration": 14,
    "start_time": "2023-12-01T19:23:49.101Z"
   },
   {
    "duration": 7,
    "start_time": "2023-12-01T19:23:49.117Z"
   },
   {
    "duration": 11,
    "start_time": "2023-12-01T19:23:49.125Z"
   },
   {
    "duration": 18,
    "start_time": "2023-12-01T19:23:49.137Z"
   },
   {
    "duration": 42,
    "start_time": "2023-12-01T19:23:49.156Z"
   },
   {
    "duration": 24,
    "start_time": "2023-12-01T19:23:49.200Z"
   },
   {
    "duration": 27,
    "start_time": "2023-12-01T19:23:49.225Z"
   },
   {
    "duration": 81,
    "start_time": "2023-12-01T19:23:49.254Z"
   },
   {
    "duration": 80,
    "start_time": "2023-12-01T19:23:49.337Z"
   },
   {
    "duration": 64,
    "start_time": "2023-12-01T19:23:49.418Z"
   },
   {
    "duration": 40,
    "start_time": "2023-12-01T19:23:49.483Z"
   },
   {
    "duration": 110,
    "start_time": "2023-12-01T19:23:49.524Z"
   },
   {
    "duration": 47,
    "start_time": "2023-12-01T19:23:49.635Z"
   },
   {
    "duration": 10,
    "start_time": "2023-12-01T19:23:49.683Z"
   },
   {
    "duration": 11,
    "start_time": "2023-12-01T19:23:49.694Z"
   },
   {
    "duration": 3,
    "start_time": "2023-12-01T19:23:49.706Z"
   },
   {
    "duration": 23,
    "start_time": "2023-12-01T19:23:49.711Z"
   },
   {
    "duration": 48,
    "start_time": "2023-12-01T19:23:49.735Z"
   },
   {
    "duration": 15,
    "start_time": "2023-12-01T19:23:49.785Z"
   },
   {
    "duration": 13,
    "start_time": "2023-12-01T19:23:49.802Z"
   },
   {
    "duration": 31,
    "start_time": "2023-12-01T19:23:49.817Z"
   },
   {
    "duration": 37,
    "start_time": "2023-12-01T19:23:49.850Z"
   },
   {
    "duration": 14,
    "start_time": "2023-12-01T19:23:49.889Z"
   },
   {
    "duration": 12,
    "start_time": "2023-12-01T19:23:49.907Z"
   },
   {
    "duration": 11,
    "start_time": "2023-12-01T19:23:49.921Z"
   },
   {
    "duration": 6,
    "start_time": "2023-12-01T19:23:49.933Z"
   },
   {
    "duration": 5,
    "start_time": "2023-12-01T19:23:49.940Z"
   },
   {
    "duration": 36,
    "start_time": "2023-12-01T19:23:49.946Z"
   },
   {
    "duration": 5,
    "start_time": "2023-12-01T19:23:49.983Z"
   },
   {
    "duration": 4,
    "start_time": "2023-12-01T19:23:49.989Z"
   },
   {
    "duration": 4,
    "start_time": "2023-12-01T19:23:49.994Z"
   },
   {
    "duration": 12,
    "start_time": "2023-12-01T19:23:49.999Z"
   },
   {
    "duration": 9,
    "start_time": "2023-12-01T19:23:50.013Z"
   },
   {
    "duration": 7,
    "start_time": "2023-12-01T19:23:50.023Z"
   },
   {
    "duration": 4,
    "start_time": "2023-12-01T19:24:26.913Z"
   },
   {
    "duration": 79,
    "start_time": "2023-12-01T19:26:13.767Z"
   },
   {
    "duration": 84,
    "start_time": "2023-12-01T19:26:53.698Z"
   },
   {
    "duration": 87,
    "start_time": "2023-12-01T19:27:07.830Z"
   },
   {
    "duration": 379,
    "start_time": "2023-12-01T19:27:15.213Z"
   },
   {
    "duration": 162,
    "start_time": "2023-12-01T19:27:15.594Z"
   },
   {
    "duration": 16,
    "start_time": "2023-12-01T19:27:15.757Z"
   },
   {
    "duration": 33,
    "start_time": "2023-12-01T19:27:15.783Z"
   },
   {
    "duration": 3,
    "start_time": "2023-12-01T19:27:15.818Z"
   },
   {
    "duration": 13,
    "start_time": "2023-12-01T19:27:15.822Z"
   },
   {
    "duration": 15,
    "start_time": "2023-12-01T19:27:15.836Z"
   },
   {
    "duration": 31,
    "start_time": "2023-12-01T19:27:15.853Z"
   },
   {
    "duration": 29,
    "start_time": "2023-12-01T19:27:15.886Z"
   },
   {
    "duration": 33,
    "start_time": "2023-12-01T19:27:15.917Z"
   },
   {
    "duration": 39,
    "start_time": "2023-12-01T19:27:15.952Z"
   },
   {
    "duration": 65,
    "start_time": "2023-12-01T19:27:15.992Z"
   },
   {
    "duration": 81,
    "start_time": "2023-12-01T19:27:16.058Z"
   },
   {
    "duration": 67,
    "start_time": "2023-12-01T19:27:16.140Z"
   },
   {
    "duration": 40,
    "start_time": "2023-12-01T19:27:16.209Z"
   },
   {
    "duration": 105,
    "start_time": "2023-12-01T19:27:16.251Z"
   },
   {
    "duration": 52,
    "start_time": "2023-12-01T19:27:16.358Z"
   },
   {
    "duration": 12,
    "start_time": "2023-12-01T19:27:16.412Z"
   },
   {
    "duration": 15,
    "start_time": "2023-12-01T19:27:16.426Z"
   },
   {
    "duration": 3,
    "start_time": "2023-12-01T19:27:16.443Z"
   },
   {
    "duration": 46,
    "start_time": "2023-12-01T19:27:16.448Z"
   },
   {
    "duration": 14,
    "start_time": "2023-12-01T19:27:16.495Z"
   },
   {
    "duration": 19,
    "start_time": "2023-12-01T19:27:16.510Z"
   },
   {
    "duration": 15,
    "start_time": "2023-12-01T19:27:16.530Z"
   },
   {
    "duration": 47,
    "start_time": "2023-12-01T19:27:16.547Z"
   },
   {
    "duration": 21,
    "start_time": "2023-12-01T19:27:16.595Z"
   },
   {
    "duration": 21,
    "start_time": "2023-12-01T19:27:16.617Z"
   },
   {
    "duration": 18,
    "start_time": "2023-12-01T19:27:16.641Z"
   },
   {
    "duration": 9,
    "start_time": "2023-12-01T19:27:16.660Z"
   },
   {
    "duration": 74,
    "start_time": "2023-12-01T19:27:16.670Z"
   },
   {
    "duration": 0,
    "start_time": "2023-12-01T19:27:16.746Z"
   },
   {
    "duration": 0,
    "start_time": "2023-12-01T19:27:16.747Z"
   },
   {
    "duration": 0,
    "start_time": "2023-12-01T19:27:16.748Z"
   },
   {
    "duration": 0,
    "start_time": "2023-12-01T19:27:16.749Z"
   },
   {
    "duration": 0,
    "start_time": "2023-12-01T19:27:16.750Z"
   },
   {
    "duration": 0,
    "start_time": "2023-12-01T19:27:16.751Z"
   },
   {
    "duration": 0,
    "start_time": "2023-12-01T19:27:16.751Z"
   },
   {
    "duration": 0,
    "start_time": "2023-12-01T19:27:16.752Z"
   },
   {
    "duration": 74,
    "start_time": "2023-12-01T19:28:04.838Z"
   },
   {
    "duration": 80,
    "start_time": "2023-12-01T19:29:57.004Z"
   },
   {
    "duration": 419,
    "start_time": "2023-12-01T19:30:07.673Z"
   },
   {
    "duration": 155,
    "start_time": "2023-12-01T19:30:08.094Z"
   },
   {
    "duration": 16,
    "start_time": "2023-12-01T19:30:08.250Z"
   },
   {
    "duration": 38,
    "start_time": "2023-12-01T19:30:08.267Z"
   },
   {
    "duration": 1,
    "start_time": "2023-12-01T19:30:08.307Z"
   },
   {
    "duration": 4,
    "start_time": "2023-12-01T19:30:08.310Z"
   },
   {
    "duration": 12,
    "start_time": "2023-12-01T19:30:08.316Z"
   },
   {
    "duration": 11,
    "start_time": "2023-12-01T19:30:08.330Z"
   },
   {
    "duration": 61,
    "start_time": "2023-12-01T19:30:08.343Z"
   },
   {
    "duration": 24,
    "start_time": "2023-12-01T19:30:08.408Z"
   },
   {
    "duration": 25,
    "start_time": "2023-12-01T19:30:08.434Z"
   },
   {
    "duration": 62,
    "start_time": "2023-12-01T19:30:08.481Z"
   },
   {
    "duration": 82,
    "start_time": "2023-12-01T19:30:08.544Z"
   },
   {
    "duration": 64,
    "start_time": "2023-12-01T19:30:08.628Z"
   },
   {
    "duration": 39,
    "start_time": "2023-12-01T19:30:08.694Z"
   },
   {
    "duration": 90,
    "start_time": "2023-12-01T19:30:08.734Z"
   },
   {
    "duration": 40,
    "start_time": "2023-12-01T19:30:08.826Z"
   },
   {
    "duration": 11,
    "start_time": "2023-12-01T19:30:08.881Z"
   },
   {
    "duration": 12,
    "start_time": "2023-12-01T19:30:08.894Z"
   },
   {
    "duration": 4,
    "start_time": "2023-12-01T19:30:08.908Z"
   },
   {
    "duration": 21,
    "start_time": "2023-12-01T19:30:08.914Z"
   },
   {
    "duration": 99,
    "start_time": "2023-12-01T19:30:08.936Z"
   },
   {
    "duration": 95,
    "start_time": "2023-12-01T19:30:09.037Z"
   },
   {
    "duration": 15,
    "start_time": "2023-12-01T19:30:09.134Z"
   },
   {
    "duration": 18,
    "start_time": "2023-12-01T19:30:09.151Z"
   },
   {
    "duration": 15,
    "start_time": "2023-12-01T19:30:09.171Z"
   },
   {
    "duration": 13,
    "start_time": "2023-12-01T19:30:09.188Z"
   },
   {
    "duration": 12,
    "start_time": "2023-12-01T19:30:09.205Z"
   },
   {
    "duration": 12,
    "start_time": "2023-12-01T19:30:09.218Z"
   },
   {
    "duration": 88,
    "start_time": "2023-12-01T19:30:09.231Z"
   },
   {
    "duration": 0,
    "start_time": "2023-12-01T19:30:09.320Z"
   },
   {
    "duration": 0,
    "start_time": "2023-12-01T19:30:09.322Z"
   },
   {
    "duration": 0,
    "start_time": "2023-12-01T19:30:09.323Z"
   },
   {
    "duration": 0,
    "start_time": "2023-12-01T19:30:09.324Z"
   },
   {
    "duration": 0,
    "start_time": "2023-12-01T19:30:09.326Z"
   },
   {
    "duration": 0,
    "start_time": "2023-12-01T19:30:09.327Z"
   },
   {
    "duration": 0,
    "start_time": "2023-12-01T19:30:09.328Z"
   },
   {
    "duration": 0,
    "start_time": "2023-12-01T19:30:09.330Z"
   },
   {
    "duration": 75,
    "start_time": "2023-12-01T19:31:04.481Z"
   },
   {
    "duration": 78,
    "start_time": "2023-12-01T19:32:41.076Z"
   },
   {
    "duration": 79,
    "start_time": "2023-12-01T19:33:07.405Z"
   },
   {
    "duration": 334,
    "start_time": "2023-12-01T19:33:27.836Z"
   },
   {
    "duration": 163,
    "start_time": "2023-12-01T19:33:28.171Z"
   },
   {
    "duration": 15,
    "start_time": "2023-12-01T19:33:28.335Z"
   },
   {
    "duration": 39,
    "start_time": "2023-12-01T19:33:28.351Z"
   },
   {
    "duration": 3,
    "start_time": "2023-12-01T19:33:28.391Z"
   },
   {
    "duration": 4,
    "start_time": "2023-12-01T19:33:28.396Z"
   },
   {
    "duration": 11,
    "start_time": "2023-12-01T19:33:28.402Z"
   },
   {
    "duration": 8,
    "start_time": "2023-12-01T19:33:28.414Z"
   },
   {
    "duration": 25,
    "start_time": "2023-12-01T19:33:28.423Z"
   },
   {
    "duration": 52,
    "start_time": "2023-12-01T19:33:28.450Z"
   },
   {
    "duration": 24,
    "start_time": "2023-12-01T19:33:28.504Z"
   },
   {
    "duration": 79,
    "start_time": "2023-12-01T19:33:28.529Z"
   },
   {
    "duration": 76,
    "start_time": "2023-12-01T19:33:28.609Z"
   },
   {
    "duration": 56,
    "start_time": "2023-12-01T19:33:28.686Z"
   },
   {
    "duration": 55,
    "start_time": "2023-12-01T19:33:28.743Z"
   },
   {
    "duration": 89,
    "start_time": "2023-12-01T19:33:28.800Z"
   },
   {
    "duration": 43,
    "start_time": "2023-12-01T19:33:28.890Z"
   },
   {
    "duration": 11,
    "start_time": "2023-12-01T19:33:28.935Z"
   },
   {
    "duration": 36,
    "start_time": "2023-12-01T19:33:28.947Z"
   },
   {
    "duration": 4,
    "start_time": "2023-12-01T19:33:28.984Z"
   },
   {
    "duration": 27,
    "start_time": "2023-12-01T19:33:28.990Z"
   },
   {
    "duration": 14,
    "start_time": "2023-12-01T19:33:29.018Z"
   },
   {
    "duration": 17,
    "start_time": "2023-12-01T19:33:29.034Z"
   },
   {
    "duration": 35,
    "start_time": "2023-12-01T19:33:29.053Z"
   },
   {
    "duration": 44,
    "start_time": "2023-12-01T19:33:29.090Z"
   },
   {
    "duration": 13,
    "start_time": "2023-12-01T19:33:29.136Z"
   },
   {
    "duration": 7,
    "start_time": "2023-12-01T19:33:29.150Z"
   },
   {
    "duration": 10,
    "start_time": "2023-12-01T19:33:29.160Z"
   },
   {
    "duration": 15,
    "start_time": "2023-12-01T19:33:29.171Z"
   },
   {
    "duration": 83,
    "start_time": "2023-12-01T19:33:29.187Z"
   },
   {
    "duration": 0,
    "start_time": "2023-12-01T19:33:29.271Z"
   },
   {
    "duration": 0,
    "start_time": "2023-12-01T19:33:29.272Z"
   },
   {
    "duration": 0,
    "start_time": "2023-12-01T19:33:29.273Z"
   },
   {
    "duration": 0,
    "start_time": "2023-12-01T19:33:29.274Z"
   },
   {
    "duration": 0,
    "start_time": "2023-12-01T19:33:29.275Z"
   },
   {
    "duration": 0,
    "start_time": "2023-12-01T19:33:29.276Z"
   },
   {
    "duration": 1,
    "start_time": "2023-12-01T19:33:29.276Z"
   },
   {
    "duration": 0,
    "start_time": "2023-12-01T19:33:29.277Z"
   },
   {
    "duration": 91,
    "start_time": "2023-12-01T19:39:30.798Z"
   },
   {
    "duration": 408,
    "start_time": "2023-12-01T19:39:46.653Z"
   },
   {
    "duration": 168,
    "start_time": "2023-12-01T19:39:47.063Z"
   },
   {
    "duration": 16,
    "start_time": "2023-12-01T19:39:47.233Z"
   },
   {
    "duration": 44,
    "start_time": "2023-12-01T19:39:47.251Z"
   },
   {
    "duration": 6,
    "start_time": "2023-12-01T19:39:47.296Z"
   },
   {
    "duration": 21,
    "start_time": "2023-12-01T19:39:47.304Z"
   },
   {
    "duration": 21,
    "start_time": "2023-12-01T19:39:47.326Z"
   },
   {
    "duration": 34,
    "start_time": "2023-12-01T19:39:47.348Z"
   },
   {
    "duration": 47,
    "start_time": "2023-12-01T19:39:47.384Z"
   },
   {
    "duration": 28,
    "start_time": "2023-12-01T19:39:47.433Z"
   },
   {
    "duration": 32,
    "start_time": "2023-12-01T19:39:47.462Z"
   },
   {
    "duration": 78,
    "start_time": "2023-12-01T19:39:47.496Z"
   },
   {
    "duration": 66,
    "start_time": "2023-12-01T19:39:47.575Z"
   },
   {
    "duration": 69,
    "start_time": "2023-12-01T19:39:47.642Z"
   },
   {
    "duration": 41,
    "start_time": "2023-12-01T19:39:47.713Z"
   },
   {
    "duration": 99,
    "start_time": "2023-12-01T19:39:47.756Z"
   },
   {
    "duration": 50,
    "start_time": "2023-12-01T19:39:47.857Z"
   },
   {
    "duration": 10,
    "start_time": "2023-12-01T19:39:47.909Z"
   },
   {
    "duration": 27,
    "start_time": "2023-12-01T19:39:47.921Z"
   },
   {
    "duration": 12,
    "start_time": "2023-12-01T19:39:47.949Z"
   },
   {
    "duration": 39,
    "start_time": "2023-12-01T19:39:47.962Z"
   },
   {
    "duration": 31,
    "start_time": "2023-12-01T19:39:48.003Z"
   },
   {
    "duration": 61,
    "start_time": "2023-12-01T19:39:48.035Z"
   },
   {
    "duration": 19,
    "start_time": "2023-12-01T19:39:48.097Z"
   },
   {
    "duration": 37,
    "start_time": "2023-12-01T19:39:48.118Z"
   },
   {
    "duration": 18,
    "start_time": "2023-12-01T19:39:48.156Z"
   },
   {
    "duration": 23,
    "start_time": "2023-12-01T19:39:48.175Z"
   },
   {
    "duration": 29,
    "start_time": "2023-12-01T19:39:48.201Z"
   },
   {
    "duration": 29,
    "start_time": "2023-12-01T19:39:48.232Z"
   },
   {
    "duration": 75,
    "start_time": "2023-12-01T19:39:48.262Z"
   },
   {
    "duration": 0,
    "start_time": "2023-12-01T19:39:48.339Z"
   },
   {
    "duration": 0,
    "start_time": "2023-12-01T19:39:48.340Z"
   },
   {
    "duration": 0,
    "start_time": "2023-12-01T19:39:48.341Z"
   },
   {
    "duration": 0,
    "start_time": "2023-12-01T19:39:48.342Z"
   },
   {
    "duration": 0,
    "start_time": "2023-12-01T19:39:48.343Z"
   },
   {
    "duration": 0,
    "start_time": "2023-12-01T19:39:48.343Z"
   },
   {
    "duration": 0,
    "start_time": "2023-12-01T19:39:48.344Z"
   },
   {
    "duration": 0,
    "start_time": "2023-12-01T19:39:48.345Z"
   },
   {
    "duration": 68,
    "start_time": "2023-12-01T19:39:51.335Z"
   },
   {
    "duration": 80,
    "start_time": "2023-12-01T19:43:00.772Z"
   },
   {
    "duration": 420,
    "start_time": "2023-12-01T19:43:22.546Z"
   },
   {
    "duration": 211,
    "start_time": "2023-12-01T19:43:22.968Z"
   },
   {
    "duration": 19,
    "start_time": "2023-12-01T19:43:23.181Z"
   },
   {
    "duration": 34,
    "start_time": "2023-12-01T19:43:23.202Z"
   },
   {
    "duration": 3,
    "start_time": "2023-12-01T19:43:23.237Z"
   },
   {
    "duration": 13,
    "start_time": "2023-12-01T19:43:23.241Z"
   },
   {
    "duration": 40,
    "start_time": "2023-12-01T19:43:23.255Z"
   },
   {
    "duration": 18,
    "start_time": "2023-12-01T19:43:23.297Z"
   },
   {
    "duration": 40,
    "start_time": "2023-12-01T19:43:23.316Z"
   },
   {
    "duration": 29,
    "start_time": "2023-12-01T19:43:23.358Z"
   },
   {
    "duration": 28,
    "start_time": "2023-12-01T19:43:23.389Z"
   },
   {
    "duration": 89,
    "start_time": "2023-12-01T19:43:23.418Z"
   },
   {
    "duration": 91,
    "start_time": "2023-12-01T19:43:23.509Z"
   },
   {
    "duration": 69,
    "start_time": "2023-12-01T19:43:23.602Z"
   },
   {
    "duration": 46,
    "start_time": "2023-12-01T19:43:23.681Z"
   },
   {
    "duration": 112,
    "start_time": "2023-12-01T19:43:23.729Z"
   },
   {
    "duration": 57,
    "start_time": "2023-12-01T19:43:23.843Z"
   },
   {
    "duration": 12,
    "start_time": "2023-12-01T19:43:23.902Z"
   },
   {
    "duration": 11,
    "start_time": "2023-12-01T19:43:23.916Z"
   },
   {
    "duration": 7,
    "start_time": "2023-12-01T19:43:23.928Z"
   },
   {
    "duration": 57,
    "start_time": "2023-12-01T19:43:23.936Z"
   },
   {
    "duration": 25,
    "start_time": "2023-12-01T19:43:23.995Z"
   },
   {
    "duration": 17,
    "start_time": "2023-12-01T19:43:24.022Z"
   },
   {
    "duration": 14,
    "start_time": "2023-12-01T19:43:24.040Z"
   },
   {
    "duration": 32,
    "start_time": "2023-12-01T19:43:24.056Z"
   },
   {
    "duration": 16,
    "start_time": "2023-12-01T19:43:24.090Z"
   },
   {
    "duration": 8,
    "start_time": "2023-12-01T19:43:24.108Z"
   },
   {
    "duration": 22,
    "start_time": "2023-12-01T19:43:24.118Z"
   },
   {
    "duration": 10,
    "start_time": "2023-12-01T19:43:24.142Z"
   },
   {
    "duration": 112,
    "start_time": "2023-12-01T19:43:24.153Z"
   },
   {
    "duration": 0,
    "start_time": "2023-12-01T19:43:24.266Z"
   },
   {
    "duration": 0,
    "start_time": "2023-12-01T19:43:24.267Z"
   },
   {
    "duration": 0,
    "start_time": "2023-12-01T19:43:24.268Z"
   },
   {
    "duration": 0,
    "start_time": "2023-12-01T19:43:24.269Z"
   },
   {
    "duration": 0,
    "start_time": "2023-12-01T19:43:24.270Z"
   },
   {
    "duration": 0,
    "start_time": "2023-12-01T19:43:24.271Z"
   },
   {
    "duration": 0,
    "start_time": "2023-12-01T19:43:24.272Z"
   },
   {
    "duration": 0,
    "start_time": "2023-12-01T19:43:24.273Z"
   },
   {
    "duration": 83,
    "start_time": "2023-12-01T19:43:46.823Z"
   },
   {
    "duration": 76,
    "start_time": "2023-12-01T19:44:00.173Z"
   },
   {
    "duration": 439,
    "start_time": "2023-12-01T19:44:05.562Z"
   },
   {
    "duration": 169,
    "start_time": "2023-12-01T19:44:06.003Z"
   },
   {
    "duration": 20,
    "start_time": "2023-12-01T19:44:06.174Z"
   },
   {
    "duration": 29,
    "start_time": "2023-12-01T19:44:06.196Z"
   },
   {
    "duration": 2,
    "start_time": "2023-12-01T19:44:06.227Z"
   },
   {
    "duration": 14,
    "start_time": "2023-12-01T19:44:06.230Z"
   },
   {
    "duration": 19,
    "start_time": "2023-12-01T19:44:06.245Z"
   },
   {
    "duration": 5,
    "start_time": "2023-12-01T19:44:06.282Z"
   },
   {
    "duration": 30,
    "start_time": "2023-12-01T19:44:06.288Z"
   },
   {
    "duration": 34,
    "start_time": "2023-12-01T19:44:06.320Z"
   },
   {
    "duration": 37,
    "start_time": "2023-12-01T19:44:06.355Z"
   },
   {
    "duration": 62,
    "start_time": "2023-12-01T19:44:06.393Z"
   },
   {
    "duration": 88,
    "start_time": "2023-12-01T19:44:06.457Z"
   },
   {
    "duration": 66,
    "start_time": "2023-12-01T19:44:06.546Z"
   },
   {
    "duration": 39,
    "start_time": "2023-12-01T19:44:06.614Z"
   },
   {
    "duration": 85,
    "start_time": "2023-12-01T19:44:06.654Z"
   },
   {
    "duration": 49,
    "start_time": "2023-12-01T19:44:06.741Z"
   },
   {
    "duration": 26,
    "start_time": "2023-12-01T19:44:06.791Z"
   },
   {
    "duration": 10,
    "start_time": "2023-12-01T19:44:06.819Z"
   },
   {
    "duration": 3,
    "start_time": "2023-12-01T19:44:06.830Z"
   },
   {
    "duration": 22,
    "start_time": "2023-12-01T19:44:06.835Z"
   },
   {
    "duration": 24,
    "start_time": "2023-12-01T19:44:06.858Z"
   },
   {
    "duration": 13,
    "start_time": "2023-12-01T19:44:06.884Z"
   },
   {
    "duration": 12,
    "start_time": "2023-12-01T19:44:06.899Z"
   },
   {
    "duration": 15,
    "start_time": "2023-12-01T19:44:06.912Z"
   },
   {
    "duration": 12,
    "start_time": "2023-12-01T19:44:06.928Z"
   },
   {
    "duration": 43,
    "start_time": "2023-12-01T19:44:06.941Z"
   },
   {
    "duration": 93,
    "start_time": "2023-12-01T19:44:06.987Z"
   },
   {
    "duration": 130,
    "start_time": "2023-12-01T19:44:07.081Z"
   },
   {
    "duration": 73,
    "start_time": "2023-12-01T19:44:07.212Z"
   },
   {
    "duration": 0,
    "start_time": "2023-12-01T19:44:07.286Z"
   },
   {
    "duration": 0,
    "start_time": "2023-12-01T19:44:07.287Z"
   },
   {
    "duration": 0,
    "start_time": "2023-12-01T19:44:07.288Z"
   },
   {
    "duration": 0,
    "start_time": "2023-12-01T19:44:07.289Z"
   },
   {
    "duration": 0,
    "start_time": "2023-12-01T19:44:07.290Z"
   },
   {
    "duration": 0,
    "start_time": "2023-12-01T19:44:07.291Z"
   },
   {
    "duration": 0,
    "start_time": "2023-12-01T19:44:07.293Z"
   },
   {
    "duration": 0,
    "start_time": "2023-12-01T19:44:07.293Z"
   },
   {
    "duration": 69,
    "start_time": "2023-12-01T19:44:59.193Z"
   },
   {
    "duration": 462,
    "start_time": "2023-12-01T19:45:23.484Z"
   },
   {
    "duration": 184,
    "start_time": "2023-12-01T19:45:23.949Z"
   },
   {
    "duration": 20,
    "start_time": "2023-12-01T19:45:24.134Z"
   },
   {
    "duration": 51,
    "start_time": "2023-12-01T19:45:24.156Z"
   },
   {
    "duration": 3,
    "start_time": "2023-12-01T19:45:24.209Z"
   },
   {
    "duration": 4,
    "start_time": "2023-12-01T19:45:24.214Z"
   },
   {
    "duration": 44,
    "start_time": "2023-12-01T19:45:24.220Z"
   },
   {
    "duration": 5,
    "start_time": "2023-12-01T19:45:24.266Z"
   },
   {
    "duration": 35,
    "start_time": "2023-12-01T19:45:24.272Z"
   },
   {
    "duration": 25,
    "start_time": "2023-12-01T19:45:24.311Z"
   },
   {
    "duration": 49,
    "start_time": "2023-12-01T19:45:24.338Z"
   },
   {
    "duration": 73,
    "start_time": "2023-12-01T19:45:24.388Z"
   },
   {
    "duration": 79,
    "start_time": "2023-12-01T19:45:24.462Z"
   },
   {
    "duration": 67,
    "start_time": "2023-12-01T19:45:24.542Z"
   },
   {
    "duration": 45,
    "start_time": "2023-12-01T19:45:24.611Z"
   },
   {
    "duration": 109,
    "start_time": "2023-12-01T19:45:24.658Z"
   },
   {
    "duration": 52,
    "start_time": "2023-12-01T19:45:24.769Z"
   },
   {
    "duration": 11,
    "start_time": "2023-12-01T19:45:24.822Z"
   },
   {
    "duration": 18,
    "start_time": "2023-12-01T19:45:24.835Z"
   },
   {
    "duration": 27,
    "start_time": "2023-12-01T19:45:24.855Z"
   },
   {
    "duration": 15,
    "start_time": "2023-12-01T19:45:24.884Z"
   },
   {
    "duration": 13,
    "start_time": "2023-12-01T19:45:24.901Z"
   },
   {
    "duration": 14,
    "start_time": "2023-12-01T19:45:24.915Z"
   },
   {
    "duration": 51,
    "start_time": "2023-12-01T19:45:24.931Z"
   },
   {
    "duration": 15,
    "start_time": "2023-12-01T19:45:24.984Z"
   },
   {
    "duration": 19,
    "start_time": "2023-12-01T19:45:25.001Z"
   },
   {
    "duration": 8,
    "start_time": "2023-12-01T19:45:25.021Z"
   },
   {
    "duration": 10,
    "start_time": "2023-12-01T19:45:25.032Z"
   },
   {
    "duration": 44,
    "start_time": "2023-12-01T19:45:25.044Z"
   },
   {
    "duration": 70,
    "start_time": "2023-12-01T19:45:25.090Z"
   },
   {
    "duration": 0,
    "start_time": "2023-12-01T19:45:25.161Z"
   },
   {
    "duration": 0,
    "start_time": "2023-12-01T19:45:25.163Z"
   },
   {
    "duration": 0,
    "start_time": "2023-12-01T19:45:25.164Z"
   },
   {
    "duration": 0,
    "start_time": "2023-12-01T19:45:25.165Z"
   },
   {
    "duration": 0,
    "start_time": "2023-12-01T19:45:25.166Z"
   },
   {
    "duration": 0,
    "start_time": "2023-12-01T19:45:25.167Z"
   },
   {
    "duration": 0,
    "start_time": "2023-12-01T19:45:25.168Z"
   },
   {
    "duration": 0,
    "start_time": "2023-12-01T19:45:25.169Z"
   },
   {
    "duration": 84,
    "start_time": "2023-12-01T19:45:35.376Z"
   },
   {
    "duration": 4,
    "start_time": "2023-12-01T19:46:04.520Z"
   },
   {
    "duration": 4,
    "start_time": "2023-12-01T19:47:07.966Z"
   },
   {
    "duration": 81,
    "start_time": "2023-12-01T19:58:42.291Z"
   },
   {
    "duration": 17,
    "start_time": "2023-12-01T19:59:33.988Z"
   },
   {
    "duration": 12,
    "start_time": "2023-12-01T20:00:01.119Z"
   },
   {
    "duration": 15,
    "start_time": "2023-12-01T20:00:38.223Z"
   },
   {
    "duration": 11,
    "start_time": "2023-12-01T20:00:46.336Z"
   },
   {
    "duration": 77,
    "start_time": "2023-12-01T20:08:47.873Z"
   },
   {
    "duration": 25,
    "start_time": "2023-12-01T20:09:16.621Z"
   },
   {
    "duration": 8,
    "start_time": "2023-12-01T20:09:48.795Z"
   },
   {
    "duration": 8,
    "start_time": "2023-12-01T20:10:10.889Z"
   },
   {
    "duration": 11,
    "start_time": "2023-12-01T20:10:21.371Z"
   },
   {
    "duration": 5,
    "start_time": "2023-12-01T20:10:58.488Z"
   },
   {
    "duration": 4,
    "start_time": "2023-12-01T20:11:03.926Z"
   },
   {
    "duration": 5,
    "start_time": "2023-12-01T20:12:29.991Z"
   },
   {
    "duration": 4,
    "start_time": "2023-12-01T20:12:55.627Z"
   }
  ],
  "colab": {
   "collapsed_sections": [
    "E0vqbgi9ay0H",
    "VUC88oWjTJw2"
   ],
   "provenance": []
  },
  "kernelspec": {
   "display_name": "Python 3 (ipykernel)",
   "language": "python",
   "name": "python3"
  },
  "language_info": {
   "codemirror_mode": {
    "name": "ipython",
    "version": 3
   },
   "file_extension": ".py",
   "mimetype": "text/x-python",
   "name": "python",
   "nbconvert_exporter": "python",
   "pygments_lexer": "ipython3",
   "version": "3.11.5"
  },
  "toc": {
   "base_numbering": 1,
   "nav_menu": {
    "height": "215px",
    "width": "403px"
   },
   "number_sections": true,
   "sideBar": true,
   "skip_h1_title": true,
   "title_cell": "Table of Contents",
   "title_sidebar": "Contents",
   "toc_cell": false,
   "toc_position": {
    "height": "calc(100% - 180px)",
    "left": "10px",
    "top": "150px",
    "width": "285.825px"
   },
   "toc_section_display": true,
   "toc_window_display": false
  }
 },
 "nbformat": 4,
 "nbformat_minor": 1
}
