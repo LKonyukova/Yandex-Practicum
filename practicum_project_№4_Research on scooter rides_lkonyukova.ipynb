{
 "cells": [
  {
   "cell_type": "markdown",
   "id": "13bc7f7a",
   "metadata": {
    "toc": true
   },
   "source": [
    "<h1>Содержание:<span class=\"tocSkip\"></span></h1>\n",
    "<div class=\"toc\"><ul class=\"toc-item\"><li><span><a href=\"#Шаг-1.-Загрузка-данных\" data-toc-modified-id=\"Шаг-1.-Загрузка-данных-1\"><span class=\"toc-item-num\">1&nbsp;&nbsp;</span>Шаг 1. Загрузка данных</a></span></li><li><span><a href=\"#Шаг-2.-Предобработка-данных\" data-toc-modified-id=\"Шаг-2.-Предобработка-данных-2\"><span class=\"toc-item-num\">2&nbsp;&nbsp;</span>Шаг 2. Предобработка данных</a></span><ul class=\"toc-item\"><li><span><a href=\"#Поработаем-с-типом-данных\" data-toc-modified-id=\"Поработаем-с-типом-данных-2.1\"><span class=\"toc-item-num\">2.1&nbsp;&nbsp;</span>Поработаем с типом данных</a></span></li><li><span><a href=\"#Изучим-уникальные-значения-в-столбцах-и-устраним-дубликаты\" data-toc-modified-id=\"Изучим-уникальные-значения-в-столбцах-и-устраним-дубликаты-2.2\"><span class=\"toc-item-num\">2.2&nbsp;&nbsp;</span>Изучим уникальные значения в столбцах и устраним дубликаты</a></span></li><li><span><a href=\"#Добавим-в-таблицу-новые-столбцы\" data-toc-modified-id=\"Добавим-в-таблицу-новые-столбцы-2.3\"><span class=\"toc-item-num\">2.3&nbsp;&nbsp;</span>Добавим в таблицу новые столбцы</a></span></li></ul></li><li><span><a href=\"#Шаг-3.-Исследовательский-анализ-данных\" data-toc-modified-id=\"Шаг-3.-Исследовательский-анализ-данных-3\"><span class=\"toc-item-num\">3&nbsp;&nbsp;</span>Шаг 3. Исследовательский анализ данных</a></span><ul class=\"toc-item\"><li><span><a href=\"#Частота-встречаемости-городов\" data-toc-modified-id=\"Частота-встречаемости-городов-3.1\"><span class=\"toc-item-num\">3.1&nbsp;&nbsp;</span>Частота встречаемости городов</a></span></li><li><span><a href=\"#Соотношение-пользователей-с-подпиской-и-без-подписки\" data-toc-modified-id=\"Соотношение-пользователей-с-подпиской-и-без-подписки-3.2\"><span class=\"toc-item-num\">3.2&nbsp;&nbsp;</span>Соотношение пользователей с подпиской и без подписки</a></span></li><li><span><a href=\"#Возраст-пользователей\" data-toc-modified-id=\"Возраст-пользователей-3.3\"><span class=\"toc-item-num\">3.3&nbsp;&nbsp;</span>Возраст пользователей</a></span></li><li><span><a href=\"#Расстояние,-которое-пользователь-преодолел-за-одну-поездку\" data-toc-modified-id=\"Расстояние,-которое-пользователь-преодолел-за-одну-поездку-3.4\"><span class=\"toc-item-num\">3.4&nbsp;&nbsp;</span>Расстояние, которое пользователь преодолел за одну поездку</a></span></li><li><span><a href=\"#Продолжительность-поездок\" data-toc-modified-id=\"Продолжительность-поездок-3.5\"><span class=\"toc-item-num\">3.5&nbsp;&nbsp;</span>Продолжительность поездок</a></span></li></ul></li><li><span><a href=\"#Шаг-4.-Объединение-данных\" data-toc-modified-id=\"Шаг-4.-Объединение-данных-4\"><span class=\"toc-item-num\">4&nbsp;&nbsp;</span>Шаг 4. Объединение данных</a></span><ul class=\"toc-item\"><li><span><a href=\"#Объединим-данные-о-пользователях,-поездках-и-подписках-в-один-датафрейм\" data-toc-modified-id=\"Объединим-данные-о-пользователях,-поездках-и-подписках-в-один-датафрейм-4.1\"><span class=\"toc-item-num\">4.1&nbsp;&nbsp;</span>Объединим данные о пользователях, поездках и подписках в один датафрейм</a></span></li><li><span><a href=\"#Создадим-ещё-два-датафрейма-из-датафрейма-data\" data-toc-modified-id=\"Создадим-ещё-два-датафрейма-из-датафрейма-data-4.2\"><span class=\"toc-item-num\">4.2&nbsp;&nbsp;</span>Создадим ещё два датафрейма из датафрейма <code>data</code></a></span></li><li><span><a href=\"#Визуализируем-информацию-о-расстоянии-и-времени-поездок-для-пользователей-обеих-категорий\" data-toc-modified-id=\"Визуализируем-информацию-о-расстоянии-и-времени-поездок-для-пользователей-обеих-категорий-4.3\"><span class=\"toc-item-num\">4.3&nbsp;&nbsp;</span>Визуализируем информацию о расстоянии и времени поездок для пользователей обеих категорий</a></span></li></ul></li><li><span><a href=\"#Шаг-5.-Подсчёт-выручки\" data-toc-modified-id=\"Шаг-5.-Подсчёт-выручки-5\"><span class=\"toc-item-num\">5&nbsp;&nbsp;</span>Шаг 5. Подсчёт выручки</a></span><ul class=\"toc-item\"><li><span><a href=\"#Создадим-датафрейм-с-агрегированными-данными-о-поездках\" data-toc-modified-id=\"Создадим-датафрейм-с-агрегированными-данными-о-поездках-5.1\"><span class=\"toc-item-num\">5.1&nbsp;&nbsp;</span>Создадим датафрейм с агрегированными данными о поездках</a></span></li><li><span><a href=\"#В-этот-же-датафрейм-добавим-столбец-с-помесячной-выручкой,-которую-принёс-каждый-пользователь\" data-toc-modified-id=\"В-этот-же-датафрейм-добавим-столбец-с-помесячной-выручкой,-которую-принёс-каждый-пользователь-5.2\"><span class=\"toc-item-num\">5.2&nbsp;&nbsp;</span>В этот же датафрейм добавим столбец с помесячной выручкой, которую принёс каждый пользователь</a></span></li></ul></li><li><span><a href=\"#Шаг-6.-Проверка-гипотез\" data-toc-modified-id=\"Шаг-6.-Проверка-гипотез-6\"><span class=\"toc-item-num\">6&nbsp;&nbsp;</span>Шаг 6. Проверка гипотез</a></span><ul class=\"toc-item\"><li><span><a href=\"#Тратят-ли-пользователи-с-подпиской-больше-времени-на-поездки?\" data-toc-modified-id=\"Тратят-ли-пользователи-с-подпиской-больше-времени-на-поездки?-6.1\"><span class=\"toc-item-num\">6.1&nbsp;&nbsp;</span>Тратят ли пользователи с подпиской больше времени на поездки?</a></span></li><li><span><a href=\"#Можно-ли-сказать,-что-среднее-расстояние,-которое-проезжают-пользователи-с-подпиской-за-одну-поездку,-не-превышает-3130-метров-(оптимальное-расстояние-одной-поездки-с-точки-зрения-износа-самоката)?\" data-toc-modified-id=\"Можно-ли-сказать,-что-среднее-расстояние,-которое-проезжают-пользователи-с-подпиской-за-одну-поездку,-не-превышает-3130-метров-(оптимальное-расстояние-одной-поездки-с-точки-зрения-износа-самоката)?-6.2\"><span class=\"toc-item-num\">6.2&nbsp;&nbsp;</span>Можно ли сказать, что среднее расстояние, которое проезжают пользователи с подпиской за одну поездку, не превышает 3130 метров (оптимальное расстояние одной поездки с точки зрения износа самоката)?</a></span></li><li><span><a href=\"#Будет-ли-помесячная-выручка-от-пользователей-с-подпиской-по-месяцам-выше,-чем-выручка-от-пользователей-без-подписки?\" data-toc-modified-id=\"Будет-ли-помесячная-выручка-от-пользователей-с-подпиской-по-месяцам-выше,-чем-выручка-от-пользователей-без-подписки?-6.3\"><span class=\"toc-item-num\">6.3&nbsp;&nbsp;</span>Будет ли помесячная выручка от пользователей с подпиской по месяцам выше, чем выручка от пользователей без подписки?</a></span></li><li><span><a href=\"#Кейс\" data-toc-modified-id=\"Кейс-6.4\"><span class=\"toc-item-num\">6.4&nbsp;&nbsp;</span>Кейс</a></span></li></ul></li><li><span><a href=\"#Общий-вывод\" data-toc-modified-id=\"Общий-вывод-7\"><span class=\"toc-item-num\">7&nbsp;&nbsp;</span>Общий вывод</a></span></li></ul></div>"
   ]
  },
  {
   "cell_type": "markdown",
   "id": "7d39177e",
   "metadata": {},
   "source": [
    "# Исследование о поездках на самокатах"
   ]
  },
  {
   "cell_type": "markdown",
   "id": "691368be",
   "metadata": {},
   "source": [
    "В нашем распоряжении данные сервиса GoFast — архив данных о некоторых пользователях из нескольких городов (Тюмень, Омск, Москва, Ростов-на-Дону, Краснодар, Пятигорск, Екатеринбург, Сочи), а также об их поездках. Нам нужно проанализировать данные и проверить некоторые гипотезы, которые могут помочь бизнесу вырасти.\n",
    "\n",
    "Чтобы совершать поездки по городу, пользователи сервиса GoFast пользуются мобильным приложением. Сервисом можно пользоваться:\n",
    "\n",
    "Без подписки:\n",
    "- абонентская плата отсутствует;\n",
    "- стоимость одной минуты поездки — 8 рублей;\n",
    "- стоимость старта (начала поездки) — 50 рублей;\n",
    "\n",
    "С подпиской Ultra:\n",
    "- абонентская плата — 199 рублей в месяц;\n",
    "- стоимость одной минуты поездки — 6 рублей;\n",
    "- стоимость старта — бесплатно."
   ]
  },
  {
   "cell_type": "markdown",
   "id": "c42cbe00",
   "metadata": {},
   "source": [
    "### Шаг 1. Загрузка данных"
   ]
  },
  {
   "cell_type": "code",
   "execution_count": 1,
   "id": "72576667",
   "metadata": {},
   "outputs": [],
   "source": [
    "# импортируем библиотеку pandas\n",
    "import pandas as pd\n",
    "# импортируем библиотеку matplotlib\n",
    "import matplotlib.pyplot as plt\n",
    "# импортируем библиотеку seaborn\n",
    "import seaborn as sns\n",
    "# импортируем библиотеку numpy\n",
    "import numpy as np\n",
    "# импортируем библиотеку scipy\n",
    "import scipy.stats as st"
   ]
  },
  {
   "cell_type": "markdown",
   "id": "8ceaad9f",
   "metadata": {},
   "source": [
    "Прочитаем csv-файл."
   ]
  },
  {
   "cell_type": "code",
   "execution_count": 2,
   "id": "13a628f4",
   "metadata": {},
   "outputs": [],
   "source": [
    "try:\n",
    "    subscriptions = pd.read_csv('C:\\\\Users\\\\lyubo\\\\Downloads\\\\Практикум\\\\Спринт_4\\\\Датасеты\\\\subscriptions_go.csv', sep=',')\n",
    "except:\n",
    "    subscriptions = pd.read_csv('/datasets/subscriptions_go.csv', sep=',')\n",
    "    \n",
    "try:\n",
    "    rides = pd.read_csv('C:\\\\Users\\\\lyubo\\\\Downloads\\\\Практикум\\\\Спринт_4\\\\Датасеты\\\\rides_go.csv', sep=',')\n",
    "except:\n",
    "    rides = pd.read_csv('/datasets/rides_go.csv', sep=',')\n",
    "    \n",
    "try:\n",
    "    users = pd.read_csv('C:\\\\Users\\\\lyubo\\\\Downloads\\\\Практикум\\\\Спринт_4\\\\Датасеты\\\\users_go.csv', sep=',')\n",
    "except:\n",
    "    users = pd.read_csv('/datasets/users_go.csv', sep=',')"
   ]
  },
  {
   "cell_type": "markdown",
   "id": "2905fb59",
   "metadata": {},
   "source": [
    "Посмотрим на датафрейм с подписками."
   ]
  },
  {
   "cell_type": "code",
   "execution_count": 3,
   "id": "de2a49fb",
   "metadata": {
    "scrolled": true
   },
   "outputs": [
    {
     "data": {
      "text/html": [
       "<div>\n",
       "<style scoped>\n",
       "    .dataframe tbody tr th:only-of-type {\n",
       "        vertical-align: middle;\n",
       "    }\n",
       "\n",
       "    .dataframe tbody tr th {\n",
       "        vertical-align: top;\n",
       "    }\n",
       "\n",
       "    .dataframe thead th {\n",
       "        text-align: right;\n",
       "    }\n",
       "</style>\n",
       "<table border=\"1\" class=\"dataframe\">\n",
       "  <thead>\n",
       "    <tr style=\"text-align: right;\">\n",
       "      <th></th>\n",
       "      <th>subscription_type</th>\n",
       "      <th>minute_price</th>\n",
       "      <th>start_ride_price</th>\n",
       "      <th>subscription_fee</th>\n",
       "    </tr>\n",
       "  </thead>\n",
       "  <tbody>\n",
       "    <tr>\n",
       "      <th>0</th>\n",
       "      <td>free</td>\n",
       "      <td>8</td>\n",
       "      <td>50</td>\n",
       "      <td>0</td>\n",
       "    </tr>\n",
       "    <tr>\n",
       "      <th>1</th>\n",
       "      <td>ultra</td>\n",
       "      <td>6</td>\n",
       "      <td>0</td>\n",
       "      <td>199</td>\n",
       "    </tr>\n",
       "  </tbody>\n",
       "</table>\n",
       "</div>"
      ],
      "text/plain": [
       "  subscription_type  minute_price  start_ride_price  subscription_fee\n",
       "0              free             8                50                 0\n",
       "1             ultra             6                 0               199"
      ]
     },
     "execution_count": 3,
     "metadata": {},
     "output_type": "execute_result"
    }
   ],
   "source": [
    "subscriptions.head()"
   ]
  },
  {
   "cell_type": "markdown",
   "id": "ee1e7998",
   "metadata": {},
   "source": [
    "По этой таблице мы можем посмотреть условия двух тарифов - `free` и `ultra`. А именно:\n",
    "\n",
    "* `subscription_type` —\tтип подписки\n",
    "* `minute_price` —\tстоимость одной минуты поездки по данной подписке\n",
    "* `start_ride_price` — стоимость начала поездки\n",
    "* `subscription_fee` —\tстоимость ежемесячного платежа"
   ]
  },
  {
   "cell_type": "markdown",
   "id": "7bcabe82",
   "metadata": {},
   "source": [
    "Теперь посмотрим на датафрейм с поездками."
   ]
  },
  {
   "cell_type": "code",
   "execution_count": 4,
   "id": "9436db42",
   "metadata": {
    "scrolled": true
   },
   "outputs": [
    {
     "data": {
      "text/html": [
       "<div>\n",
       "<style scoped>\n",
       "    .dataframe tbody tr th:only-of-type {\n",
       "        vertical-align: middle;\n",
       "    }\n",
       "\n",
       "    .dataframe tbody tr th {\n",
       "        vertical-align: top;\n",
       "    }\n",
       "\n",
       "    .dataframe thead th {\n",
       "        text-align: right;\n",
       "    }\n",
       "</style>\n",
       "<table border=\"1\" class=\"dataframe\">\n",
       "  <thead>\n",
       "    <tr style=\"text-align: right;\">\n",
       "      <th></th>\n",
       "      <th>user_id</th>\n",
       "      <th>distance</th>\n",
       "      <th>duration</th>\n",
       "      <th>date</th>\n",
       "    </tr>\n",
       "  </thead>\n",
       "  <tbody>\n",
       "    <tr>\n",
       "      <th>0</th>\n",
       "      <td>1</td>\n",
       "      <td>4409.919140</td>\n",
       "      <td>25.599769</td>\n",
       "      <td>2021-01-01</td>\n",
       "    </tr>\n",
       "    <tr>\n",
       "      <th>1</th>\n",
       "      <td>1</td>\n",
       "      <td>2617.592153</td>\n",
       "      <td>15.816871</td>\n",
       "      <td>2021-01-18</td>\n",
       "    </tr>\n",
       "    <tr>\n",
       "      <th>2</th>\n",
       "      <td>1</td>\n",
       "      <td>754.159807</td>\n",
       "      <td>6.232113</td>\n",
       "      <td>2021-04-20</td>\n",
       "    </tr>\n",
       "    <tr>\n",
       "      <th>3</th>\n",
       "      <td>1</td>\n",
       "      <td>2694.783254</td>\n",
       "      <td>18.511000</td>\n",
       "      <td>2021-08-11</td>\n",
       "    </tr>\n",
       "    <tr>\n",
       "      <th>4</th>\n",
       "      <td>1</td>\n",
       "      <td>4028.687306</td>\n",
       "      <td>26.265803</td>\n",
       "      <td>2021-08-28</td>\n",
       "    </tr>\n",
       "    <tr>\n",
       "      <th>5</th>\n",
       "      <td>1</td>\n",
       "      <td>2770.890808</td>\n",
       "      <td>16.650138</td>\n",
       "      <td>2021-10-09</td>\n",
       "    </tr>\n",
       "    <tr>\n",
       "      <th>6</th>\n",
       "      <td>1</td>\n",
       "      <td>3039.020292</td>\n",
       "      <td>14.927879</td>\n",
       "      <td>2021-10-19</td>\n",
       "    </tr>\n",
       "    <tr>\n",
       "      <th>7</th>\n",
       "      <td>1</td>\n",
       "      <td>2842.118050</td>\n",
       "      <td>23.117468</td>\n",
       "      <td>2021-11-06</td>\n",
       "    </tr>\n",
       "    <tr>\n",
       "      <th>8</th>\n",
       "      <td>1</td>\n",
       "      <td>3412.690668</td>\n",
       "      <td>15.238072</td>\n",
       "      <td>2021-11-14</td>\n",
       "    </tr>\n",
       "    <tr>\n",
       "      <th>9</th>\n",
       "      <td>1</td>\n",
       "      <td>748.690645</td>\n",
       "      <td>15.041884</td>\n",
       "      <td>2021-11-22</td>\n",
       "    </tr>\n",
       "  </tbody>\n",
       "</table>\n",
       "</div>"
      ],
      "text/plain": [
       "   user_id     distance   duration        date\n",
       "0        1  4409.919140  25.599769  2021-01-01\n",
       "1        1  2617.592153  15.816871  2021-01-18\n",
       "2        1   754.159807   6.232113  2021-04-20\n",
       "3        1  2694.783254  18.511000  2021-08-11\n",
       "4        1  4028.687306  26.265803  2021-08-28\n",
       "5        1  2770.890808  16.650138  2021-10-09\n",
       "6        1  3039.020292  14.927879  2021-10-19\n",
       "7        1  2842.118050  23.117468  2021-11-06\n",
       "8        1  3412.690668  15.238072  2021-11-14\n",
       "9        1   748.690645  15.041884  2021-11-22"
      ]
     },
     "execution_count": 4,
     "metadata": {},
     "output_type": "execute_result"
    }
   ],
   "source": [
    "rides.head(10)"
   ]
  },
  {
   "cell_type": "markdown",
   "id": "17feaffc",
   "metadata": {},
   "source": [
    "Эта таблица нам рассказывает о том какими были поездки.\n",
    "\n",
    "* `user_id` —\tуникальный идентификатор пользователя\n",
    "* `distance` —\tрасстояние, которое пользователь проехал в текущей сессии (в метрах)\n",
    "* `duration` —\tпродолжительность сессии (в минутах) — время с того момента, как пользователь нажал кнопку «Начать поездку» до момента, как он нажал кнопку «Завершить поездку»\n",
    "* `date` —\tдата совершения поездки"
   ]
  },
  {
   "cell_type": "markdown",
   "id": "2c3a3a08",
   "metadata": {},
   "source": [
    "И осталось ознакомиться с датафреймом с пользователями."
   ]
  },
  {
   "cell_type": "code",
   "execution_count": 5,
   "id": "c791ff87",
   "metadata": {
    "scrolled": true
   },
   "outputs": [
    {
     "data": {
      "text/html": [
       "<div>\n",
       "<style scoped>\n",
       "    .dataframe tbody tr th:only-of-type {\n",
       "        vertical-align: middle;\n",
       "    }\n",
       "\n",
       "    .dataframe tbody tr th {\n",
       "        vertical-align: top;\n",
       "    }\n",
       "\n",
       "    .dataframe thead th {\n",
       "        text-align: right;\n",
       "    }\n",
       "</style>\n",
       "<table border=\"1\" class=\"dataframe\">\n",
       "  <thead>\n",
       "    <tr style=\"text-align: right;\">\n",
       "      <th></th>\n",
       "      <th>user_id</th>\n",
       "      <th>name</th>\n",
       "      <th>age</th>\n",
       "      <th>city</th>\n",
       "      <th>subscription_type</th>\n",
       "    </tr>\n",
       "  </thead>\n",
       "  <tbody>\n",
       "    <tr>\n",
       "      <th>0</th>\n",
       "      <td>1</td>\n",
       "      <td>Кира</td>\n",
       "      <td>22</td>\n",
       "      <td>Тюмень</td>\n",
       "      <td>ultra</td>\n",
       "    </tr>\n",
       "    <tr>\n",
       "      <th>1</th>\n",
       "      <td>2</td>\n",
       "      <td>Станислав</td>\n",
       "      <td>31</td>\n",
       "      <td>Омск</td>\n",
       "      <td>ultra</td>\n",
       "    </tr>\n",
       "    <tr>\n",
       "      <th>2</th>\n",
       "      <td>3</td>\n",
       "      <td>Алексей</td>\n",
       "      <td>20</td>\n",
       "      <td>Москва</td>\n",
       "      <td>ultra</td>\n",
       "    </tr>\n",
       "    <tr>\n",
       "      <th>3</th>\n",
       "      <td>4</td>\n",
       "      <td>Константин</td>\n",
       "      <td>26</td>\n",
       "      <td>Ростов-на-Дону</td>\n",
       "      <td>ultra</td>\n",
       "    </tr>\n",
       "    <tr>\n",
       "      <th>4</th>\n",
       "      <td>5</td>\n",
       "      <td>Адель</td>\n",
       "      <td>28</td>\n",
       "      <td>Омск</td>\n",
       "      <td>ultra</td>\n",
       "    </tr>\n",
       "    <tr>\n",
       "      <th>5</th>\n",
       "      <td>6</td>\n",
       "      <td>Регина</td>\n",
       "      <td>25</td>\n",
       "      <td>Краснодар</td>\n",
       "      <td>ultra</td>\n",
       "    </tr>\n",
       "    <tr>\n",
       "      <th>6</th>\n",
       "      <td>7</td>\n",
       "      <td>Игорь</td>\n",
       "      <td>23</td>\n",
       "      <td>Омск</td>\n",
       "      <td>ultra</td>\n",
       "    </tr>\n",
       "    <tr>\n",
       "      <th>7</th>\n",
       "      <td>8</td>\n",
       "      <td>Юрий</td>\n",
       "      <td>23</td>\n",
       "      <td>Краснодар</td>\n",
       "      <td>ultra</td>\n",
       "    </tr>\n",
       "    <tr>\n",
       "      <th>8</th>\n",
       "      <td>9</td>\n",
       "      <td>Ян</td>\n",
       "      <td>21</td>\n",
       "      <td>Пятигорск</td>\n",
       "      <td>ultra</td>\n",
       "    </tr>\n",
       "    <tr>\n",
       "      <th>9</th>\n",
       "      <td>10</td>\n",
       "      <td>Валерий</td>\n",
       "      <td>18</td>\n",
       "      <td>Екатеринбург</td>\n",
       "      <td>ultra</td>\n",
       "    </tr>\n",
       "  </tbody>\n",
       "</table>\n",
       "</div>"
      ],
      "text/plain": [
       "   user_id        name  age            city subscription_type\n",
       "0        1        Кира   22          Тюмень             ultra\n",
       "1        2   Станислав   31            Омск             ultra\n",
       "2        3     Алексей   20          Москва             ultra\n",
       "3        4  Константин   26  Ростов-на-Дону             ultra\n",
       "4        5       Адель   28            Омск             ultra\n",
       "5        6      Регина   25       Краснодар             ultra\n",
       "6        7       Игорь   23            Омск             ultra\n",
       "7        8        Юрий   23       Краснодар             ultra\n",
       "8        9          Ян   21       Пятигорск             ultra\n",
       "9       10     Валерий   18    Екатеринбург             ultra"
      ]
     },
     "execution_count": 5,
     "metadata": {},
     "output_type": "execute_result"
    }
   ],
   "source": [
    "users.head(10)"
   ]
  },
  {
   "cell_type": "markdown",
   "id": "cc2c952c",
   "metadata": {},
   "source": [
    "Из него мы видим основные характеристики пользователей:\n",
    "\n",
    "* `user_id` —\tуникальный идентификатор пользователя\n",
    "* `name` —\tимя пользователя\n",
    "* `age` —\tвозраст\n",
    "* `city` — город\n",
    "* `subscription_type` —\tтип подписки (free, ultra)"
   ]
  },
  {
   "cell_type": "markdown",
   "id": "0fb44d9e",
   "metadata": {},
   "source": [
    "Посмотрим на общую информацию о датафреймах."
   ]
  },
  {
   "cell_type": "code",
   "execution_count": 6,
   "id": "67aec891",
   "metadata": {
    "scrolled": true
   },
   "outputs": [
    {
     "name": "stdout",
     "output_type": "stream",
     "text": [
      "<class 'pandas.core.frame.DataFrame'>\n",
      "RangeIndex: 2 entries, 0 to 1\n",
      "Data columns (total 4 columns):\n",
      " #   Column             Non-Null Count  Dtype \n",
      "---  ------             --------------  ----- \n",
      " 0   subscription_type  2 non-null      object\n",
      " 1   minute_price       2 non-null      int64 \n",
      " 2   start_ride_price   2 non-null      int64 \n",
      " 3   subscription_fee   2 non-null      int64 \n",
      "dtypes: int64(3), object(1)\n",
      "memory usage: 196.0+ bytes\n"
     ]
    }
   ],
   "source": [
    "subscriptions.info()"
   ]
  },
  {
   "cell_type": "markdown",
   "id": "c71ba764",
   "metadata": {},
   "source": [
    "На первый взгляд с данными всё в порядке. "
   ]
  },
  {
   "cell_type": "code",
   "execution_count": 7,
   "id": "dec1e38e",
   "metadata": {},
   "outputs": [
    {
     "name": "stdout",
     "output_type": "stream",
     "text": [
      "<class 'pandas.core.frame.DataFrame'>\n",
      "RangeIndex: 18068 entries, 0 to 18067\n",
      "Data columns (total 4 columns):\n",
      " #   Column    Non-Null Count  Dtype  \n",
      "---  ------    --------------  -----  \n",
      " 0   user_id   18068 non-null  int64  \n",
      " 1   distance  18068 non-null  float64\n",
      " 2   duration  18068 non-null  float64\n",
      " 3   date      18068 non-null  object \n",
      "dtypes: float64(2), int64(1), object(1)\n",
      "memory usage: 564.8+ KB\n"
     ]
    }
   ],
   "source": [
    "rides.info()"
   ]
  },
  {
   "cell_type": "markdown",
   "id": "fcb9faee",
   "metadata": {},
   "source": [
    "В этом наборе данных нужно привести столбец date к правильному формату. "
   ]
  },
  {
   "cell_type": "code",
   "execution_count": 8,
   "id": "653e3a53",
   "metadata": {},
   "outputs": [
    {
     "name": "stdout",
     "output_type": "stream",
     "text": [
      "<class 'pandas.core.frame.DataFrame'>\n",
      "RangeIndex: 1565 entries, 0 to 1564\n",
      "Data columns (total 5 columns):\n",
      " #   Column             Non-Null Count  Dtype \n",
      "---  ------             --------------  ----- \n",
      " 0   user_id            1565 non-null   int64 \n",
      " 1   name               1565 non-null   object\n",
      " 2   age                1565 non-null   int64 \n",
      " 3   city               1565 non-null   object\n",
      " 4   subscription_type  1565 non-null   object\n",
      "dtypes: int64(2), object(3)\n",
      "memory usage: 61.3+ KB\n"
     ]
    }
   ],
   "source": [
    "users.info()"
   ]
  },
  {
   "cell_type": "markdown",
   "id": "d608d232",
   "metadata": {},
   "source": [
    "В этом датасете тоже на первый взгляд всё хорошо. "
   ]
  },
  {
   "cell_type": "markdown",
   "id": "0b7aa1c4",
   "metadata": {},
   "source": [
    "Познакомившись с данными мы видим, что ни в одной таблице, к счастью, нет пропущенных значений. Все названия столбцов в корректном формате. Нужно преобразовать тип данных в столбце date и можно поработать с параметрами детальнее."
   ]
  },
  {
   "cell_type": "markdown",
   "id": "e95ebca7",
   "metadata": {},
   "source": [
    "### Шаг 2. Предобработка данных"
   ]
  },
  {
   "cell_type": "markdown",
   "id": "dbd311f0",
   "metadata": {},
   "source": [
    "#### Поработаем с типом данных"
   ]
  },
  {
   "cell_type": "markdown",
   "id": "8786fa47",
   "metadata": {},
   "source": [
    "Приведём столбец `date` к типу даты pandas. А столбец `duration` к целочисленному формату."
   ]
  },
  {
   "cell_type": "code",
   "execution_count": 9,
   "id": "e7c77576",
   "metadata": {
    "scrolled": true
   },
   "outputs": [
    {
     "name": "stdout",
     "output_type": "stream",
     "text": [
      "<class 'pandas.core.frame.DataFrame'>\n",
      "RangeIndex: 18068 entries, 0 to 18067\n",
      "Data columns (total 4 columns):\n",
      " #   Column    Non-Null Count  Dtype         \n",
      "---  ------    --------------  -----         \n",
      " 0   user_id   18068 non-null  int64         \n",
      " 1   distance  18068 non-null  float64       \n",
      " 2   duration  18068 non-null  int32         \n",
      " 3   date      18068 non-null  datetime64[ns]\n",
      "dtypes: datetime64[ns](1), float64(1), int32(1), int64(1)\n",
      "memory usage: 494.2 KB\n"
     ]
    }
   ],
   "source": [
    "rides['date'] = pd.to_datetime(rides['date'], format='%Y-%m-%d')\n",
    "rides['duration'] = rides['duration'].astype('int')\n",
    "\n",
    "# проверим себя\n",
    "rides.info()"
   ]
  },
  {
   "cell_type": "markdown",
   "id": "7e2aaf04",
   "metadata": {},
   "source": [
    "#### Изучим уникальные значения в столбцах и устраним дубликаты"
   ]
  },
  {
   "cell_type": "markdown",
   "id": "9a52113a",
   "metadata": {},
   "source": [
    "Сначала проверим датасеты на явные дубликаты."
   ]
  },
  {
   "cell_type": "code",
   "execution_count": 10,
   "id": "a0843ca1",
   "metadata": {
    "scrolled": true
   },
   "outputs": [
    {
     "data": {
      "text/plain": [
       "0"
      ]
     },
     "execution_count": 10,
     "metadata": {},
     "output_type": "execute_result"
    }
   ],
   "source": [
    "subscriptions.duplicated().sum()"
   ]
  },
  {
   "cell_type": "code",
   "execution_count": 11,
   "id": "d5487ced",
   "metadata": {
    "scrolled": true
   },
   "outputs": [
    {
     "data": {
      "text/plain": [
       "0"
      ]
     },
     "execution_count": 11,
     "metadata": {},
     "output_type": "execute_result"
    }
   ],
   "source": [
    "rides.duplicated().sum()"
   ]
  },
  {
   "cell_type": "code",
   "execution_count": 12,
   "id": "8ab979ca",
   "metadata": {
    "scrolled": true
   },
   "outputs": [
    {
     "data": {
      "text/plain": [
       "31"
      ]
     },
     "execution_count": 12,
     "metadata": {},
     "output_type": "execute_result"
    }
   ],
   "source": [
    "users.duplicated().sum()"
   ]
  },
  {
   "cell_type": "markdown",
   "id": "1817e477",
   "metadata": {},
   "source": [
    "Мы выявили 31 дубликат в датасете с пользователями. Устраним их и обновим индексы."
   ]
  },
  {
   "cell_type": "code",
   "execution_count": 13,
   "id": "005cb1d4",
   "metadata": {
    "scrolled": true
   },
   "outputs": [
    {
     "data": {
      "text/plain": [
       "0"
      ]
     },
     "execution_count": 13,
     "metadata": {},
     "output_type": "execute_result"
    }
   ],
   "source": [
    "users = users.drop_duplicates().reset_index(drop=True)\n",
    "\n",
    "# проверим себя\n",
    "users.duplicated().sum()"
   ]
  },
  {
   "cell_type": "markdown",
   "id": "c159f81a",
   "metadata": {},
   "source": [
    "Теперь всё отлично, идём дальше. "
   ]
  },
  {
   "cell_type": "markdown",
   "id": "b854776b",
   "metadata": {},
   "source": [
    "Проверим датасеты на неявные дубликаты.\n",
    "\n",
    "Из всех данных есть смысл проверять на неявные дубли только столбцы `name` и `city` в датасете `users`. Посмотрим на уникальные значения в них."
   ]
  },
  {
   "cell_type": "code",
   "execution_count": 14,
   "id": "6aeba2e9",
   "metadata": {},
   "outputs": [
    {
     "data": {
      "text/plain": [
       "array(['Агата', 'Аделина', 'Адель', 'Айдар', 'Александр', 'Александра',\n",
       "       'Алексей', 'Алина', 'Алиса', 'Алия', 'Алла', 'Альберт', 'Альбина',\n",
       "       'Алёна', 'Амалия', 'Амина', 'Амир', 'Анастасия', 'Анатолий',\n",
       "       'Ангелина', 'Андрей', 'Анжелика', 'Анна', 'Антон', 'Антонина',\n",
       "       'Ариана', 'Арина', 'Арсен', 'Арсений', 'Артемий', 'Артур', 'Артём',\n",
       "       'Богдан', 'Борис', 'Вадим', 'Валентина', 'Валерий', 'Валерия',\n",
       "       'Варвара', 'Василий', 'Василина', 'Василиса', 'Вера', 'Вероника',\n",
       "       'Виктор', 'Виктория', 'Виолетта', 'Виталий', 'Виталина', 'Влад',\n",
       "       'Влада', 'Владимир', 'Владислав', 'Владислава', 'Всеволод',\n",
       "       'Вячеслав', 'Галина', 'Георгий', 'Герман', 'Глеб', 'Гордей',\n",
       "       'Григорий', 'Давид', 'Дамир', 'Даниил', 'Данил', 'Данила',\n",
       "       'Даниэль', 'Дарина', 'Дарья', 'Демид', 'Денис', 'Диана', 'Дмитрий',\n",
       "       'Ева', 'Евгений', 'Евгения', 'Егор', 'Екатерина', 'Елена',\n",
       "       'Елизавета', 'Елисей', 'Есения', 'Жанна', 'Зарина', 'Захар',\n",
       "       'Злата', 'Иван', 'Игнат', 'Игорь', 'Ильдар', 'Илья', 'Инна',\n",
       "       'Ирина', 'Камилла', 'Карина', 'Каролина', 'Кира', 'Кирилл',\n",
       "       'Константин', 'Кристина', 'Ксения', 'Лариса', 'Лев', 'Леонид',\n",
       "       'Лиана', 'Лидия', 'Лилия', 'Любовь', 'Людмила', 'Мадина', 'Майя',\n",
       "       'Макар', 'Максим', 'Марат', 'Маргарита', 'Марина', 'Мария', 'Марк',\n",
       "       'Марсель', 'Матвей', 'Мелания', 'Милана', 'Милена', 'Мирон',\n",
       "       'Мирослав', 'Мирослава', 'Михаил', 'Назар', 'Наталия', 'Наталья',\n",
       "       'Наташа', 'Нелли', 'Ника', 'Никита', 'Николай', 'Нина', 'Одиссей',\n",
       "       'Оксана', 'Олег', 'Олеся', 'Ольга', 'Павел', 'Петр', 'Платон',\n",
       "       'Полина', 'Радмир', 'Рамиль', 'Регина', 'Роберт', 'Родион',\n",
       "       'Роман', 'Ростислав', 'Руслан', 'Рустам', 'Савелий', 'Самир',\n",
       "       'Самира', 'Светлана', 'Святогор', 'Святослав', 'Семен', 'Сергей',\n",
       "       'Снежана', 'София', 'Софья', 'Станислав', 'Степан', 'Стефания',\n",
       "       'Таисия', 'Тамара', 'Тамерлан', 'Татьяна', 'Тимофей', 'Тимур',\n",
       "       'Тихон', 'Ульяна', 'Федор', 'Эвелина', 'Эдуард', 'Элина',\n",
       "       'Эльвира', 'Эльмира', 'Эмилия', 'Эмиль', 'Юлиана', 'Юлия', 'Юрий',\n",
       "       'Ян', 'Яна', 'Яромир', 'Ярослав', 'Ярослава', 'Ясмина'],\n",
       "      dtype=object)"
      ]
     },
     "execution_count": 14,
     "metadata": {},
     "output_type": "execute_result"
    }
   ],
   "source": [
    "users['name'].sort_values().unique()"
   ]
  },
  {
   "cell_type": "code",
   "execution_count": 15,
   "id": "d2189571",
   "metadata": {},
   "outputs": [
    {
     "data": {
      "text/plain": [
       "array(['Тюмень', 'Омск', 'Москва', 'Ростов-на-Дону', 'Краснодар',\n",
       "       'Пятигорск', 'Екатеринбург', 'Сочи'], dtype=object)"
      ]
     },
     "execution_count": 15,
     "metadata": {},
     "output_type": "execute_result"
    }
   ],
   "source": [
    "users['city'].unique()"
   ]
  },
  {
   "cell_type": "markdown",
   "id": "a6233eb1",
   "metadata": {},
   "source": [
    "В изученных данных мы не видим неявных дубликатов. Отлично, можно идти дальше."
   ]
  },
  {
   "cell_type": "markdown",
   "id": "889336bf",
   "metadata": {},
   "source": [
    "#### Добавим в таблицу новые столбцы"
   ]
  },
  {
   "cell_type": "markdown",
   "id": "c6176bce",
   "metadata": {},
   "source": [
    "Сначала проверим за какой период у нас данные на основе столбца `date` из датасета с поездками."
   ]
  },
  {
   "cell_type": "code",
   "execution_count": 16,
   "id": "d6be9eaa",
   "metadata": {
    "scrolled": true
   },
   "outputs": [
    {
     "data": {
      "text/plain": [
       "date\n",
       "2021    18068\n",
       "Name: count, dtype: int64"
      ]
     },
     "execution_count": 16,
     "metadata": {},
     "output_type": "execute_result"
    }
   ],
   "source": [
    "pd.DatetimeIndex(rides['date']).year.value_counts()"
   ]
  },
  {
   "cell_type": "markdown",
   "id": "dc3ed57b",
   "metadata": {},
   "source": [
    "Отлично, данные представлены только за 2021 год.\\\n",
    "Создадим новый столбец с номером месяца на основе столбца `date` из датасета с поездками и назовём его `month`."
   ]
  },
  {
   "cell_type": "code",
   "execution_count": 17,
   "id": "149f5ed5",
   "metadata": {
    "scrolled": true
   },
   "outputs": [
    {
     "data": {
      "text/plain": [
       "0    1\n",
       "1    1\n",
       "2    4\n",
       "3    8\n",
       "4    8\n",
       "Name: month, dtype: int32"
      ]
     },
     "execution_count": 17,
     "metadata": {},
     "output_type": "execute_result"
    }
   ],
   "source": [
    "rides['month'] = pd.DatetimeIndex(rides['date']).month\n",
    "\n",
    "rides['month'].head()"
   ]
  },
  {
   "cell_type": "markdown",
   "id": "2e3f0352",
   "metadata": {},
   "source": [
    "<b>Выводы:</b> \n",
    "\n",
    "Предобработка обнаружила две проблемы в данных:\n",
    "\n",
    "- некорректные типы данных,\n",
    "- явные дубликаты.\n",
    "\n",
    "Мы исправили тип данных столбца `date` на datetime и убрали  дубликаты в датасете `users`. Так исследование станет более точным.\n",
    "\n",
    "Выявили, что данные представлены за 2021 год.\n",
    "\n",
    "Теперь можно перейти к анализу данных."
   ]
  },
  {
   "cell_type": "markdown",
   "id": "212593c7",
   "metadata": {},
   "source": [
    "### Шаг 3. Исследовательский анализ данных"
   ]
  },
  {
   "cell_type": "markdown",
   "id": "5388341f",
   "metadata": {},
   "source": [
    "Опишем и визуализируем общую информацию о пользователях и поездках."
   ]
  },
  {
   "cell_type": "markdown",
   "id": "1fa8ab00",
   "metadata": {},
   "source": [
    "#### Частота встречаемости городов"
   ]
  },
  {
   "cell_type": "markdown",
   "id": "18647adf",
   "metadata": {},
   "source": [
    "Посмотрим в каких городах чаще пользуются сервисом GoFast."
   ]
  },
  {
   "cell_type": "code",
   "execution_count": 18,
   "id": "d102651d",
   "metadata": {
    "scrolled": false
   },
   "outputs": [
    {
     "data": {
      "image/png": "[encoded data removed]",
      "text/plain": [
       "<Figure size 700x400 with 1 Axes>"
      ]
     },
     "metadata": {},
     "output_type": "display_data"
    },
    {
     "data": {
      "text/plain": [
       "city\n",
       "Пятигорск         219\n",
       "Екатеринбург      204\n",
       "Ростов-на-Дону    198\n",
       "Краснодар         193\n",
       "Сочи              189\n",
       "Омск              183\n",
       "Тюмень            180\n",
       "Москва            168\n",
       "Name: count, dtype: int64"
      ]
     },
     "execution_count": 18,
     "metadata": {},
     "output_type": "execute_result"
    }
   ],
   "source": [
    "# построим столбчатую диаграмму\n",
    "users['city'].value_counts().plot(kind='barh', figsize = (7, 4))\n",
    "plt.title('Диаграмма частоты встречаемости городов')\n",
    "plt.xlabel('Количество пользователей')\n",
    "plt.ylabel('Город')\n",
    "plt.show()\n",
    "\n",
    "# выведем число пользователей в каждом городе\n",
    "users['city'].value_counts()"
   ]
  },
  {
   "cell_type": "markdown",
   "id": "1b03e7d6",
   "metadata": {},
   "source": [
    "<b>Вывод:</b> мы видим, что самокаты наиболее популярны в Пятигорске и Екатеринбурге, а Москва, напротив, замыкает этот список с существенным отрывом. \n",
    "\n",
    "Это может быть связано с тем, что в Москве комфортная транспортная доступность и большие расстояние - люди чаще пользуются метро, такси или личным автомобилем. Самокат хоть и удобен, но жителям столицы не так часто приходится к нему прибегать. "
   ]
  },
  {
   "cell_type": "markdown",
   "id": "23618610",
   "metadata": {},
   "source": [
    "#### Соотношение пользователей с подпиской и без подписки"
   ]
  },
  {
   "cell_type": "markdown",
   "id": "d3307c39",
   "metadata": {},
   "source": [
    "Посмотрим какое соотношение между пользователями с подпиской `ultra` и теми, кто выбрал бесплатный формат. "
   ]
  },
  {
   "cell_type": "code",
   "execution_count": 19,
   "id": "cba760a0",
   "metadata": {},
   "outputs": [
    {
     "data": {
      "image/png": "[encoded data removed]",
      "text/plain": [
       "<Figure size 640x480 with 1 Axes>"
      ]
     },
     "metadata": {},
     "output_type": "display_data"
    },
    {
     "data": {
      "text/plain": [
       "subscription_type\n",
       "free     835\n",
       "ultra    699\n",
       "Name: count, dtype: int64"
      ]
     },
     "execution_count": 19,
     "metadata": {},
     "output_type": "execute_result"
    }
   ],
   "source": [
    "# построим круговую диаграмму\n",
    "users['subscription_type'].value_counts().plot(kind='pie', autopct='%1.1f%%')\n",
    "plt.title('Диаграмма соотношения пользователей с подпиской и без подписки')\n",
    "plt.ylabel('Подписка')\n",
    "plt.show()\n",
    "\n",
    "\n",
    "# выведем число пользователей с подпиской и без\n",
    "users['subscription_type'].value_counts()"
   ]
  },
  {
   "cell_type": "markdown",
   "id": "d4779095",
   "metadata": {},
   "source": [
    "<b>Вывод:</b> данные говорят, что число пользователей оформивших подписку и тех, кто выбрал бесплатное использование сервиса примерно равно. Тем не менее, пользователей без подписки на 8,8% больше. "
   ]
  },
  {
   "cell_type": "markdown",
   "id": "2e8df48a",
   "metadata": {},
   "source": [
    "#### Возраст пользователей"
   ]
  },
  {
   "cell_type": "markdown",
   "id": "689bb1b8",
   "metadata": {},
   "source": [
    "Посмотрим как распределились пользователи сервиса GoFast по возрастам."
   ]
  },
  {
   "cell_type": "code",
   "execution_count": 20,
   "id": "51ce3747",
   "metadata": {},
   "outputs": [
    {
     "data": {
      "image/png": "[encoded data removed]",
      "text/plain": [
       "<Figure size 500x500 with 1 Axes>"
      ]
     },
     "metadata": {},
     "output_type": "display_data"
    },
    {
     "data": {
      "image/png": "[encoded data removed]",
      "text/plain": [
       "<Figure size 500x500 with 1 Axes>"
      ]
     },
     "metadata": {},
     "output_type": "display_data"
    },
    {
     "data": {
      "text/plain": [
       "count    1534.000000\n",
       "mean       24.903520\n",
       "std         4.572367\n",
       "min        12.000000\n",
       "25%        22.000000\n",
       "50%        25.000000\n",
       "75%        28.000000\n",
       "max        43.000000\n",
       "Name: age, dtype: float64"
      ]
     },
     "execution_count": 20,
     "metadata": {},
     "output_type": "execute_result"
    }
   ],
   "source": [
    "# построим диаграмму размаха\n",
    "users.boxplot(column='age', figsize=(5, 5))\n",
    "plt.title('Диаграмма размаха возраста пользователей')\n",
    "plt.ylabel('Возраст')\n",
    "plt.show()\n",
    "\n",
    "# построим гистограмму распределения\n",
    "users['age'].plot(kind='hist', bins=30, figsize=(5, 5))\n",
    "plt.title('Гистограмма распределения возраста пользователей')\n",
    "plt.xlabel('Возраст')\n",
    "plt.ylabel('Количество пользователей')\n",
    "plt.show()\n",
    "\n",
    "# посмотрим на числовое описание данных\n",
    "users['age'].describe()"
   ]
  },
  {
   "cell_type": "markdown",
   "id": "116284d7",
   "metadata": {},
   "source": [
    "<b>Вывод:</b> мы видим, что средний возраст тех, кто ездит на самокатах - 25 лет. Самому младшему 12 лет, а самому старшему - 43 года. При этом мы также видим несколько выбросов, особенно среди представителей старшего поколения.\\\n",
    "Гистограмма распределена нормально - средний возраст и медиана практически совпадают."
   ]
  },
  {
   "cell_type": "markdown",
   "id": "ec16b0f2",
   "metadata": {},
   "source": [
    "#### Расстояние, которое пользователь преодолел за одну поездку"
   ]
  },
  {
   "cell_type": "markdown",
   "id": "942c8ab4",
   "metadata": {},
   "source": [
    "Посмотрим какое расстояние проеодолевал в среднем каждый пользователь за одну поездку. "
   ]
  },
  {
   "cell_type": "code",
   "execution_count": 21,
   "id": "2bb24645",
   "metadata": {},
   "outputs": [
    {
     "data": {
      "image/png": "[encoded data removed]",
      "text/plain": [
       "<Figure size 500x500 with 1 Axes>"
      ]
     },
     "metadata": {},
     "output_type": "display_data"
    },
    {
     "data": {
      "image/png": "[encoded data removed]",
      "text/plain": [
       "<Figure size 1000x500 with 1 Axes>"
      ]
     },
     "metadata": {},
     "output_type": "display_data"
    },
    {
     "data": {
      "text/plain": [
       "count    18068.00\n",
       "mean      3070.66\n",
       "std       1116.83\n",
       "min          0.86\n",
       "25%       2543.23\n",
       "50%       3133.61\n",
       "75%       3776.22\n",
       "max       7211.01\n",
       "Name: distance, dtype: float64"
      ]
     },
     "execution_count": 21,
     "metadata": {},
     "output_type": "execute_result"
    }
   ],
   "source": [
    "# построим диаграмму размаха\n",
    "rides.boxplot(column='distance', figsize=(5, 5))\n",
    "plt.title('Диаграмма размаха преодолённого пользователем расстояния за одну поездку')\n",
    "plt.ylabel('Расстояние, метры')\n",
    "plt.show()\n",
    "\n",
    "# построим гистограмму распределения\n",
    "rides['distance'].plot(kind='hist', bins=50, figsize=(10, 5), grid='True')\n",
    "plt.title('Гистограмма распределения преодолённого пользователем расстояния за одну поездку')\n",
    "plt.xlabel('Расстояние, метры')\n",
    "plt.ylabel('Количество поездок')\n",
    "plt.show()\n",
    "\n",
    "# посмотрим на числовое описание данных\n",
    "rides['distance'].describe().round(2)"
   ]
  },
  {
   "cell_type": "markdown",
   "id": "f373cdd0",
   "metadata": {},
   "source": [
    "<b>Вывод:</b> данные говорят, что чаще всего пользователи проезжают на самокате чуть больше 3 км.\n",
    "\n",
    "Важно отметить, что на графике мы видим два пика. Это может говорить о том, что:\n",
    "- есть два типа поездок: на короткие расстояния (к примеру, до метро) и более продолжительные;\n",
    "- те, кто проезжают меньше 1 км могут тестировать этот вид транспорта, насколько он для них удобен."
   ]
  },
  {
   "cell_type": "markdown",
   "id": "102e3bc2",
   "metadata": {},
   "source": [
    "#### Продолжительность поездок"
   ]
  },
  {
   "cell_type": "markdown",
   "id": "5b4cbe3a",
   "metadata": {},
   "source": [
    "Посмотрим сколько времени пользователи тратят на поездки."
   ]
  },
  {
   "cell_type": "code",
   "execution_count": 34,
   "id": "39e84cd4",
   "metadata": {
    "scrolled": false
   },
   "outputs": [
    {
     "data": {
      "image/png": "[encoded data removed]",
      "text/plain": [
       "<Figure size 500x500 with 1 Axes>"
      ]
     },
     "metadata": {},
     "output_type": "display_data"
    },
    {
     "data": {
      "image/png": "[encoded data removed]",
      "text/plain": [
       "<Figure size 1000x500 with 1 Axes>"
      ]
     },
     "metadata": {},
     "output_type": "display_data"
    },
    {
     "data": {
      "text/plain": [
       "count    18068.00\n",
       "mean        17.30\n",
       "std          6.09\n",
       "min          0.00\n",
       "25%         13.00\n",
       "50%         17.00\n",
       "75%         21.00\n",
       "max         40.00\n",
       "Name: duration, dtype: float64"
      ]
     },
     "execution_count": 34,
     "metadata": {},
     "output_type": "execute_result"
    }
   ],
   "source": [
    "# построим диаграмму размаха\n",
    "rides.boxplot(column='duration', figsize=(5, 5))\n",
    "plt.title('Диаграмма размаха продолжительности одной поездки')\n",
    "plt.ylabel('Продолжительность, мин')\n",
    "plt.show()\n",
    "\n",
    "# построим гистограмму распределения\n",
    "rides['duration'].plot(kind='hist', bins=40, figsize=(10, 5), grid='True')\n",
    "plt.title('Гистограмма распределения продолжительности одной поездки')\n",
    "plt.xlabel('Продолжительность, мин')\n",
    "plt.ylabel('Количество поездок')\n",
    "plt.show()\n",
    "\n",
    "# посмотрим на числовое описание данных\n",
    "rides['duration'].describe().round(2)"
   ]
  },
  {
   "cell_type": "markdown",
   "id": "4ee62b2a",
   "metadata": {},
   "source": [
    "Подозрительно скученные выбросы меньше 3 мин, посмотрим на них покрупнее."
   ]
  },
  {
   "cell_type": "code",
   "execution_count": 23,
   "id": "11a2572e",
   "metadata": {},
   "outputs": [
    {
     "data": {
      "image/png": "[encoded data removed]",
      "text/plain": [
       "<Figure size 500x500 with 1 Axes>"
      ]
     },
     "metadata": {},
     "output_type": "display_data"
    }
   ],
   "source": [
    "fast_rides = rides.query('duration <= 3')\n",
    "\n",
    "# построим гистограмму распределения\n",
    "fast_rides['duration'].plot(kind='hist', bins=10, figsize=(5, 5), grid='True')\n",
    "plt.title('Гистограмма распределения продолжительности одной поездки меньше 3 мин')\n",
    "plt.xlabel('Продолжительность, мин')\n",
    "plt.ylabel('Количество поездок')\n",
    "plt.show()"
   ]
  },
  {
   "cell_type": "code",
   "execution_count": 24,
   "id": "9640ee8f",
   "metadata": {},
   "outputs": [
    {
     "data": {
      "text/html": [
       "<div>\n",
       "<style scoped>\n",
       "    .dataframe tbody tr th:only-of-type {\n",
       "        vertical-align: middle;\n",
       "    }\n",
       "\n",
       "    .dataframe tbody tr th {\n",
       "        vertical-align: top;\n",
       "    }\n",
       "\n",
       "    .dataframe thead th {\n",
       "        text-align: right;\n",
       "    }\n",
       "</style>\n",
       "<table border=\"1\" class=\"dataframe\">\n",
       "  <thead>\n",
       "    <tr style=\"text-align: right;\">\n",
       "      <th></th>\n",
       "      <th>user_id</th>\n",
       "      <th>distance</th>\n",
       "      <th>duration</th>\n",
       "      <th>date</th>\n",
       "      <th>month</th>\n",
       "    </tr>\n",
       "  </thead>\n",
       "  <tbody>\n",
       "    <tr>\n",
       "      <th>15132</th>\n",
       "      <td>1325</td>\n",
       "      <td>4030.308008</td>\n",
       "      <td>0</td>\n",
       "      <td>2021-12-22</td>\n",
       "      <td>12</td>\n",
       "    </tr>\n",
       "    <tr>\n",
       "      <th>17909</th>\n",
       "      <td>1524</td>\n",
       "      <td>4103.998874</td>\n",
       "      <td>0</td>\n",
       "      <td>2021-06-18</td>\n",
       "      <td>6</td>\n",
       "    </tr>\n",
       "    <tr>\n",
       "      <th>10692</th>\n",
       "      <td>1006</td>\n",
       "      <td>4106.278268</td>\n",
       "      <td>0</td>\n",
       "      <td>2021-10-31</td>\n",
       "      <td>10</td>\n",
       "    </tr>\n",
       "    <tr>\n",
       "      <th>9698</th>\n",
       "      <td>937</td>\n",
       "      <td>4169.066800</td>\n",
       "      <td>0</td>\n",
       "      <td>2021-12-12</td>\n",
       "      <td>12</td>\n",
       "    </tr>\n",
       "    <tr>\n",
       "      <th>14342</th>\n",
       "      <td>1268</td>\n",
       "      <td>4177.139336</td>\n",
       "      <td>0</td>\n",
       "      <td>2021-06-09</td>\n",
       "      <td>6</td>\n",
       "    </tr>\n",
       "    <tr>\n",
       "      <th>...</th>\n",
       "      <td>...</td>\n",
       "      <td>...</td>\n",
       "      <td>...</td>\n",
       "      <td>...</td>\n",
       "      <td>...</td>\n",
       "    </tr>\n",
       "    <tr>\n",
       "      <th>14574</th>\n",
       "      <td>1285</td>\n",
       "      <td>6316.574814</td>\n",
       "      <td>0</td>\n",
       "      <td>2021-09-25</td>\n",
       "      <td>9</td>\n",
       "    </tr>\n",
       "    <tr>\n",
       "      <th>13701</th>\n",
       "      <td>1224</td>\n",
       "      <td>6414.516026</td>\n",
       "      <td>0</td>\n",
       "      <td>2021-07-15</td>\n",
       "      <td>7</td>\n",
       "    </tr>\n",
       "    <tr>\n",
       "      <th>11385</th>\n",
       "      <td>1057</td>\n",
       "      <td>6601.197575</td>\n",
       "      <td>0</td>\n",
       "      <td>2021-02-07</td>\n",
       "      <td>2</td>\n",
       "    </tr>\n",
       "    <tr>\n",
       "      <th>17242</th>\n",
       "      <td>1477</td>\n",
       "      <td>6724.932981</td>\n",
       "      <td>0</td>\n",
       "      <td>2021-01-12</td>\n",
       "      <td>1</td>\n",
       "    </tr>\n",
       "    <tr>\n",
       "      <th>16309</th>\n",
       "      <td>1411</td>\n",
       "      <td>7211.007745</td>\n",
       "      <td>0</td>\n",
       "      <td>2021-04-15</td>\n",
       "      <td>4</td>\n",
       "    </tr>\n",
       "  </tbody>\n",
       "</table>\n",
       "<p>95 rows × 5 columns</p>\n",
       "</div>"
      ],
      "text/plain": [
       "       user_id     distance  duration       date  month\n",
       "15132     1325  4030.308008         0 2021-12-22     12\n",
       "17909     1524  4103.998874         0 2021-06-18      6\n",
       "10692     1006  4106.278268         0 2021-10-31     10\n",
       "9698       937  4169.066800         0 2021-12-12     12\n",
       "14342     1268  4177.139336         0 2021-06-09      6\n",
       "...        ...          ...       ...        ...    ...\n",
       "14574     1285  6316.574814         0 2021-09-25      9\n",
       "13701     1224  6414.516026         0 2021-07-15      7\n",
       "11385     1057  6601.197575         0 2021-02-07      2\n",
       "17242     1477  6724.932981         0 2021-01-12      1\n",
       "16309     1411  7211.007745         0 2021-04-15      4\n",
       "\n",
       "[95 rows x 5 columns]"
      ]
     },
     "execution_count": 24,
     "metadata": {},
     "output_type": "execute_result"
    }
   ],
   "source": [
    "rides.query('duration <= 1').sort_values(by='distance')"
   ]
  },
  {
   "cell_type": "markdown",
   "id": "d70e8c84",
   "metadata": {},
   "source": [
    "<b>Вывод:</b> мы видим, что средняя продолжительность одной поездки чуть более 17,5 минут. Чаще всего самокатом пользуются 10-25 мин.\n",
    "\n",
    "Также мы заметили странные скученные выбросы, которые стабильно длятся полминуты. И таких одинаковых выбросов целых 95. При этом, судя по данным, за это время пользователь преодолевает солидные расстояния от 4 до 7 км. Очевидно, что это ошибка, но не известно какой именно показатель записался некорректно. Поэтому заменять или удалять значения мы не будем, но будем иметь ввиду, что не все данные корректные. \n",
    "\n",
    "Гистограмма распределена нормально - медиана и среднее значение практически равны."
   ]
  },
  {
   "cell_type": "markdown",
   "id": "4ef51331",
   "metadata": {},
   "source": [
    "### Шаг 4. Объединение данных"
   ]
  },
  {
   "cell_type": "markdown",
   "id": "1570cd9f",
   "metadata": {},
   "source": [
    "#### Объединим данные о пользователях, поездках и подписках в один датафрейм "
   ]
  },
  {
   "cell_type": "markdown",
   "id": "9bb76afc",
   "metadata": {},
   "source": [
    "Объединим три датасета `users`, `subscriptions` и `rides` в один с помощью метода merge() и назовём его `data`."
   ]
  },
  {
   "cell_type": "code",
   "execution_count": 25,
   "id": "31dadd45",
   "metadata": {
    "scrolled": false
   },
   "outputs": [
    {
     "data": {
      "text/html": [
       "<div>\n",
       "<style scoped>\n",
       "    .dataframe tbody tr th:only-of-type {\n",
       "        vertical-align: middle;\n",
       "    }\n",
       "\n",
       "    .dataframe tbody tr th {\n",
       "        vertical-align: top;\n",
       "    }\n",
       "\n",
       "    .dataframe thead th {\n",
       "        text-align: right;\n",
       "    }\n",
       "</style>\n",
       "<table border=\"1\" class=\"dataframe\">\n",
       "  <thead>\n",
       "    <tr style=\"text-align: right;\">\n",
       "      <th></th>\n",
       "      <th>user_id</th>\n",
       "      <th>name</th>\n",
       "      <th>age</th>\n",
       "      <th>city</th>\n",
       "      <th>subscription_type</th>\n",
       "      <th>minute_price</th>\n",
       "      <th>start_ride_price</th>\n",
       "      <th>subscription_fee</th>\n",
       "      <th>distance</th>\n",
       "      <th>duration</th>\n",
       "      <th>date</th>\n",
       "      <th>month</th>\n",
       "    </tr>\n",
       "  </thead>\n",
       "  <tbody>\n",
       "    <tr>\n",
       "      <th>1696</th>\n",
       "      <td>183</td>\n",
       "      <td>Борис</td>\n",
       "      <td>15</td>\n",
       "      <td>Москва</td>\n",
       "      <td>ultra</td>\n",
       "      <td>6</td>\n",
       "      <td>0</td>\n",
       "      <td>199</td>\n",
       "      <td>1612.617735</td>\n",
       "      <td>20</td>\n",
       "      <td>2021-07-12</td>\n",
       "      <td>7</td>\n",
       "    </tr>\n",
       "    <tr>\n",
       "      <th>14381</th>\n",
       "      <td>1270</td>\n",
       "      <td>Антон</td>\n",
       "      <td>26</td>\n",
       "      <td>Омск</td>\n",
       "      <td>free</td>\n",
       "      <td>8</td>\n",
       "      <td>50</td>\n",
       "      <td>0</td>\n",
       "      <td>3621.910598</td>\n",
       "      <td>14</td>\n",
       "      <td>2021-11-04</td>\n",
       "      <td>11</td>\n",
       "    </tr>\n",
       "    <tr>\n",
       "      <th>22</th>\n",
       "      <td>2</td>\n",
       "      <td>Станислав</td>\n",
       "      <td>31</td>\n",
       "      <td>Омск</td>\n",
       "      <td>ultra</td>\n",
       "      <td>6</td>\n",
       "      <td>0</td>\n",
       "      <td>199</td>\n",
       "      <td>3828.248580</td>\n",
       "      <td>11</td>\n",
       "      <td>2021-12-18</td>\n",
       "      <td>12</td>\n",
       "    </tr>\n",
       "    <tr>\n",
       "      <th>7239</th>\n",
       "      <td>751</td>\n",
       "      <td>Григорий</td>\n",
       "      <td>21</td>\n",
       "      <td>Сочи</td>\n",
       "      <td>free</td>\n",
       "      <td>8</td>\n",
       "      <td>50</td>\n",
       "      <td>0</td>\n",
       "      <td>748.322599</td>\n",
       "      <td>12</td>\n",
       "      <td>2021-09-15</td>\n",
       "      <td>9</td>\n",
       "    </tr>\n",
       "    <tr>\n",
       "      <th>2678</th>\n",
       "      <td>285</td>\n",
       "      <td>Мирослава</td>\n",
       "      <td>29</td>\n",
       "      <td>Пятигорск</td>\n",
       "      <td>ultra</td>\n",
       "      <td>6</td>\n",
       "      <td>0</td>\n",
       "      <td>199</td>\n",
       "      <td>3487.095256</td>\n",
       "      <td>16</td>\n",
       "      <td>2021-06-30</td>\n",
       "      <td>6</td>\n",
       "    </tr>\n",
       "    <tr>\n",
       "      <th>8655</th>\n",
       "      <td>861</td>\n",
       "      <td>Мария</td>\n",
       "      <td>27</td>\n",
       "      <td>Краснодар</td>\n",
       "      <td>free</td>\n",
       "      <td>8</td>\n",
       "      <td>50</td>\n",
       "      <td>0</td>\n",
       "      <td>2299.910528</td>\n",
       "      <td>7</td>\n",
       "      <td>2021-01-28</td>\n",
       "      <td>1</td>\n",
       "    </tr>\n",
       "    <tr>\n",
       "      <th>2825</th>\n",
       "      <td>302</td>\n",
       "      <td>Наталия</td>\n",
       "      <td>27</td>\n",
       "      <td>Ростов-на-Дону</td>\n",
       "      <td>ultra</td>\n",
       "      <td>6</td>\n",
       "      <td>0</td>\n",
       "      <td>199</td>\n",
       "      <td>3686.357838</td>\n",
       "      <td>24</td>\n",
       "      <td>2021-06-10</td>\n",
       "      <td>6</td>\n",
       "    </tr>\n",
       "    <tr>\n",
       "      <th>5945</th>\n",
       "      <td>634</td>\n",
       "      <td>Одиссей</td>\n",
       "      <td>27</td>\n",
       "      <td>Екатеринбург</td>\n",
       "      <td>ultra</td>\n",
       "      <td>6</td>\n",
       "      <td>0</td>\n",
       "      <td>199</td>\n",
       "      <td>2582.837946</td>\n",
       "      <td>18</td>\n",
       "      <td>2021-06-10</td>\n",
       "      <td>6</td>\n",
       "    </tr>\n",
       "    <tr>\n",
       "      <th>10181</th>\n",
       "      <td>970</td>\n",
       "      <td>Ника</td>\n",
       "      <td>21</td>\n",
       "      <td>Ростов-на-Дону</td>\n",
       "      <td>free</td>\n",
       "      <td>8</td>\n",
       "      <td>50</td>\n",
       "      <td>0</td>\n",
       "      <td>5583.068307</td>\n",
       "      <td>26</td>\n",
       "      <td>2021-08-06</td>\n",
       "      <td>8</td>\n",
       "    </tr>\n",
       "    <tr>\n",
       "      <th>17461</th>\n",
       "      <td>1492</td>\n",
       "      <td>Григорий</td>\n",
       "      <td>36</td>\n",
       "      <td>Краснодар</td>\n",
       "      <td>free</td>\n",
       "      <td>8</td>\n",
       "      <td>50</td>\n",
       "      <td>0</td>\n",
       "      <td>3780.290319</td>\n",
       "      <td>19</td>\n",
       "      <td>2021-04-20</td>\n",
       "      <td>4</td>\n",
       "    </tr>\n",
       "  </tbody>\n",
       "</table>\n",
       "</div>"
      ],
      "text/plain": [
       "       user_id       name  age            city subscription_type  \\\n",
       "1696       183      Борис   15          Москва             ultra   \n",
       "14381     1270      Антон   26            Омск              free   \n",
       "22           2  Станислав   31            Омск             ultra   \n",
       "7239       751   Григорий   21            Сочи              free   \n",
       "2678       285  Мирослава   29       Пятигорск             ultra   \n",
       "8655       861      Мария   27       Краснодар              free   \n",
       "2825       302    Наталия   27  Ростов-на-Дону             ultra   \n",
       "5945       634    Одиссей   27    Екатеринбург             ultra   \n",
       "10181      970       Ника   21  Ростов-на-Дону              free   \n",
       "17461     1492   Григорий   36       Краснодар              free   \n",
       "\n",
       "       minute_price  start_ride_price  subscription_fee     distance  \\\n",
       "1696              6                 0               199  1612.617735   \n",
       "14381             8                50                 0  3621.910598   \n",
       "22                6                 0               199  3828.248580   \n",
       "7239              8                50                 0   748.322599   \n",
       "2678              6                 0               199  3487.095256   \n",
       "8655              8                50                 0  2299.910528   \n",
       "2825              6                 0               199  3686.357838   \n",
       "5945              6                 0               199  2582.837946   \n",
       "10181             8                50                 0  5583.068307   \n",
       "17461             8                50                 0  3780.290319   \n",
       "\n",
       "       duration       date  month  \n",
       "1696         20 2021-07-12      7  \n",
       "14381        14 2021-11-04     11  \n",
       "22           11 2021-12-18     12  \n",
       "7239         12 2021-09-15      9  \n",
       "2678         16 2021-06-30      6  \n",
       "8655          7 2021-01-28      1  \n",
       "2825         24 2021-06-10      6  \n",
       "5945         18 2021-06-10      6  \n",
       "10181        26 2021-08-06      8  \n",
       "17461        19 2021-04-20      4  "
      ]
     },
     "execution_count": 25,
     "metadata": {},
     "output_type": "execute_result"
    }
   ],
   "source": [
    "data1 = users.merge(subscriptions, on='subscription_type', how='left')\n",
    "\n",
    "data = data1.merge(rides, on='user_id', how='left')\n",
    "data.sample(10)"
   ]
  },
  {
   "cell_type": "markdown",
   "id": "a4692680",
   "metadata": {},
   "source": [
    "Проверим, корректно ли объединились данные. Для этого посмотрим на количество поездок и уникальных пользователей в исходных датасетах и в объединённом."
   ]
  },
  {
   "cell_type": "code",
   "execution_count": 26,
   "id": "26aa6b46",
   "metadata": {},
   "outputs": [
    {
     "data": {
      "text/plain": [
       "'Количество уникальных пользователей в \"users\":'"
      ]
     },
     "metadata": {},
     "output_type": "display_data"
    },
    {
     "data": {
      "text/plain": [
       "1534"
      ]
     },
     "metadata": {},
     "output_type": "display_data"
    },
    {
     "data": {
      "text/plain": [
       "'Количество уникальных пользователей в \"data\":'"
      ]
     },
     "metadata": {},
     "output_type": "display_data"
    },
    {
     "data": {
      "text/plain": [
       "1534"
      ]
     },
     "metadata": {},
     "output_type": "display_data"
    },
    {
     "data": {
      "text/plain": [
       "'Количество поезок в \"rides\":'"
      ]
     },
     "metadata": {},
     "output_type": "display_data"
    },
    {
     "data": {
      "text/plain": [
       "18068"
      ]
     },
     "metadata": {},
     "output_type": "display_data"
    },
    {
     "data": {
      "text/plain": [
       "'Количество поездок в \"data\":'"
      ]
     },
     "metadata": {},
     "output_type": "display_data"
    },
    {
     "data": {
      "text/plain": [
       "18068"
      ]
     },
     "metadata": {},
     "output_type": "display_data"
    }
   ],
   "source": [
    "display('Количество уникальных пользователей в \"users\":', len(users['user_id'].unique()))\n",
    "display('Количество уникальных пользователей в \"data\":', len(data['user_id'].unique()))\n",
    "display('Количество поезок в \"rides\":', rides['user_id'].count())\n",
    "display('Количество поездок в \"data\":', data['user_id'].count())"
   ]
  },
  {
   "cell_type": "code",
   "execution_count": 27,
   "id": "dda30df5",
   "metadata": {},
   "outputs": [
    {
     "data": {
      "text/plain": [
       "user_id              0\n",
       "name                 0\n",
       "age                  0\n",
       "city                 0\n",
       "subscription_type    0\n",
       "minute_price         0\n",
       "start_ride_price     0\n",
       "subscription_fee     0\n",
       "distance             0\n",
       "duration             0\n",
       "date                 0\n",
       "month                0\n",
       "dtype: int64"
      ]
     },
     "execution_count": 27,
     "metadata": {},
     "output_type": "execute_result"
    }
   ],
   "source": [
    "data.isna().sum()"
   ]
  },
  {
   "cell_type": "markdown",
   "id": "5515025b",
   "metadata": {},
   "source": [
    "Важно отметить, что объединение происходило с таблицей `users`, где ранее были удалены дубликаты. Объединение прошло корректно:  количество записей (поездок) и уникальных пользователей соответствует данным исходных датасетов, а следовательно никакие данные не потерялись и новых тоже не появилось. Пропусков также обнаружено не было."
   ]
  },
  {
   "cell_type": "markdown",
   "id": "aa1d1f32",
   "metadata": {},
   "source": [
    "#### Создадим ещё два датафрейма из датафрейма `data`"
   ]
  },
  {
   "cell_type": "markdown",
   "id": "ede950aa",
   "metadata": {},
   "source": [
    "Создадим датафрейм с данными о пользователях без подписки и назовём его `data_free`."
   ]
  },
  {
   "cell_type": "code",
   "execution_count": 28,
   "id": "b7f7e44f",
   "metadata": {
    "scrolled": false
   },
   "outputs": [
    {
     "data": {
      "text/html": [
       "<div>\n",
       "<style scoped>\n",
       "    .dataframe tbody tr th:only-of-type {\n",
       "        vertical-align: middle;\n",
       "    }\n",
       "\n",
       "    .dataframe tbody tr th {\n",
       "        vertical-align: top;\n",
       "    }\n",
       "\n",
       "    .dataframe thead th {\n",
       "        text-align: right;\n",
       "    }\n",
       "</style>\n",
       "<table border=\"1\" class=\"dataframe\">\n",
       "  <thead>\n",
       "    <tr style=\"text-align: right;\">\n",
       "      <th></th>\n",
       "      <th>user_id</th>\n",
       "      <th>name</th>\n",
       "      <th>age</th>\n",
       "      <th>city</th>\n",
       "      <th>subscription_type</th>\n",
       "      <th>minute_price</th>\n",
       "      <th>start_ride_price</th>\n",
       "      <th>subscription_fee</th>\n",
       "      <th>distance</th>\n",
       "      <th>duration</th>\n",
       "      <th>date</th>\n",
       "      <th>month</th>\n",
       "    </tr>\n",
       "  </thead>\n",
       "  <tbody>\n",
       "    <tr>\n",
       "      <th>13494</th>\n",
       "      <td>1210</td>\n",
       "      <td>Наталья</td>\n",
       "      <td>24</td>\n",
       "      <td>Москва</td>\n",
       "      <td>free</td>\n",
       "      <td>8</td>\n",
       "      <td>50</td>\n",
       "      <td>0</td>\n",
       "      <td>1737.698243</td>\n",
       "      <td>13</td>\n",
       "      <td>2021-05-27</td>\n",
       "      <td>5</td>\n",
       "    </tr>\n",
       "    <tr>\n",
       "      <th>9287</th>\n",
       "      <td>907</td>\n",
       "      <td>Анжелика</td>\n",
       "      <td>23</td>\n",
       "      <td>Ростов-на-Дону</td>\n",
       "      <td>free</td>\n",
       "      <td>8</td>\n",
       "      <td>50</td>\n",
       "      <td>0</td>\n",
       "      <td>5255.331780</td>\n",
       "      <td>17</td>\n",
       "      <td>2021-06-26</td>\n",
       "      <td>6</td>\n",
       "    </tr>\n",
       "    <tr>\n",
       "      <th>17169</th>\n",
       "      <td>1471</td>\n",
       "      <td>Роман</td>\n",
       "      <td>21</td>\n",
       "      <td>Краснодар</td>\n",
       "      <td>free</td>\n",
       "      <td>8</td>\n",
       "      <td>50</td>\n",
       "      <td>0</td>\n",
       "      <td>2464.458965</td>\n",
       "      <td>16</td>\n",
       "      <td>2021-07-08</td>\n",
       "      <td>7</td>\n",
       "    </tr>\n",
       "    <tr>\n",
       "      <th>12498</th>\n",
       "      <td>1139</td>\n",
       "      <td>Регина</td>\n",
       "      <td>22</td>\n",
       "      <td>Краснодар</td>\n",
       "      <td>free</td>\n",
       "      <td>8</td>\n",
       "      <td>50</td>\n",
       "      <td>0</td>\n",
       "      <td>169.699209</td>\n",
       "      <td>2</td>\n",
       "      <td>2021-11-16</td>\n",
       "      <td>11</td>\n",
       "    </tr>\n",
       "    <tr>\n",
       "      <th>14881</th>\n",
       "      <td>1308</td>\n",
       "      <td>Каролина</td>\n",
       "      <td>18</td>\n",
       "      <td>Екатеринбург</td>\n",
       "      <td>free</td>\n",
       "      <td>8</td>\n",
       "      <td>50</td>\n",
       "      <td>0</td>\n",
       "      <td>5034.999388</td>\n",
       "      <td>30</td>\n",
       "      <td>2021-11-04</td>\n",
       "      <td>11</td>\n",
       "    </tr>\n",
       "    <tr>\n",
       "      <th>17322</th>\n",
       "      <td>1484</td>\n",
       "      <td>Алёна</td>\n",
       "      <td>24</td>\n",
       "      <td>Сочи</td>\n",
       "      <td>free</td>\n",
       "      <td>8</td>\n",
       "      <td>50</td>\n",
       "      <td>0</td>\n",
       "      <td>2958.725496</td>\n",
       "      <td>16</td>\n",
       "      <td>2021-01-10</td>\n",
       "      <td>1</td>\n",
       "    </tr>\n",
       "    <tr>\n",
       "      <th>9415</th>\n",
       "      <td>916</td>\n",
       "      <td>Арина</td>\n",
       "      <td>21</td>\n",
       "      <td>Ростов-на-Дону</td>\n",
       "      <td>free</td>\n",
       "      <td>8</td>\n",
       "      <td>50</td>\n",
       "      <td>0</td>\n",
       "      <td>5953.916245</td>\n",
       "      <td>31</td>\n",
       "      <td>2021-12-04</td>\n",
       "      <td>12</td>\n",
       "    </tr>\n",
       "    <tr>\n",
       "      <th>11424</th>\n",
       "      <td>1060</td>\n",
       "      <td>Софья</td>\n",
       "      <td>20</td>\n",
       "      <td>Краснодар</td>\n",
       "      <td>free</td>\n",
       "      <td>8</td>\n",
       "      <td>50</td>\n",
       "      <td>0</td>\n",
       "      <td>3449.474102</td>\n",
       "      <td>25</td>\n",
       "      <td>2021-06-04</td>\n",
       "      <td>6</td>\n",
       "    </tr>\n",
       "    <tr>\n",
       "      <th>16489</th>\n",
       "      <td>1422</td>\n",
       "      <td>Светлана</td>\n",
       "      <td>33</td>\n",
       "      <td>Тюмень</td>\n",
       "      <td>free</td>\n",
       "      <td>8</td>\n",
       "      <td>50</td>\n",
       "      <td>0</td>\n",
       "      <td>3531.974764</td>\n",
       "      <td>15</td>\n",
       "      <td>2021-05-25</td>\n",
       "      <td>5</td>\n",
       "    </tr>\n",
       "    <tr>\n",
       "      <th>13253</th>\n",
       "      <td>1193</td>\n",
       "      <td>Илья</td>\n",
       "      <td>23</td>\n",
       "      <td>Екатеринбург</td>\n",
       "      <td>free</td>\n",
       "      <td>8</td>\n",
       "      <td>50</td>\n",
       "      <td>0</td>\n",
       "      <td>4760.059562</td>\n",
       "      <td>13</td>\n",
       "      <td>2021-12-29</td>\n",
       "      <td>12</td>\n",
       "    </tr>\n",
       "  </tbody>\n",
       "</table>\n",
       "</div>"
      ],
      "text/plain": [
       "       user_id      name  age            city subscription_type  minute_price  \\\n",
       "13494     1210   Наталья   24          Москва              free             8   \n",
       "9287       907  Анжелика   23  Ростов-на-Дону              free             8   \n",
       "17169     1471     Роман   21       Краснодар              free             8   \n",
       "12498     1139    Регина   22       Краснодар              free             8   \n",
       "14881     1308  Каролина   18    Екатеринбург              free             8   \n",
       "17322     1484     Алёна   24            Сочи              free             8   \n",
       "9415       916     Арина   21  Ростов-на-Дону              free             8   \n",
       "11424     1060     Софья   20       Краснодар              free             8   \n",
       "16489     1422  Светлана   33          Тюмень              free             8   \n",
       "13253     1193      Илья   23    Екатеринбург              free             8   \n",
       "\n",
       "       start_ride_price  subscription_fee     distance  duration       date  \\\n",
       "13494                50                 0  1737.698243        13 2021-05-27   \n",
       "9287                 50                 0  5255.331780        17 2021-06-26   \n",
       "17169                50                 0  2464.458965        16 2021-07-08   \n",
       "12498                50                 0   169.699209         2 2021-11-16   \n",
       "14881                50                 0  5034.999388        30 2021-11-04   \n",
       "17322                50                 0  2958.725496        16 2021-01-10   \n",
       "9415                 50                 0  5953.916245        31 2021-12-04   \n",
       "11424                50                 0  3449.474102        25 2021-06-04   \n",
       "16489                50                 0  3531.974764        15 2021-05-25   \n",
       "13253                50                 0  4760.059562        13 2021-12-29   \n",
       "\n",
       "       month  \n",
       "13494      5  \n",
       "9287       6  \n",
       "17169      7  \n",
       "12498     11  \n",
       "14881     11  \n",
       "17322      1  \n",
       "9415      12  \n",
       "11424      6  \n",
       "16489      5  \n",
       "13253     12  "
      ]
     },
     "execution_count": 28,
     "metadata": {},
     "output_type": "execute_result"
    }
   ],
   "source": [
    "data_free = data.query('subscription_type == \"free\"')\n",
    "data_free.sample(10)"
   ]
  },
  {
   "cell_type": "markdown",
   "id": "466365d0",
   "metadata": {},
   "source": [
    "И создадим ещё один датафрейм с данными о пользователях с подпиской, и назовём его `data_ultra`."
   ]
  },
  {
   "cell_type": "code",
   "execution_count": 29,
   "id": "ba4a3b1c",
   "metadata": {
    "scrolled": false
   },
   "outputs": [
    {
     "data": {
      "text/html": [
       "<div>\n",
       "<style scoped>\n",
       "    .dataframe tbody tr th:only-of-type {\n",
       "        vertical-align: middle;\n",
       "    }\n",
       "\n",
       "    .dataframe tbody tr th {\n",
       "        vertical-align: top;\n",
       "    }\n",
       "\n",
       "    .dataframe thead th {\n",
       "        text-align: right;\n",
       "    }\n",
       "</style>\n",
       "<table border=\"1\" class=\"dataframe\">\n",
       "  <thead>\n",
       "    <tr style=\"text-align: right;\">\n",
       "      <th></th>\n",
       "      <th>user_id</th>\n",
       "      <th>name</th>\n",
       "      <th>age</th>\n",
       "      <th>city</th>\n",
       "      <th>subscription_type</th>\n",
       "      <th>minute_price</th>\n",
       "      <th>start_ride_price</th>\n",
       "      <th>subscription_fee</th>\n",
       "      <th>distance</th>\n",
       "      <th>duration</th>\n",
       "      <th>date</th>\n",
       "      <th>month</th>\n",
       "    </tr>\n",
       "  </thead>\n",
       "  <tbody>\n",
       "    <tr>\n",
       "      <th>5028</th>\n",
       "      <td>541</td>\n",
       "      <td>Родион</td>\n",
       "      <td>28</td>\n",
       "      <td>Краснодар</td>\n",
       "      <td>ultra</td>\n",
       "      <td>6</td>\n",
       "      <td>0</td>\n",
       "      <td>199</td>\n",
       "      <td>2363.061842</td>\n",
       "      <td>13</td>\n",
       "      <td>2021-03-01</td>\n",
       "      <td>3</td>\n",
       "    </tr>\n",
       "    <tr>\n",
       "      <th>2198</th>\n",
       "      <td>234</td>\n",
       "      <td>Ангелина</td>\n",
       "      <td>25</td>\n",
       "      <td>Омск</td>\n",
       "      <td>ultra</td>\n",
       "      <td>6</td>\n",
       "      <td>0</td>\n",
       "      <td>199</td>\n",
       "      <td>2965.992692</td>\n",
       "      <td>25</td>\n",
       "      <td>2021-11-26</td>\n",
       "      <td>11</td>\n",
       "    </tr>\n",
       "    <tr>\n",
       "      <th>1053</th>\n",
       "      <td>113</td>\n",
       "      <td>Богдан</td>\n",
       "      <td>18</td>\n",
       "      <td>Сочи</td>\n",
       "      <td>ultra</td>\n",
       "      <td>6</td>\n",
       "      <td>0</td>\n",
       "      <td>199</td>\n",
       "      <td>3209.184917</td>\n",
       "      <td>25</td>\n",
       "      <td>2021-03-16</td>\n",
       "      <td>3</td>\n",
       "    </tr>\n",
       "    <tr>\n",
       "      <th>2675</th>\n",
       "      <td>285</td>\n",
       "      <td>Мирослава</td>\n",
       "      <td>29</td>\n",
       "      <td>Пятигорск</td>\n",
       "      <td>ultra</td>\n",
       "      <td>6</td>\n",
       "      <td>0</td>\n",
       "      <td>199</td>\n",
       "      <td>2955.543981</td>\n",
       "      <td>18</td>\n",
       "      <td>2021-04-17</td>\n",
       "      <td>4</td>\n",
       "    </tr>\n",
       "    <tr>\n",
       "      <th>4767</th>\n",
       "      <td>513</td>\n",
       "      <td>Иван</td>\n",
       "      <td>28</td>\n",
       "      <td>Пятигорск</td>\n",
       "      <td>ultra</td>\n",
       "      <td>6</td>\n",
       "      <td>0</td>\n",
       "      <td>199</td>\n",
       "      <td>2566.048442</td>\n",
       "      <td>18</td>\n",
       "      <td>2021-04-07</td>\n",
       "      <td>4</td>\n",
       "    </tr>\n",
       "    <tr>\n",
       "      <th>2339</th>\n",
       "      <td>249</td>\n",
       "      <td>Лариса</td>\n",
       "      <td>32</td>\n",
       "      <td>Сочи</td>\n",
       "      <td>ultra</td>\n",
       "      <td>6</td>\n",
       "      <td>0</td>\n",
       "      <td>199</td>\n",
       "      <td>2647.687744</td>\n",
       "      <td>15</td>\n",
       "      <td>2021-06-27</td>\n",
       "      <td>6</td>\n",
       "    </tr>\n",
       "    <tr>\n",
       "      <th>5179</th>\n",
       "      <td>557</td>\n",
       "      <td>Савелий</td>\n",
       "      <td>29</td>\n",
       "      <td>Екатеринбург</td>\n",
       "      <td>ultra</td>\n",
       "      <td>6</td>\n",
       "      <td>0</td>\n",
       "      <td>199</td>\n",
       "      <td>3886.000761</td>\n",
       "      <td>33</td>\n",
       "      <td>2021-02-11</td>\n",
       "      <td>2</td>\n",
       "    </tr>\n",
       "    <tr>\n",
       "      <th>5136</th>\n",
       "      <td>553</td>\n",
       "      <td>Назар</td>\n",
       "      <td>31</td>\n",
       "      <td>Тюмень</td>\n",
       "      <td>ultra</td>\n",
       "      <td>6</td>\n",
       "      <td>0</td>\n",
       "      <td>199</td>\n",
       "      <td>3840.954885</td>\n",
       "      <td>29</td>\n",
       "      <td>2021-03-05</td>\n",
       "      <td>3</td>\n",
       "    </tr>\n",
       "    <tr>\n",
       "      <th>2001</th>\n",
       "      <td>217</td>\n",
       "      <td>Снежана</td>\n",
       "      <td>18</td>\n",
       "      <td>Пятигорск</td>\n",
       "      <td>ultra</td>\n",
       "      <td>6</td>\n",
       "      <td>0</td>\n",
       "      <td>199</td>\n",
       "      <td>3039.595422</td>\n",
       "      <td>28</td>\n",
       "      <td>2021-03-02</td>\n",
       "      <td>3</td>\n",
       "    </tr>\n",
       "    <tr>\n",
       "      <th>6124</th>\n",
       "      <td>657</td>\n",
       "      <td>Агата</td>\n",
       "      <td>26</td>\n",
       "      <td>Екатеринбург</td>\n",
       "      <td>ultra</td>\n",
       "      <td>6</td>\n",
       "      <td>0</td>\n",
       "      <td>199</td>\n",
       "      <td>3272.161536</td>\n",
       "      <td>27</td>\n",
       "      <td>2021-01-26</td>\n",
       "      <td>1</td>\n",
       "    </tr>\n",
       "  </tbody>\n",
       "</table>\n",
       "</div>"
      ],
      "text/plain": [
       "      user_id       name  age          city subscription_type  minute_price  \\\n",
       "5028      541     Родион   28     Краснодар             ultra             6   \n",
       "2198      234   Ангелина   25          Омск             ultra             6   \n",
       "1053      113     Богдан   18          Сочи             ultra             6   \n",
       "2675      285  Мирослава   29     Пятигорск             ultra             6   \n",
       "4767      513       Иван   28     Пятигорск             ultra             6   \n",
       "2339      249     Лариса   32          Сочи             ultra             6   \n",
       "5179      557    Савелий   29  Екатеринбург             ultra             6   \n",
       "5136      553      Назар   31        Тюмень             ultra             6   \n",
       "2001      217    Снежана   18     Пятигорск             ultra             6   \n",
       "6124      657      Агата   26  Екатеринбург             ultra             6   \n",
       "\n",
       "      start_ride_price  subscription_fee     distance  duration       date  \\\n",
       "5028                 0               199  2363.061842        13 2021-03-01   \n",
       "2198                 0               199  2965.992692        25 2021-11-26   \n",
       "1053                 0               199  3209.184917        25 2021-03-16   \n",
       "2675                 0               199  2955.543981        18 2021-04-17   \n",
       "4767                 0               199  2566.048442        18 2021-04-07   \n",
       "2339                 0               199  2647.687744        15 2021-06-27   \n",
       "5179                 0               199  3886.000761        33 2021-02-11   \n",
       "5136                 0               199  3840.954885        29 2021-03-05   \n",
       "2001                 0               199  3039.595422        28 2021-03-02   \n",
       "6124                 0               199  3272.161536        27 2021-01-26   \n",
       "\n",
       "      month  \n",
       "5028      3  \n",
       "2198     11  \n",
       "1053      3  \n",
       "2675      4  \n",
       "4767      4  \n",
       "2339      6  \n",
       "5179      2  \n",
       "5136      3  \n",
       "2001      3  \n",
       "6124      1  "
      ]
     },
     "execution_count": 29,
     "metadata": {},
     "output_type": "execute_result"
    }
   ],
   "source": [
    "data_ultra = data.query('subscription_type == \"ultra\"')\n",
    "data_ultra.sample(10)"
   ]
  },
  {
   "cell_type": "markdown",
   "id": "ef0c8fb8",
   "metadata": {},
   "source": [
    "#### Визуализируем информацию о расстоянии и времени поездок для пользователей обеих категорий"
   ]
  },
  {
   "cell_type": "markdown",
   "id": "c554e05a",
   "metadata": {},
   "source": [
    "Посмотрим, отличаются ли данные датасетов `data_free` и `data_ultra` по расстоянию поездок."
   ]
  },
  {
   "cell_type": "code",
   "execution_count": 30,
   "id": "6e2a50f5",
   "metadata": {},
   "outputs": [
    {
     "data": {
      "image/png": "[encoded data removed]",
      "text/plain": [
       "<Figure size 640x480 with 1 Axes>"
      ]
     },
     "metadata": {},
     "output_type": "display_data"
    },
    {
     "data": {
      "text/html": [
       "<div>\n",
       "<style scoped>\n",
       "    .dataframe tbody tr th:only-of-type {\n",
       "        vertical-align: middle;\n",
       "    }\n",
       "\n",
       "    .dataframe tbody tr th {\n",
       "        vertical-align: top;\n",
       "    }\n",
       "\n",
       "    .dataframe thead th {\n",
       "        text-align: right;\n",
       "    }\n",
       "</style>\n",
       "<table border=\"1\" class=\"dataframe\">\n",
       "  <thead>\n",
       "    <tr style=\"text-align: right;\">\n",
       "      <th></th>\n",
       "      <th>count</th>\n",
       "      <th>mean</th>\n",
       "      <th>std</th>\n",
       "      <th>min</th>\n",
       "      <th>25%</th>\n",
       "      <th>50%</th>\n",
       "      <th>75%</th>\n",
       "      <th>max</th>\n",
       "    </tr>\n",
       "    <tr>\n",
       "      <th>subscription_type</th>\n",
       "      <th></th>\n",
       "      <th></th>\n",
       "      <th></th>\n",
       "      <th></th>\n",
       "      <th></th>\n",
       "      <th></th>\n",
       "      <th></th>\n",
       "      <th></th>\n",
       "    </tr>\n",
       "  </thead>\n",
       "  <tbody>\n",
       "    <tr>\n",
       "      <th>free</th>\n",
       "      <td>11568.0</td>\n",
       "      <td>3046.0</td>\n",
       "      <td>1247.0</td>\n",
       "      <td>1.0</td>\n",
       "      <td>2367.0</td>\n",
       "      <td>3115.0</td>\n",
       "      <td>3906.0</td>\n",
       "      <td>7212.0</td>\n",
       "    </tr>\n",
       "    <tr>\n",
       "      <th>ultra</th>\n",
       "      <td>6500.0</td>\n",
       "      <td>3116.0</td>\n",
       "      <td>837.0</td>\n",
       "      <td>245.0</td>\n",
       "      <td>2786.0</td>\n",
       "      <td>3149.0</td>\n",
       "      <td>3561.0</td>\n",
       "      <td>5700.0</td>\n",
       "    </tr>\n",
       "  </tbody>\n",
       "</table>\n",
       "</div>"
      ],
      "text/plain": [
       "                     count    mean     std    min     25%     50%     75%  \\\n",
       "subscription_type                                                           \n",
       "free               11568.0  3046.0  1247.0    1.0  2367.0  3115.0  3906.0   \n",
       "ultra               6500.0  3116.0   837.0  245.0  2786.0  3149.0  3561.0   \n",
       "\n",
       "                      max  \n",
       "subscription_type          \n",
       "free               7212.0  \n",
       "ultra              5700.0  "
      ]
     },
     "execution_count": 30,
     "metadata": {},
     "output_type": "execute_result"
    }
   ],
   "source": [
    "sns.histplot(x = 'distance', hue = 'subscription_type', kde=True, data = data, bins = 50)\n",
    "plt.title('Гистограмма распределения преодолённого пользователем расстояния за одну поездку')\n",
    "plt.xlabel('Расстояние, метры')\n",
    "plt.ylabel('Количество поездок')\n",
    "plt.legend(['Без подписки', 'С подпиской'])\n",
    "plt.show()\n",
    "\n",
    "# посмотрим на числовое описание данных\n",
    "np.ceil(data.groupby('subscription_type')['distance'].describe())"
   ]
  },
  {
   "cell_type": "markdown",
   "id": "a97dbe33",
   "metadata": {},
   "source": [
    "<b>Вывод:</b> мы видим на графике, что пользователи без подписки составляют большую часть малого пика с короткими поездками (в 2 раза превышая количество пользователей с подпиской). А пользователи у которых есть подписка чаще склонны совершать более длительные поездки.\\\n",
    "Если рассматривать расстояние поездок в целом, то у пользователей без подписки бОльший диапазон расстояния поездок (от 1 до 3906 м в противовес от 245 до 3561 м). Эти данные подкрепляет и стандартное отклонение, которое у пользователей без подписки составляет 1247 м, когда у тех, кто подписку оформил - 837 м. \n",
    "\n",
    "Среднее расстояние при использовании бесплатной подписки короче. Об этом говорят среднее значение и медиана, которые меньше, чем  при использовании платной подписки. "
   ]
  },
  {
   "cell_type": "markdown",
   "id": "8dac7871",
   "metadata": {},
   "source": [
    "А теперь посмотрим есть ли разница во времени поездок между двумя категориями по наличию подписки."
   ]
  },
  {
   "cell_type": "code",
   "execution_count": 37,
   "id": "b6676544",
   "metadata": {},
   "outputs": [
    {
     "data": {
      "image/png": "[encoded data removed]",
      "text/plain": [
       "<Figure size 640x480 with 1 Axes>"
      ]
     },
     "metadata": {},
     "output_type": "display_data"
    },
    {
     "data": {
      "text/html": [
       "<div>\n",
       "<style scoped>\n",
       "    .dataframe tbody tr th:only-of-type {\n",
       "        vertical-align: middle;\n",
       "    }\n",
       "\n",
       "    .dataframe tbody tr th {\n",
       "        vertical-align: top;\n",
       "    }\n",
       "\n",
       "    .dataframe thead th {\n",
       "        text-align: right;\n",
       "    }\n",
       "</style>\n",
       "<table border=\"1\" class=\"dataframe\">\n",
       "  <thead>\n",
       "    <tr style=\"text-align: right;\">\n",
       "      <th></th>\n",
       "      <th>count</th>\n",
       "      <th>mean</th>\n",
       "      <th>std</th>\n",
       "      <th>min</th>\n",
       "      <th>25%</th>\n",
       "      <th>50%</th>\n",
       "      <th>75%</th>\n",
       "      <th>max</th>\n",
       "    </tr>\n",
       "    <tr>\n",
       "      <th>subscription_type</th>\n",
       "      <th></th>\n",
       "      <th></th>\n",
       "      <th></th>\n",
       "      <th></th>\n",
       "      <th></th>\n",
       "      <th></th>\n",
       "      <th></th>\n",
       "      <th></th>\n",
       "    </tr>\n",
       "  </thead>\n",
       "  <tbody>\n",
       "    <tr>\n",
       "      <th>free</th>\n",
       "      <td>11568.0</td>\n",
       "      <td>17.0</td>\n",
       "      <td>7.0</td>\n",
       "      <td>0.0</td>\n",
       "      <td>12.0</td>\n",
       "      <td>17.0</td>\n",
       "      <td>21.0</td>\n",
       "      <td>34.0</td>\n",
       "    </tr>\n",
       "    <tr>\n",
       "      <th>ultra</th>\n",
       "      <td>6500.0</td>\n",
       "      <td>19.0</td>\n",
       "      <td>6.0</td>\n",
       "      <td>3.0</td>\n",
       "      <td>14.0</td>\n",
       "      <td>18.0</td>\n",
       "      <td>21.0</td>\n",
       "      <td>40.0</td>\n",
       "    </tr>\n",
       "  </tbody>\n",
       "</table>\n",
       "</div>"
      ],
      "text/plain": [
       "                     count  mean  std  min   25%   50%   75%   max\n",
       "subscription_type                                                 \n",
       "free               11568.0  17.0  7.0  0.0  12.0  17.0  21.0  34.0\n",
       "ultra               6500.0  19.0  6.0  3.0  14.0  18.0  21.0  40.0"
      ]
     },
     "execution_count": 37,
     "metadata": {},
     "output_type": "execute_result"
    }
   ],
   "source": [
    "sns.histplot(x = 'duration', hue = 'subscription_type', kde=True, data = data, bins = 40)\n",
    "plt.title('Гистограмма распределения продолжительности одной поездки')\n",
    "plt.xlabel('Продолжительность, мин')\n",
    "plt.ylabel('Количество поездок')\n",
    "plt.legend(['Без подписки', 'С подпиской'])\n",
    "plt.show()\n",
    "\n",
    "# посмотрим на числовое описание данных\n",
    "np.ceil(data.groupby('subscription_type')['duration'].describe())"
   ]
  },
  {
   "cell_type": "markdown",
   "id": "92db4e23",
   "metadata": {},
   "source": [
    "<b>Вывод:</b> мы видим, что пользователи без подписки арендуют самокаты на более продолжительное время. Также именно среди них была зафиксрована ошибка с использованием самоката всего полминуты. \n",
    "\n",
    "Если посмотреть на среднее значение и медиану, мы увидим, что поездки пользователей без подписки на 1-2 мин короче, чем у тех, кто оформил платную подписку. А разброс по длительности использования самоката у пользователей без подписки чуть больше."
   ]
  },
  {
   "cell_type": "markdown",
   "id": "402d620f",
   "metadata": {},
   "source": [
    "### Шаг 5. Подсчёт выручки"
   ]
  },
  {
   "cell_type": "markdown",
   "id": "2361d8cc",
   "metadata": {},
   "source": [
    "#### Создадим датафрейм с агрегированными данными о поездках"
   ]
  },
  {
   "cell_type": "markdown",
   "id": "71c1011a",
   "metadata": {},
   "source": [
    "Предварительно округлим значения в столбцах `distance` и `duration` и перезапишем их в датасет `data`.\n",
    "\n",
    "\n",
    "Продолжительность и пройденное расстояние каждой поездки в каждой строке исходного датафрейма для подсчёта стоимости округлим до следующего целого числа: например, значения 25.3, 25.5 и 26.0 преобразуем к 26."
   ]
  },
  {
   "cell_type": "code",
   "execution_count": 32,
   "id": "ee81140f",
   "metadata": {},
   "outputs": [
    {
     "data": {
      "text/html": [
       "<div>\n",
       "<style scoped>\n",
       "    .dataframe tbody tr th:only-of-type {\n",
       "        vertical-align: middle;\n",
       "    }\n",
       "\n",
       "    .dataframe tbody tr th {\n",
       "        vertical-align: top;\n",
       "    }\n",
       "\n",
       "    .dataframe thead th {\n",
       "        text-align: right;\n",
       "    }\n",
       "</style>\n",
       "<table border=\"1\" class=\"dataframe\">\n",
       "  <thead>\n",
       "    <tr style=\"text-align: right;\">\n",
       "      <th></th>\n",
       "      <th>user_id</th>\n",
       "      <th>name</th>\n",
       "      <th>age</th>\n",
       "      <th>city</th>\n",
       "      <th>subscription_type</th>\n",
       "      <th>minute_price</th>\n",
       "      <th>start_ride_price</th>\n",
       "      <th>subscription_fee</th>\n",
       "      <th>distance</th>\n",
       "      <th>duration</th>\n",
       "      <th>date</th>\n",
       "      <th>month</th>\n",
       "    </tr>\n",
       "  </thead>\n",
       "  <tbody>\n",
       "    <tr>\n",
       "      <th>0</th>\n",
       "      <td>1</td>\n",
       "      <td>Кира</td>\n",
       "      <td>22</td>\n",
       "      <td>Тюмень</td>\n",
       "      <td>ultra</td>\n",
       "      <td>6</td>\n",
       "      <td>0</td>\n",
       "      <td>199</td>\n",
       "      <td>4410</td>\n",
       "      <td>25</td>\n",
       "      <td>2021-01-01</td>\n",
       "      <td>1</td>\n",
       "    </tr>\n",
       "    <tr>\n",
       "      <th>1</th>\n",
       "      <td>1</td>\n",
       "      <td>Кира</td>\n",
       "      <td>22</td>\n",
       "      <td>Тюмень</td>\n",
       "      <td>ultra</td>\n",
       "      <td>6</td>\n",
       "      <td>0</td>\n",
       "      <td>199</td>\n",
       "      <td>2618</td>\n",
       "      <td>15</td>\n",
       "      <td>2021-01-18</td>\n",
       "      <td>1</td>\n",
       "    </tr>\n",
       "    <tr>\n",
       "      <th>2</th>\n",
       "      <td>1</td>\n",
       "      <td>Кира</td>\n",
       "      <td>22</td>\n",
       "      <td>Тюмень</td>\n",
       "      <td>ultra</td>\n",
       "      <td>6</td>\n",
       "      <td>0</td>\n",
       "      <td>199</td>\n",
       "      <td>755</td>\n",
       "      <td>6</td>\n",
       "      <td>2021-04-20</td>\n",
       "      <td>4</td>\n",
       "    </tr>\n",
       "    <tr>\n",
       "      <th>3</th>\n",
       "      <td>1</td>\n",
       "      <td>Кира</td>\n",
       "      <td>22</td>\n",
       "      <td>Тюмень</td>\n",
       "      <td>ultra</td>\n",
       "      <td>6</td>\n",
       "      <td>0</td>\n",
       "      <td>199</td>\n",
       "      <td>2695</td>\n",
       "      <td>18</td>\n",
       "      <td>2021-08-11</td>\n",
       "      <td>8</td>\n",
       "    </tr>\n",
       "    <tr>\n",
       "      <th>4</th>\n",
       "      <td>1</td>\n",
       "      <td>Кира</td>\n",
       "      <td>22</td>\n",
       "      <td>Тюмень</td>\n",
       "      <td>ultra</td>\n",
       "      <td>6</td>\n",
       "      <td>0</td>\n",
       "      <td>199</td>\n",
       "      <td>4029</td>\n",
       "      <td>26</td>\n",
       "      <td>2021-08-28</td>\n",
       "      <td>8</td>\n",
       "    </tr>\n",
       "  </tbody>\n",
       "</table>\n",
       "</div>"
      ],
      "text/plain": [
       "   user_id  name  age    city subscription_type  minute_price  \\\n",
       "0        1  Кира   22  Тюмень             ultra             6   \n",
       "1        1  Кира   22  Тюмень             ultra             6   \n",
       "2        1  Кира   22  Тюмень             ultra             6   \n",
       "3        1  Кира   22  Тюмень             ultra             6   \n",
       "4        1  Кира   22  Тюмень             ultra             6   \n",
       "\n",
       "   start_ride_price  subscription_fee  distance  duration       date  month  \n",
       "0                 0               199      4410        25 2021-01-01      1  \n",
       "1                 0               199      2618        15 2021-01-18      1  \n",
       "2                 0               199       755         6 2021-04-20      4  \n",
       "3                 0               199      2695        18 2021-08-11      8  \n",
       "4                 0               199      4029        26 2021-08-28      8  "
      ]
     },
     "execution_count": 32,
     "metadata": {},
     "output_type": "execute_result"
    }
   ],
   "source": [
    "data['distance'] = np.ceil(data['distance']).astype('int')\n",
    "data['duration'] = np.ceil(data['duration']).astype('int')\n",
    "data.head()"
   ]
  },
  {
   "cell_type": "markdown",
   "id": "c7282220",
   "metadata": {},
   "source": [
    "Создадим датафрейм `data_agg`. В нём будут данные по каждому пользователю за каждый месяц. Для этого создадим в нём новые столбцы:\n",
    "* `sum_distance` — суммарное расстояние\n",
    "* `trips_number` — количество поездок\n",
    "* `sum_duration` — суммарное время"
   ]
  },
  {
   "cell_type": "code",
   "execution_count": 49,
   "id": "5babc0e2",
   "metadata": {},
   "outputs": [
    {
     "data": {
      "text/html": [
       "<div>\n",
       "<style scoped>\n",
       "    .dataframe tbody tr th:only-of-type {\n",
       "        vertical-align: middle;\n",
       "    }\n",
       "\n",
       "    .dataframe tbody tr th {\n",
       "        vertical-align: top;\n",
       "    }\n",
       "\n",
       "    .dataframe thead th {\n",
       "        text-align: right;\n",
       "    }\n",
       "</style>\n",
       "<table border=\"1\" class=\"dataframe\">\n",
       "  <thead>\n",
       "    <tr style=\"text-align: right;\">\n",
       "      <th></th>\n",
       "      <th>user_id</th>\n",
       "      <th>month</th>\n",
       "      <th>sum_distance</th>\n",
       "      <th>sum_duration</th>\n",
       "      <th>trips_number</th>\n",
       "    </tr>\n",
       "  </thead>\n",
       "  <tbody>\n",
       "    <tr>\n",
       "      <th>0</th>\n",
       "      <td>1</td>\n",
       "      <td>1</td>\n",
       "      <td>7028</td>\n",
       "      <td>40</td>\n",
       "      <td>2</td>\n",
       "    </tr>\n",
       "    <tr>\n",
       "      <th>1</th>\n",
       "      <td>1</td>\n",
       "      <td>4</td>\n",
       "      <td>755</td>\n",
       "      <td>6</td>\n",
       "      <td>1</td>\n",
       "    </tr>\n",
       "    <tr>\n",
       "      <th>2</th>\n",
       "      <td>1</td>\n",
       "      <td>8</td>\n",
       "      <td>6724</td>\n",
       "      <td>44</td>\n",
       "      <td>2</td>\n",
       "    </tr>\n",
       "    <tr>\n",
       "      <th>3</th>\n",
       "      <td>1</td>\n",
       "      <td>10</td>\n",
       "      <td>5811</td>\n",
       "      <td>30</td>\n",
       "      <td>2</td>\n",
       "    </tr>\n",
       "    <tr>\n",
       "      <th>4</th>\n",
       "      <td>1</td>\n",
       "      <td>11</td>\n",
       "      <td>7005</td>\n",
       "      <td>53</td>\n",
       "      <td>3</td>\n",
       "    </tr>\n",
       "    <tr>\n",
       "      <th>...</th>\n",
       "      <td>...</td>\n",
       "      <td>...</td>\n",
       "      <td>...</td>\n",
       "      <td>...</td>\n",
       "      <td>...</td>\n",
       "    </tr>\n",
       "    <tr>\n",
       "      <th>11326</th>\n",
       "      <td>1534</td>\n",
       "      <td>6</td>\n",
       "      <td>3411</td>\n",
       "      <td>24</td>\n",
       "      <td>2</td>\n",
       "    </tr>\n",
       "    <tr>\n",
       "      <th>11327</th>\n",
       "      <td>1534</td>\n",
       "      <td>8</td>\n",
       "      <td>7623</td>\n",
       "      <td>46</td>\n",
       "      <td>2</td>\n",
       "    </tr>\n",
       "    <tr>\n",
       "      <th>11328</th>\n",
       "      <td>1534</td>\n",
       "      <td>9</td>\n",
       "      <td>4929</td>\n",
       "      <td>22</td>\n",
       "      <td>1</td>\n",
       "    </tr>\n",
       "    <tr>\n",
       "      <th>11329</th>\n",
       "      <td>1534</td>\n",
       "      <td>11</td>\n",
       "      <td>13353</td>\n",
       "      <td>74</td>\n",
       "      <td>4</td>\n",
       "    </tr>\n",
       "    <tr>\n",
       "      <th>11330</th>\n",
       "      <td>1534</td>\n",
       "      <td>12</td>\n",
       "      <td>2372</td>\n",
       "      <td>15</td>\n",
       "      <td>1</td>\n",
       "    </tr>\n",
       "  </tbody>\n",
       "</table>\n",
       "<p>11331 rows × 5 columns</p>\n",
       "</div>"
      ],
      "text/plain": [
       "       user_id  month  sum_distance  sum_duration  trips_number\n",
       "0            1      1          7028            40             2\n",
       "1            1      4           755             6             1\n",
       "2            1      8          6724            44             2\n",
       "3            1     10          5811            30             2\n",
       "4            1     11          7005            53             3\n",
       "...        ...    ...           ...           ...           ...\n",
       "11326     1534      6          3411            24             2\n",
       "11327     1534      8          7623            46             2\n",
       "11328     1534      9          4929            22             1\n",
       "11329     1534     11         13353            74             4\n",
       "11330     1534     12          2372            15             1\n",
       "\n",
       "[11331 rows x 5 columns]"
      ]
     },
     "execution_count": 49,
     "metadata": {},
     "output_type": "execute_result"
    }
   ],
   "source": [
    "data_agg = (data.groupby(['user_id', 'month']).agg(\n",
    "    {'distance':'sum','duration':['sum', 'count']})\n",
    ").reset_index()\n",
    "\n",
    "data_agg.columns=['user_id', 'month', 'sum_distance', 'sum_duration', 'trips_number']\n",
    "data_agg"
   ]
  },
  {
   "cell_type": "markdown",
   "id": "c09843fb",
   "metadata": {},
   "source": [
    "#### В этот же датафрейм добавим столбец с помесячной выручкой, которую принёс каждый пользователь"
   ]
  },
  {
   "cell_type": "markdown",
   "id": "b0607408",
   "metadata": {},
   "source": [
    "Сначала добавим необходимые данные для расчёта, а именно: объединим агрегированный датасет `data_agg` с данными из `users` и `subscriptions`."
   ]
  },
  {
   "cell_type": "code",
   "execution_count": null,
   "id": "2dffdcd7",
   "metadata": {},
   "outputs": [],
   "source": [
    "data_agg = data_agg.merge(users, how='left', on='user_id')\n",
    "data_agg = data_agg.merge(subscriptions, how = 'left', on='subscription_type')\n",
    "data_agg"
   ]
  },
  {
   "cell_type": "markdown",
   "id": "178f4a3e",
   "metadata": {},
   "source": [
    "Теперь можем добавить в `data_agg` столбец с помесячной выручкой, которую принёс каждый пользователь. Назовём его `month_revenue`."
   ]
  },
  {
   "cell_type": "code",
   "execution_count": null,
   "id": "05216489",
   "metadata": {
    "scrolled": false
   },
   "outputs": [],
   "source": [
    "data_agg['month_revenue'] = data_agg['start_ride_price'] * data_agg['trips_number'] + data_agg['minute_price'] * data_agg['sum_duration'] + data_agg['subscription_fee']\n",
    "data_agg"
   ]
  },
  {
   "cell_type": "markdown",
   "id": "41545ac0",
   "metadata": {},
   "source": [
    "### Шаг 6. Проверка гипотез"
   ]
  },
  {
   "cell_type": "markdown",
   "id": "a0fcb451",
   "metadata": {},
   "source": [
    "Продакт-менеджеры сервиса хотят увеличить количество пользователей с подпиской. Для этого они будут проводить различные акции, но сначала нужно выяснить несколько важных моментов."
   ]
  },
  {
   "cell_type": "markdown",
   "id": "a7875a2d",
   "metadata": {},
   "source": [
    "#### Тратят ли пользователи с подпиской больше времени на поездки?"
   ]
  },
  {
   "cell_type": "markdown",
   "id": "fd279951",
   "metadata": {},
   "source": [
    "Уровень стат. значимости установим 0,5%."
   ]
  },
  {
   "cell_type": "markdown",
   "id": "0c5e0bf9",
   "metadata": {},
   "source": [
    "<b>Выдивинем гипотезы:</b>\\\n",
    "<b>H0</b> : среднее значение трат времени на поездку пользователей с подпиской и без неё равно.\\\n",
    "<b>H1</b> : среднее значение трат времени на поездку пользователей с подпиской больше, чем пользователей без подписки."
   ]
  },
  {
   "cell_type": "code",
   "execution_count": null,
   "id": "1fa74580",
   "metadata": {
    "scrolled": true
   },
   "outputs": [],
   "source": [
    "# задаём уровень значимости\n",
    "alpha = 0.05\n",
    "\n",
    "# проводим ttest для двух выборок, в качестве альтернативной используем одностороннюю гипотезу «больше»\n",
    "results = st.ttest_ind(data_ultra['duration'], data_free['duration'], alternative='greater')\n",
    "\n",
    "print(f'p-value: {results.pvalue}')\n",
    "\n",
    "# проверяем p-value\n",
    "if results.pvalue < alpha:\n",
    "    print('Отвергаем нулевую гипотезу => среднее значение трат времени на поездку пользователей с подпиской больше, чем пользователей без подписки')\n",
    "else:\n",
    "    print('Нет оснований отвергнуть нулевую гипотезу => среднее значение трат времени на поездку пользователей с подпиской и без неё равно')"
   ]
  },
  {
   "cell_type": "markdown",
   "id": "21a3f026",
   "metadata": {},
   "source": [
    "<b>Вывод:</b> есть основания говорить, что пользователи с подпиской тратят в сервисе больше времени на поездки. Как следствие —  они могут быть «выгоднее» для компании."
   ]
  },
  {
   "cell_type": "markdown",
   "id": "06f55a12",
   "metadata": {},
   "source": [
    "#### Можно ли сказать, что среднее расстояние, которое проезжают пользователи с подпиской за одну поездку, не превышает 3130 метров (оптимальное расстояние одной поездки с точки зрения износа самоката)? "
   ]
  },
  {
   "cell_type": "markdown",
   "id": "9281662e",
   "metadata": {},
   "source": [
    "Уровень стат. значимости установим 0,5%."
   ]
  },
  {
   "cell_type": "markdown",
   "id": "c623ebe2",
   "metadata": {},
   "source": [
    "<b>Выдивинем гипотезы:</b>\\\n",
    "<b>H0</b> : среднее расстояние поездки у пользователей с подпиской равно 3130 м.\\\n",
    "<b>H1</b> : среднее расстояние поездки у пользователей с подпиской больше 3130 м."
   ]
  },
  {
   "cell_type": "code",
   "execution_count": null,
   "id": "83fa2b50",
   "metadata": {},
   "outputs": [],
   "source": [
    "# износ самоката\n",
    "wear_tear = 3130\n",
    "\n",
    "# задаём уровень значимости\n",
    "alpha = 0.05\n",
    "\n",
    "# проводим ttest для одной выборки, в качестве альтернативной используем одностороннюю гипотезу «больше»\n",
    "results = st.ttest_1samp(data_ultra['distance'], wear_tear, alternative='greater')\n",
    "\n",
    "print(f'p-value: {results.pvalue}')\n",
    "\n",
    "# проверяем p-value\n",
    "if results.pvalue < alpha:\n",
    "    print('Отвергаем нулевую гипотезу => среднее расстояние поездки у пользователей с подпиской больше 3130 м')\n",
    "else:\n",
    "    print('Нет оснований отвергнуть нулевую гипотезу => среднее расстояние поездки у пользователей с подпиской меньше или равно 3130 м')"
   ]
  },
  {
   "cell_type": "markdown",
   "id": "4f74d6bf",
   "metadata": {},
   "source": [
    "<b>Вывод:</b> есть основания говорить, что среднее расстояние, которое проезжают пользователи с подпиской за одну поездку, не превышает 3130 м."
   ]
  },
  {
   "cell_type": "markdown",
   "id": "b3acf957",
   "metadata": {},
   "source": [
    "#### Будет ли помесячная выручка от пользователей с подпиской по месяцам выше, чем выручка от пользователей без подписки?"
   ]
  },
  {
   "cell_type": "markdown",
   "id": "a8a822a0",
   "metadata": {},
   "source": [
    "Уровень стат. значимости установим 0,5%."
   ]
  },
  {
   "cell_type": "markdown",
   "id": "4132613d",
   "metadata": {},
   "source": [
    "<b>Выдивинем гипотезы:</b>\\\n",
    "<b>H0</b> : средняя помесячная выручка от пользователей с подпиской и без подписки по месяцам одинакова.\\\n",
    "<b>H1</b> : средняя помесячная выручка от пользователей с подпиской по месяцам выше, чем выручка от пользователей без подписки."
   ]
  },
  {
   "cell_type": "code",
   "execution_count": null,
   "id": "c78e5f6a",
   "metadata": {},
   "outputs": [],
   "source": [
    "ultra = data_agg.query('subscription_type == \"ultra\"')\n",
    "ultra['month_revenue']\n",
    "free = data_agg.query('subscription_type == \"free\"')\n",
    "free['month_revenue']\n",
    "\n",
    "# задаём уровень значимости\n",
    "alpha = 0.05\n",
    "\n",
    "# проводим ttest для двух выборок, в качестве альтернативной используем одностороннюю гипотезу «больше»\n",
    "results = st.ttest_ind(ultra['month_revenue'], free['month_revenue'], alternative='greater')\n",
    "\n",
    "print(f'p-value: {results.pvalue}')\n",
    "\n",
    "# проверяем p-value\n",
    "if results.pvalue < alpha:\n",
    "    print('Отвергаем нулевую гипотезу => средняя помесячная выручка от пользователей с подпиской по месяцам выше, чем выручка от пользователей без подписки')\n",
    "else:\n",
    "    print('Нет оснований отвергнуть нулевую гипотезу => средняя помесячная выручка от пользователей с подпиской и без подписки по месяцам одинакова')"
   ]
  },
  {
   "cell_type": "markdown",
   "id": "65111722",
   "metadata": {},
   "source": [
    "<b>Вывод:</b> есть основания говорить, что помесячная выручка от пользователей с подпиской по месяцам выше, чем выручка от пользователей без подписки."
   ]
  },
  {
   "cell_type": "markdown",
   "id": "0d916e68",
   "metadata": {},
   "source": [
    "#### Кейс\n",
    "\n",
    "<b>Представьте такую ситуацию:</b> техническая команда сервиса обновила сервера, с которыми взаимодействует мобильное приложение. Она надеется, что из-за этого количество обращений в техподдержку значимо снизилось. Некоторый файл содержит для каждого пользователя данные о количестве обращений до обновления и после него. Какой тест вам понадобился бы для проверки этой гипотезы?"
   ]
  },
  {
   "cell_type": "markdown",
   "id": "95a0fb12",
   "metadata": {},
   "source": [
    "<b>Ответ:</b>\n",
    "в данном случае мы имеем две зависимые выборки, а именно данные о количестве обращений до обновления и после него. И в этом случае нам нужно будет проверить, равны ли средние совокупности до и после этого изменения.\n",
    "\n",
    "Нужно будет применить метод <b>scipy.stats.ttest_rel()</b>.\n",
    "\n",
    "Гипотезы в таком случае будут сформулированы так:\\\n",
    "<b>H0</b> : μ1 = μ2\\\n",
    "<b>H1</b> : μ2 < μ1,\\\n",
    "где μ1 и μ2  — средние значения до и после изменения."
   ]
  },
  {
   "cell_type": "markdown",
   "id": "2a7b8369",
   "metadata": {},
   "source": [
    "### Общий вывод"
   ]
  },
  {
   "cell_type": "markdown",
   "id": "2b0e1bc8",
   "metadata": {},
   "source": [
    "Для исследования нам была переданы данные сервиса GoFast — архив данных о некоторых пользователях из нескольких городов (Тюмень, Омск, Москва, Ростов-на-Дону, Краснодар, Пятигорск, Екатеринбург, Сочи), а также об их поездках. <b>Статистика содержит информацию:</b>\n",
    "\n",
    "Об условиях двух тарифов — с подпиской и без неё. А именно:\n",
    "\n",
    "* тип подписки\n",
    "* стоимость одной минуты поездки по данной подписке\n",
    "* стоимость начала поездки\n",
    "* стоимость ежемесячного платежа\n",
    "\n",
    "О том какими были поездки:\n",
    "\n",
    "* уникальный идентификатор пользователя\n",
    "* расстояние, которое пользователь проехал в текущей сессии (в метрах)\n",
    "* продолжительность сессии (в минутах) — время с того момента, как пользователь нажал кнопку «Начать поездку» до момента, как он нажал кнопку «Завершить поездку»\n",
    "* дата совершения поездки\n",
    "\n",
    "Об основных характеристиках пользователей:\n",
    "\n",
    "* уникальный идентификатор пользователя\n",
    "* имя пользователя\n",
    "* возраст\n",
    "* город\n",
    "* тип подписки (free, ultra)\n",
    "\n",
    "На стадии предобработки в данных были обнаружены и обработны нарушения — некорректные типы данных, явные дубликаты. Пропущенных значений, некорректных названий столбцов, неявных дубликатов обнаружено не было. \n",
    "\n",
    "<b>Из дополнительных преобразований, мы создали дополнительные датасеты:</b>\n",
    "\n",
    "* `data` — датафрейм объединивший три датасета `users`, `subscriptions` и `rides` (предварительно в нём создав столбец `month` - с номером месяца на основе столбца `date`) в один с помощью метода merge()\n",
    "* `data_free` — датафрейм с данными о пользователях без подписки\n",
    "* `data_ultra` — датафрейм с данными о пользователях с подпиской\n",
    "* `data_agg` — датафрейм с агрегированными данными о поездках. В нём данные по каждому пользователю за каждый месяц. Для этого создали в нём новые столбцы:\n",
    " - `sum_distance` — суммарное расстояние\n",
    " - `trips_number` — количество поездок\n",
    " - `sum_duration` — суммарное время\n",
    " - `month_revenue` — помесячная выручка, которую принёс каждый пользователь (предварительно объединив агрегированный датасет `data_agg` с данными из датасетов `users` и `subscriptions` для рассчёта)\n",
    "\n",
    "В процессе исследовательского анализа данных нами были исключены дубли в датасете `users`. В ходе чего количество строк сократилось с 1563 до 1532, т.е. на 2%.\n",
    "\n",
    "<b>В ходе исследования мы выявили следующее:</b>\n",
    "\n",
    "\n",
    "* Сервис аренды самокатов наиболее популярен в Пятигорске и Екатеринбурге, а Москва, напротив, замыкает этот список с существенным отрывом.\\\n",
    "\\\n",
    "Это может быть связано с тем, что в Москве комфортная транспортная доступность и большие расстояние - люди чаще пользуются метро, такси или личным автомобилем. Самокат хоть и удобен, но жителям столицы не так часто приходится к нему прибегать.\n",
    "\n",
    "\n",
    "* Число пользователей оформивших подписку и тех, кто выбрал бесплатное использование сервиса примерно равно. Тем не менее, пользователей без подписки на 8,8% больше.\n",
    "\n",
    "\n",
    "* Средний возраст тех, кто ездит на самокатах - 25 лет. Самому младшему 12 лет, а самому старшему - 43 года. При этом мы также видим несколько выбросов, особенно среди представителей старшего поколения.\n",
    "\n",
    "\n",
    "* Чаще всего пользователи проезжают на самокате чуть больше 3 км.\\\n",
    "\\\n",
    "Важно отметить, что на графике мы увидели два пика (около 700 м и чуть более 3 км). Это может говорить о том, что:\n",
    " - есть два типа поездок: на короткие расстояния (к примеру, до метро) и более продолжительные;\n",
    " - те, кто проезжают меньше 1 км могут тестировать этот вид транспорта, насколько он для них удобен.\n",
    "\n",
    "\n",
    "* Средняя продолжительность одной поездки чуть более 17,5 минут. Чаще всего самокатом пользуются 10-25 мин.\\\n",
    "\\\n",
    "Также мы заметили странные скученные выбросы, которые стабильно длятся полминуты. И таких одинаковых выбросов целых 95. При этом, судя по данным, за это время пользователь преодолевает солидные расстояния от 4 до 7 км. Очевидно, что это ошибка, но не известно какой именно показатель записался некорректно. Поэтому заменять или удалять значения мы не стали, но имеем ввиду, что не все данные корректные. \n",
    "\n",
    "\n",
    "* Пользователи без подписки составляют большую часть малого пика с короткими поездками (в 2 раза превышая количество пользователей с подпиской). А пользователи у которых есть подписка чаще склонны совершать более длительные поездки. Если рассматривать расстояние поездок в целом, то у пользователей без подписки бОльший диапазон расстояния поездок.\\\n",
    "\\\n",
    "Если рассматривать расстояние поездок в целом, то у пользователей без подписки бОльший диапазон расстояния поездок (от 1 до 3906 м в противовес от 245 до 3561 м). Эти данные подкрепляет и стандартное отклонение, которое у пользователей без подписки составляет 1247 м, когда у тех, кто подписку оформил - 837 м.\\\n",
    "\\\n",
    "Среднее расстояние при использовании бесплатной подписки короче. Об этом говорят среднее значение и медиана, которые меньше, чем при использовании платной подписки.\n",
    "\n",
    "\n",
    "* Пользователи без подписки арендуют самокаты на более продолжительное время. Также именно среди них была зафиксрована ошибка с использованием самоката всего полминуты.\\\n",
    "\\\n",
    "Если посмотреть на среднее значение и медиану, мы увидим, что поездки пользователей без подписки на 1-2 мин короче, чем у тех, кто оформил платную подписку. А разброс по длительности использования самоката у пользователей без подписки чуть больше.\n",
    "\n",
    "\n",
    "<b>Проверка гипотез:</b>\n",
    "\n",
    "* Есть основания говорить, что пользователи с подпиской тратят в сервисе больше времени на поездки. Как следствие — они могут быть «выгоднее» для компании.\n",
    "\n",
    "* Есть основания говорить, что среднее расстояние, которое проезжают пользователи с подпиской за одну поездку, не превышает 3130 м.\n",
    "\n",
    "* Есть основания говорить, что помесячная выручка от пользователей с подпиской по месяцам выше, чем выручка от пользователей без подписки.\n",
    "\n",
    "<b>Итог:</b>\\\n",
    "Сервису аренды самокатов GoFast более «выгодны» пользователи с подпиской, чем без неё."
   ]
  }
 ],
 "metadata": {
  "ExecuteTimeLog": [
   {
    "duration": 4,
    "start_time": "2024-02-13T17:34:04.862Z"
   },
   {
    "duration": 1412,
    "start_time": "2024-02-13T17:35:04.117Z"
   },
   {
    "duration": 2,
    "start_time": "2024-02-13T17:35:07.715Z"
   },
   {
    "duration": 300,
    "start_time": "2024-02-13T17:39:00.943Z"
   },
   {
    "duration": 201,
    "start_time": "2024-02-13T17:39:46.167Z"
   },
   {
    "duration": 74,
    "start_time": "2024-02-13T17:41:02.466Z"
   },
   {
    "duration": 11,
    "start_time": "2024-02-13T17:41:08.575Z"
   },
   {
    "duration": 7,
    "start_time": "2024-02-13T17:41:13.375Z"
   },
   {
    "duration": 6,
    "start_time": "2024-02-13T17:41:14.542Z"
   },
   {
    "duration": 74,
    "start_time": "2024-02-13T17:43:32.348Z"
   },
   {
    "duration": 12,
    "start_time": "2024-02-13T17:45:11.033Z"
   },
   {
    "duration": 76,
    "start_time": "2024-02-13T17:45:11.960Z"
   },
   {
    "duration": 16,
    "start_time": "2024-02-13T17:45:19.003Z"
   },
   {
    "duration": 11,
    "start_time": "2024-02-13T17:45:20.179Z"
   },
   {
    "duration": 1242,
    "start_time": "2024-02-13T17:47:10.783Z"
   },
   {
    "duration": 188,
    "start_time": "2024-02-13T17:47:12.027Z"
   },
   {
    "duration": 12,
    "start_time": "2024-02-13T17:47:12.216Z"
   },
   {
    "duration": 8,
    "start_time": "2024-02-13T17:47:12.229Z"
   },
   {
    "duration": 24,
    "start_time": "2024-02-13T17:47:12.239Z"
   },
   {
    "duration": 17,
    "start_time": "2024-02-13T17:47:12.265Z"
   },
   {
    "duration": 16,
    "start_time": "2024-02-13T17:47:12.283Z"
   },
   {
    "duration": 15,
    "start_time": "2024-02-13T17:47:12.300Z"
   },
   {
    "duration": 1046,
    "start_time": "2024-02-25T20:47:56.187Z"
   },
   {
    "duration": 307,
    "start_time": "2024-02-25T20:47:57.236Z"
   },
   {
    "duration": 15,
    "start_time": "2024-02-25T20:47:57.545Z"
   },
   {
    "duration": 8,
    "start_time": "2024-02-25T20:47:57.562Z"
   },
   {
    "duration": 10,
    "start_time": "2024-02-25T20:47:57.571Z"
   },
   {
    "duration": 10,
    "start_time": "2024-02-25T20:47:57.582Z"
   },
   {
    "duration": 9,
    "start_time": "2024-02-25T20:47:57.594Z"
   },
   {
    "duration": 32,
    "start_time": "2024-02-25T20:47:57.605Z"
   },
   {
    "duration": 302,
    "start_time": "2024-02-25T20:47:57.640Z"
   },
   {
    "duration": 289,
    "start_time": "2024-02-25T20:47:57.946Z"
   },
   {
    "duration": 248,
    "start_time": "2024-02-25T20:47:58.238Z"
   },
   {
    "duration": 4,
    "start_time": "2024-02-25T20:47:58.487Z"
   },
   {
    "duration": 36,
    "start_time": "2024-02-25T20:47:58.492Z"
   },
   {
    "duration": 26,
    "start_time": "2024-02-25T20:47:58.529Z"
   },
   {
    "duration": 17,
    "start_time": "2024-02-25T20:47:58.556Z"
   },
   {
    "duration": 13,
    "start_time": "2024-02-25T20:47:58.574Z"
   },
   {
    "duration": 23,
    "start_time": "2024-02-25T20:47:58.588Z"
   },
   {
    "duration": 20,
    "start_time": "2024-02-25T20:47:58.612Z"
   },
   {
    "duration": 10,
    "start_time": "2024-02-25T20:47:58.633Z"
   },
   {
    "duration": 14,
    "start_time": "2024-02-25T20:47:58.645Z"
   },
   {
    "duration": 19,
    "start_time": "2024-02-25T20:47:58.661Z"
   },
   {
    "duration": 156,
    "start_time": "2024-02-25T20:47:58.682Z"
   },
   {
    "duration": 151,
    "start_time": "2024-02-25T20:47:58.840Z"
   },
   {
    "duration": 374,
    "start_time": "2024-02-25T20:47:58.992Z"
   },
   {
    "duration": 346,
    "start_time": "2024-02-25T20:47:59.367Z"
   },
   {
    "duration": 383,
    "start_time": "2024-02-25T20:47:59.714Z"
   },
   {
    "duration": 160,
    "start_time": "2024-02-25T20:48:00.099Z"
   },
   {
    "duration": 14,
    "start_time": "2024-02-25T20:48:00.262Z"
   },
   {
    "duration": 51,
    "start_time": "2024-02-25T20:48:00.278Z"
   },
   {
    "duration": 39,
    "start_time": "2024-02-25T20:48:00.331Z"
   },
   {
    "duration": 74,
    "start_time": "2024-02-25T20:48:00.372Z"
   },
   {
    "duration": 852,
    "start_time": "2024-02-25T20:48:00.448Z"
   },
   {
    "duration": 819,
    "start_time": "2024-02-25T20:48:01.302Z"
   },
   {
    "duration": 28,
    "start_time": "2024-02-25T20:48:02.122Z"
   },
   {
    "duration": 26,
    "start_time": "2024-02-25T20:48:02.152Z"
   },
   {
    "duration": 22,
    "start_time": "2024-02-25T20:48:02.179Z"
   },
   {
    "duration": 30,
    "start_time": "2024-02-25T20:48:02.203Z"
   },
   {
    "duration": 10,
    "start_time": "2024-02-25T20:48:02.236Z"
   },
   {
    "duration": 28,
    "start_time": "2024-02-25T20:48:02.248Z"
   },
   {
    "duration": 25,
    "start_time": "2024-02-25T20:57:12.183Z"
   },
   {
    "duration": 9,
    "start_time": "2024-02-25T21:00:02.287Z"
   },
   {
    "duration": 1104,
    "start_time": "2024-02-25T21:03:51.341Z"
   },
   {
    "duration": 173,
    "start_time": "2024-02-25T21:03:52.448Z"
   },
   {
    "duration": 13,
    "start_time": "2024-02-25T21:03:52.623Z"
   },
   {
    "duration": 15,
    "start_time": "2024-02-25T21:03:52.638Z"
   },
   {
    "duration": 16,
    "start_time": "2024-02-25T21:03:52.656Z"
   },
   {
    "duration": 31,
    "start_time": "2024-02-25T21:03:52.673Z"
   },
   {
    "duration": 10,
    "start_time": "2024-02-25T21:03:52.706Z"
   },
   {
    "duration": 10,
    "start_time": "2024-02-25T21:03:52.718Z"
   },
   {
    "duration": 299,
    "start_time": "2024-02-25T21:03:52.730Z"
   },
   {
    "duration": 257,
    "start_time": "2024-02-25T21:03:53.032Z"
   },
   {
    "duration": 224,
    "start_time": "2024-02-25T21:03:53.290Z"
   },
   {
    "duration": 3,
    "start_time": "2024-02-25T21:03:53.515Z"
   },
   {
    "duration": 22,
    "start_time": "2024-02-25T21:03:53.520Z"
   },
   {
    "duration": 14,
    "start_time": "2024-02-25T21:03:53.545Z"
   },
   {
    "duration": 4,
    "start_time": "2024-02-25T21:03:53.560Z"
   },
   {
    "duration": 10,
    "start_time": "2024-02-25T21:03:53.566Z"
   },
   {
    "duration": 4,
    "start_time": "2024-02-25T21:03:53.577Z"
   },
   {
    "duration": 8,
    "start_time": "2024-02-25T21:03:53.582Z"
   },
   {
    "duration": 4,
    "start_time": "2024-02-25T21:03:53.592Z"
   },
   {
    "duration": 16,
    "start_time": "2024-02-25T21:03:53.597Z"
   },
   {
    "duration": 12,
    "start_time": "2024-02-25T21:03:53.632Z"
   },
   {
    "duration": 167,
    "start_time": "2024-02-25T21:03:53.646Z"
   },
   {
    "duration": 138,
    "start_time": "2024-02-25T21:03:53.814Z"
   },
   {
    "duration": 361,
    "start_time": "2024-02-25T21:03:53.954Z"
   },
   {
    "duration": 369,
    "start_time": "2024-02-25T21:03:54.316Z"
   },
   {
    "duration": 352,
    "start_time": "2024-02-25T21:03:54.686Z"
   },
   {
    "duration": 170,
    "start_time": "2024-02-25T21:03:55.040Z"
   },
   {
    "duration": 24,
    "start_time": "2024-02-25T21:03:55.212Z"
   },
   {
    "duration": 28,
    "start_time": "2024-02-25T21:03:55.238Z"
   },
   {
    "duration": 17,
    "start_time": "2024-02-25T21:03:55.267Z"
   },
   {
    "duration": 29,
    "start_time": "2024-02-25T21:03:55.285Z"
   },
   {
    "duration": 759,
    "start_time": "2024-02-25T21:03:55.316Z"
   },
   {
    "duration": 782,
    "start_time": "2024-02-25T21:03:56.077Z"
   },
   {
    "duration": 24,
    "start_time": "2024-02-25T21:03:56.861Z"
   },
   {
    "duration": 24,
    "start_time": "2024-02-25T21:03:56.887Z"
   },
   {
    "duration": 47,
    "start_time": "2024-02-25T21:03:56.913Z"
   },
   {
    "duration": 14,
    "start_time": "2024-02-25T21:03:56.962Z"
   },
   {
    "duration": 24,
    "start_time": "2024-02-25T21:03:56.978Z"
   },
   {
    "duration": 15,
    "start_time": "2024-02-25T21:03:57.004Z"
   },
   {
    "duration": 1231,
    "start_time": "2024-02-25T21:05:18.746Z"
   },
   {
    "duration": 173,
    "start_time": "2024-02-25T21:05:19.979Z"
   },
   {
    "duration": 12,
    "start_time": "2024-02-25T21:05:20.154Z"
   },
   {
    "duration": 28,
    "start_time": "2024-02-25T21:05:20.168Z"
   },
   {
    "duration": 9,
    "start_time": "2024-02-25T21:05:20.198Z"
   },
   {
    "duration": 11,
    "start_time": "2024-02-25T21:05:20.208Z"
   },
   {
    "duration": 26,
    "start_time": "2024-02-25T21:05:20.220Z"
   },
   {
    "duration": 14,
    "start_time": "2024-02-25T21:05:20.247Z"
   },
   {
    "duration": 324,
    "start_time": "2024-02-25T21:05:20.262Z"
   },
   {
    "duration": 320,
    "start_time": "2024-02-25T21:05:20.588Z"
   },
   {
    "duration": 264,
    "start_time": "2024-02-25T21:05:20.909Z"
   },
   {
    "duration": 4,
    "start_time": "2024-02-25T21:05:21.174Z"
   },
   {
    "duration": 13,
    "start_time": "2024-02-25T21:05:21.179Z"
   },
   {
    "duration": 20,
    "start_time": "2024-02-25T21:05:21.193Z"
   },
   {
    "duration": 20,
    "start_time": "2024-02-25T21:05:21.215Z"
   },
   {
    "duration": 7,
    "start_time": "2024-02-25T21:05:21.237Z"
   },
   {
    "duration": 9,
    "start_time": "2024-02-25T21:05:21.246Z"
   },
   {
    "duration": 8,
    "start_time": "2024-02-25T21:05:21.257Z"
   },
   {
    "duration": 6,
    "start_time": "2024-02-25T21:05:21.266Z"
   },
   {
    "duration": 6,
    "start_time": "2024-02-25T21:05:21.273Z"
   },
   {
    "duration": 57,
    "start_time": "2024-02-25T21:05:21.281Z"
   },
   {
    "duration": 166,
    "start_time": "2024-02-25T21:05:21.341Z"
   },
   {
    "duration": 140,
    "start_time": "2024-02-25T21:05:21.509Z"
   },
   {
    "duration": 420,
    "start_time": "2024-02-25T21:05:21.651Z"
   },
   {
    "duration": 412,
    "start_time": "2024-02-25T21:05:22.073Z"
   },
   {
    "duration": 397,
    "start_time": "2024-02-25T21:05:22.487Z"
   },
   {
    "duration": 183,
    "start_time": "2024-02-25T21:05:22.886Z"
   },
   {
    "duration": 15,
    "start_time": "2024-02-25T21:05:23.072Z"
   },
   {
    "duration": 25,
    "start_time": "2024-02-25T21:05:23.088Z"
   },
   {
    "duration": 33,
    "start_time": "2024-02-25T21:05:23.115Z"
   },
   {
    "duration": 15,
    "start_time": "2024-02-25T21:05:23.150Z"
   },
   {
    "duration": 762,
    "start_time": "2024-02-25T21:05:23.167Z"
   },
   {
    "duration": 862,
    "start_time": "2024-02-25T21:05:23.930Z"
   },
   {
    "duration": 23,
    "start_time": "2024-02-25T21:05:24.793Z"
   },
   {
    "duration": 51,
    "start_time": "2024-02-25T21:05:24.818Z"
   },
   {
    "duration": 26,
    "start_time": "2024-02-25T21:05:24.870Z"
   },
   {
    "duration": 5,
    "start_time": "2024-02-25T21:05:24.898Z"
   },
   {
    "duration": 33,
    "start_time": "2024-02-25T21:05:24.904Z"
   },
   {
    "duration": 17,
    "start_time": "2024-02-25T21:05:24.940Z"
   },
   {
    "duration": 1224,
    "start_time": "2024-02-26T21:34:42.750Z"
   },
   {
    "duration": 183,
    "start_time": "2024-02-26T21:34:43.976Z"
   },
   {
    "duration": 11,
    "start_time": "2024-02-26T21:34:44.161Z"
   },
   {
    "duration": 10,
    "start_time": "2024-02-26T21:34:44.174Z"
   },
   {
    "duration": 14,
    "start_time": "2024-02-26T21:34:44.185Z"
   },
   {
    "duration": 18,
    "start_time": "2024-02-26T21:34:44.201Z"
   },
   {
    "duration": 12,
    "start_time": "2024-02-26T21:34:44.221Z"
   },
   {
    "duration": 12,
    "start_time": "2024-02-26T21:34:44.235Z"
   },
   {
    "duration": 15,
    "start_time": "2024-02-26T21:34:44.265Z"
   },
   {
    "duration": 4,
    "start_time": "2024-02-26T21:34:44.282Z"
   },
   {
    "duration": 9,
    "start_time": "2024-02-26T21:34:44.288Z"
   },
   {
    "duration": 5,
    "start_time": "2024-02-26T21:34:44.299Z"
   },
   {
    "duration": 11,
    "start_time": "2024-02-26T21:34:44.305Z"
   },
   {
    "duration": 6,
    "start_time": "2024-02-26T21:34:44.317Z"
   },
   {
    "duration": 7,
    "start_time": "2024-02-26T21:34:44.324Z"
   },
   {
    "duration": 6,
    "start_time": "2024-02-26T21:34:44.366Z"
   },
   {
    "duration": 7,
    "start_time": "2024-02-26T21:34:44.374Z"
   },
   {
    "duration": 176,
    "start_time": "2024-02-26T21:34:44.382Z"
   },
   {
    "duration": 90,
    "start_time": "2024-02-26T21:34:44.560Z"
   },
   {
    "duration": 285,
    "start_time": "2024-02-26T21:34:44.651Z"
   },
   {
    "duration": 362,
    "start_time": "2024-02-26T21:34:44.938Z"
   },
   {
    "duration": 371,
    "start_time": "2024-02-26T21:34:45.302Z"
   },
   {
    "duration": 250,
    "start_time": "2024-02-26T21:34:45.675Z"
   },
   {
    "duration": 17,
    "start_time": "2024-02-26T21:34:45.927Z"
   },
   {
    "duration": 35,
    "start_time": "2024-02-26T21:34:45.946Z"
   },
   {
    "duration": 18,
    "start_time": "2024-02-26T21:34:45.983Z"
   },
   {
    "duration": 8,
    "start_time": "2024-02-26T21:34:46.002Z"
   },
   {
    "duration": 17,
    "start_time": "2024-02-26T21:34:46.012Z"
   },
   {
    "duration": 43,
    "start_time": "2024-02-26T21:34:46.031Z"
   },
   {
    "duration": 763,
    "start_time": "2024-02-26T21:34:46.076Z"
   },
   {
    "duration": 760,
    "start_time": "2024-02-26T21:34:46.841Z"
   },
   {
    "duration": 12,
    "start_time": "2024-02-26T21:34:47.603Z"
   },
   {
    "duration": 24,
    "start_time": "2024-02-26T21:34:47.617Z"
   },
   {
    "duration": 45,
    "start_time": "2024-02-26T21:34:47.643Z"
   },
   {
    "duration": 17,
    "start_time": "2024-02-26T21:34:47.689Z"
   },
   {
    "duration": 5,
    "start_time": "2024-02-26T21:34:47.708Z"
   },
   {
    "duration": 9,
    "start_time": "2024-02-26T21:34:47.714Z"
   },
   {
    "duration": 18,
    "start_time": "2024-02-26T21:34:47.725Z"
   },
   {
    "duration": 27,
    "start_time": "2024-02-26T21:39:27.208Z"
   },
   {
    "duration": 1140,
    "start_time": "2024-02-26T21:45:55.274Z"
   },
   {
    "duration": 186,
    "start_time": "2024-02-26T21:45:56.416Z"
   },
   {
    "duration": 11,
    "start_time": "2024-02-26T21:45:56.603Z"
   },
   {
    "duration": 17,
    "start_time": "2024-02-26T21:45:56.615Z"
   },
   {
    "duration": 10,
    "start_time": "2024-02-26T21:45:56.634Z"
   },
   {
    "duration": 12,
    "start_time": "2024-02-26T21:45:56.646Z"
   },
   {
    "duration": 17,
    "start_time": "2024-02-26T21:45:56.660Z"
   },
   {
    "duration": 15,
    "start_time": "2024-02-26T21:45:56.679Z"
   },
   {
    "duration": 22,
    "start_time": "2024-02-26T21:45:56.696Z"
   },
   {
    "duration": 5,
    "start_time": "2024-02-26T21:45:56.721Z"
   },
   {
    "duration": 20,
    "start_time": "2024-02-26T21:45:56.727Z"
   },
   {
    "duration": 21,
    "start_time": "2024-02-26T21:45:56.748Z"
   },
   {
    "duration": 10,
    "start_time": "2024-02-26T21:45:56.770Z"
   },
   {
    "duration": 5,
    "start_time": "2024-02-26T21:45:56.782Z"
   },
   {
    "duration": 24,
    "start_time": "2024-02-26T21:45:56.789Z"
   },
   {
    "duration": 25,
    "start_time": "2024-02-26T21:45:56.815Z"
   },
   {
    "duration": 14,
    "start_time": "2024-02-26T21:45:56.842Z"
   },
   {
    "duration": 155,
    "start_time": "2024-02-26T21:45:56.857Z"
   },
   {
    "duration": 89,
    "start_time": "2024-02-26T21:45:57.014Z"
   },
   {
    "duration": 274,
    "start_time": "2024-02-26T21:45:57.105Z"
   },
   {
    "duration": 348,
    "start_time": "2024-02-26T21:45:57.381Z"
   },
   {
    "duration": 350,
    "start_time": "2024-02-26T21:45:57.731Z"
   },
   {
    "duration": 216,
    "start_time": "2024-02-26T21:45:58.083Z"
   },
   {
    "duration": 16,
    "start_time": "2024-02-26T21:45:58.301Z"
   },
   {
    "duration": 25,
    "start_time": "2024-02-26T21:45:58.318Z"
   },
   {
    "duration": 31,
    "start_time": "2024-02-26T21:45:58.345Z"
   },
   {
    "duration": 9,
    "start_time": "2024-02-26T21:45:58.377Z"
   },
   {
    "duration": 25,
    "start_time": "2024-02-26T21:45:58.390Z"
   },
   {
    "duration": 14,
    "start_time": "2024-02-26T21:45:58.417Z"
   },
   {
    "duration": 789,
    "start_time": "2024-02-26T21:45:58.433Z"
   },
   {
    "duration": 787,
    "start_time": "2024-02-26T21:45:59.224Z"
   },
   {
    "duration": 12,
    "start_time": "2024-02-26T21:46:00.013Z"
   },
   {
    "duration": 40,
    "start_time": "2024-02-26T21:46:00.026Z"
   },
   {
    "duration": 48,
    "start_time": "2024-02-26T21:46:00.068Z"
   },
   {
    "duration": 17,
    "start_time": "2024-02-26T21:46:00.118Z"
   },
   {
    "duration": 55,
    "start_time": "2024-02-26T21:46:00.136Z"
   },
   {
    "duration": 79,
    "start_time": "2024-02-26T21:46:00.193Z"
   },
   {
    "duration": 91,
    "start_time": "2024-02-26T21:46:00.273Z"
   },
   {
    "duration": 1115,
    "start_time": "2024-02-26T21:46:16.263Z"
   },
   {
    "duration": 194,
    "start_time": "2024-02-26T21:46:17.380Z"
   },
   {
    "duration": 10,
    "start_time": "2024-02-26T21:46:17.575Z"
   },
   {
    "duration": 12,
    "start_time": "2024-02-26T21:46:17.587Z"
   },
   {
    "duration": 13,
    "start_time": "2024-02-26T21:46:17.601Z"
   },
   {
    "duration": 12,
    "start_time": "2024-02-26T21:46:17.616Z"
   },
   {
    "duration": 13,
    "start_time": "2024-02-26T21:46:17.630Z"
   },
   {
    "duration": 9,
    "start_time": "2024-02-26T21:46:17.644Z"
   },
   {
    "duration": 43,
    "start_time": "2024-02-26T21:46:17.666Z"
   },
   {
    "duration": 5,
    "start_time": "2024-02-26T21:46:17.712Z"
   },
   {
    "duration": 14,
    "start_time": "2024-02-26T21:46:17.719Z"
   },
   {
    "duration": 5,
    "start_time": "2024-02-26T21:46:17.734Z"
   },
   {
    "duration": 10,
    "start_time": "2024-02-26T21:46:17.741Z"
   },
   {
    "duration": 6,
    "start_time": "2024-02-26T21:46:17.752Z"
   },
   {
    "duration": 7,
    "start_time": "2024-02-26T21:46:17.759Z"
   },
   {
    "duration": 9,
    "start_time": "2024-02-26T21:46:17.767Z"
   },
   {
    "duration": 19,
    "start_time": "2024-02-26T21:46:17.777Z"
   },
   {
    "duration": 148,
    "start_time": "2024-02-26T21:46:17.797Z"
   },
   {
    "duration": 85,
    "start_time": "2024-02-26T21:46:17.947Z"
   },
   {
    "duration": 270,
    "start_time": "2024-02-26T21:46:18.033Z"
   },
   {
    "duration": 353,
    "start_time": "2024-02-26T21:46:18.305Z"
   },
   {
    "duration": 373,
    "start_time": "2024-02-26T21:46:18.659Z"
   },
   {
    "duration": 224,
    "start_time": "2024-02-26T21:46:19.033Z"
   },
   {
    "duration": 18,
    "start_time": "2024-02-26T21:46:19.258Z"
   },
   {
    "duration": 39,
    "start_time": "2024-02-26T21:46:19.277Z"
   },
   {
    "duration": 14,
    "start_time": "2024-02-26T21:46:19.318Z"
   },
   {
    "duration": 30,
    "start_time": "2024-02-26T21:46:19.334Z"
   },
   {
    "duration": 43,
    "start_time": "2024-02-26T21:46:19.367Z"
   },
   {
    "duration": 30,
    "start_time": "2024-02-26T21:46:19.412Z"
   },
   {
    "duration": 772,
    "start_time": "2024-02-26T21:46:19.443Z"
   },
   {
    "duration": 787,
    "start_time": "2024-02-26T21:46:20.217Z"
   },
   {
    "duration": 12,
    "start_time": "2024-02-26T21:46:21.006Z"
   },
   {
    "duration": 37,
    "start_time": "2024-02-26T21:46:21.020Z"
   },
   {
    "duration": 24,
    "start_time": "2024-02-26T21:46:21.065Z"
   },
   {
    "duration": 18,
    "start_time": "2024-02-26T21:46:21.091Z"
   },
   {
    "duration": 6,
    "start_time": "2024-02-26T21:46:21.110Z"
   },
   {
    "duration": 20,
    "start_time": "2024-02-26T21:46:21.117Z"
   },
   {
    "duration": 28,
    "start_time": "2024-02-26T21:46:21.139Z"
   }
  ],
  "kernelspec": {
   "display_name": "Python 3 (ipykernel)",
   "language": "python",
   "name": "python3"
  },
  "language_info": {
   "codemirror_mode": {
    "name": "ipython",
    "version": 3
   },
   "file_extension": ".py",
   "mimetype": "text/x-python",
   "name": "python",
   "nbconvert_exporter": "python",
   "pygments_lexer": "ipython3",
   "version": "3.11.5"
  },
  "toc": {
   "base_numbering": 1,
   "nav_menu": {
    "height": "425.2px",
    "width": "359.8px"
   },
   "number_sections": true,
   "sideBar": true,
   "skip_h1_title": true,
   "title_cell": "Содержание:",
   "title_sidebar": "Contents",
   "toc_cell": true,
   "toc_position": {
    "height": "calc(100% - 180px)",
    "left": "10px",
    "top": "150px",
    "width": "165px"
   },
   "toc_section_display": true,
   "toc_window_display": true
  }
 },
 "nbformat": 4,
 "nbformat_minor": 5
}
